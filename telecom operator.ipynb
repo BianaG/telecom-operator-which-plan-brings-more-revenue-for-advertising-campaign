{
 "cells": [
  {
   "cell_type": "markdown",
   "metadata": {},
   "source": [
    "# Telecom Operator Project"
   ]
  },
  {
   "cell_type": "markdown",
   "metadata": {},
   "source": [
    "## Introduction\n",
    "\n",
    "In this project, we are going to analyze the data of a telecom operator. The company offers its users two prepaid plans, which we are going to research and determine which one of them brings more revenue to the company. In the end, the findings will help the commercial department to adjust its budget for advertising campaigns on the most profitable plan."
   ]
  },
  {
   "cell_type": "markdown",
   "metadata": {},
   "source": [
    "###  Open the date files and study the general information"
   ]
  },
  {
   "cell_type": "code",
   "execution_count": 1,
   "metadata": {},
   "outputs": [],
   "source": [
    "import pandas as pd\n",
    "import matplotlib.pyplot as plt\n",
    "import numpy as np\n",
    "from scipy import stats as st\n",
    "from functools import reduce\n",
    "import seaborn as sns\n",
    "from scipy.stats import levene"
   ]
  },
  {
   "cell_type": "markdown",
   "metadata": {},
   "source": [
    "Now we will open all of the 5 data files and analyze them to get the first feeling of their content. "
   ]
  },
  {
   "cell_type": "code",
   "execution_count": 2,
   "metadata": {},
   "outputs": [],
   "source": [
    "calls_df = pd.read_csv('telecom_calls.csv')\n",
    "web_df = pd.read_csv('telecom_internet.csv')\n",
    "sms_df = pd.read_csv('telecom_messages.csv')\n",
    "plans_df = pd.read_csv('telecom_plans.csv')\n",
    "users_df = pd.read_csv('telecom_users.csv')"
   ]
  },
  {
   "cell_type": "markdown",
   "metadata": {},
   "source": [
    "*1 calls_df*"
   ]
  },
  {
   "cell_type": "code",
   "execution_count": 3,
   "metadata": {},
   "outputs": [
    {
     "name": "stdout",
     "output_type": "stream",
     "text": [
      "<class 'pandas.core.frame.DataFrame'>\n",
      "RangeIndex: 137735 entries, 0 to 137734\n",
      "Data columns (total 4 columns):\n",
      " #   Column     Non-Null Count   Dtype  \n",
      "---  ------     --------------   -----  \n",
      " 0   id         137735 non-null  object \n",
      " 1   user_id    137735 non-null  int64  \n",
      " 2   call_date  137735 non-null  object \n",
      " 3   duration   137735 non-null  float64\n",
      "dtypes: float64(1), int64(1), object(2)\n",
      "memory usage: 4.2+ MB\n"
     ]
    }
   ],
   "source": [
    "calls_df.info()"
   ]
  },
  {
   "cell_type": "markdown",
   "metadata": {},
   "source": [
    "Here we see instantly that there are no missing values in the calls DataFrame.\n",
    "\n",
    "Also, we see that we have 4 columns and 137,735 rows. "
   ]
  },
  {
   "cell_type": "code",
   "execution_count": 4,
   "metadata": {},
   "outputs": [
    {
     "data": {
      "text/html": [
       "<div>\n",
       "<style scoped>\n",
       "    .dataframe tbody tr th:only-of-type {\n",
       "        vertical-align: middle;\n",
       "    }\n",
       "\n",
       "    .dataframe tbody tr th {\n",
       "        vertical-align: top;\n",
       "    }\n",
       "\n",
       "    .dataframe thead th {\n",
       "        text-align: right;\n",
       "    }\n",
       "</style>\n",
       "<table border=\"1\" class=\"dataframe\">\n",
       "  <thead>\n",
       "    <tr style=\"text-align: right;\">\n",
       "      <th></th>\n",
       "      <th>id</th>\n",
       "      <th>user_id</th>\n",
       "      <th>call_date</th>\n",
       "      <th>duration</th>\n",
       "    </tr>\n",
       "  </thead>\n",
       "  <tbody>\n",
       "    <tr>\n",
       "      <th>0</th>\n",
       "      <td>1000_93</td>\n",
       "      <td>1000</td>\n",
       "      <td>2018-12-27</td>\n",
       "      <td>8.52</td>\n",
       "    </tr>\n",
       "    <tr>\n",
       "      <th>1</th>\n",
       "      <td>1000_145</td>\n",
       "      <td>1000</td>\n",
       "      <td>2018-12-27</td>\n",
       "      <td>13.66</td>\n",
       "    </tr>\n",
       "    <tr>\n",
       "      <th>2</th>\n",
       "      <td>1000_247</td>\n",
       "      <td>1000</td>\n",
       "      <td>2018-12-27</td>\n",
       "      <td>14.48</td>\n",
       "    </tr>\n",
       "    <tr>\n",
       "      <th>3</th>\n",
       "      <td>1000_309</td>\n",
       "      <td>1000</td>\n",
       "      <td>2018-12-28</td>\n",
       "      <td>5.76</td>\n",
       "    </tr>\n",
       "    <tr>\n",
       "      <th>4</th>\n",
       "      <td>1000_380</td>\n",
       "      <td>1000</td>\n",
       "      <td>2018-12-30</td>\n",
       "      <td>4.22</td>\n",
       "    </tr>\n",
       "  </tbody>\n",
       "</table>\n",
       "</div>"
      ],
      "text/plain": [
       "         id  user_id   call_date  duration\n",
       "0   1000_93     1000  2018-12-27      8.52\n",
       "1  1000_145     1000  2018-12-27     13.66\n",
       "2  1000_247     1000  2018-12-27     14.48\n",
       "3  1000_309     1000  2018-12-28      5.76\n",
       "4  1000_380     1000  2018-12-30      4.22"
      ]
     },
     "execution_count": 4,
     "metadata": {},
     "output_type": "execute_result"
    }
   ],
   "source": [
    "calls_df.head()"
   ]
  },
  {
   "cell_type": "markdown",
   "metadata": {},
   "source": [
    "Looking good! \n",
    "\n",
    "Here we see that we need to round the **duration** variable up later on in the analysis procedure."
   ]
  },
  {
   "cell_type": "code",
   "execution_count": 5,
   "metadata": {},
   "outputs": [
    {
     "data": {
      "text/html": [
       "<div>\n",
       "<style scoped>\n",
       "    .dataframe tbody tr th:only-of-type {\n",
       "        vertical-align: middle;\n",
       "    }\n",
       "\n",
       "    .dataframe tbody tr th {\n",
       "        vertical-align: top;\n",
       "    }\n",
       "\n",
       "    .dataframe thead th {\n",
       "        text-align: right;\n",
       "    }\n",
       "</style>\n",
       "<table border=\"1\" class=\"dataframe\">\n",
       "  <thead>\n",
       "    <tr style=\"text-align: right;\">\n",
       "      <th></th>\n",
       "      <th>user_id</th>\n",
       "      <th>duration</th>\n",
       "    </tr>\n",
       "  </thead>\n",
       "  <tbody>\n",
       "    <tr>\n",
       "      <th>count</th>\n",
       "      <td>137735.000000</td>\n",
       "      <td>137735.000000</td>\n",
       "    </tr>\n",
       "    <tr>\n",
       "      <th>mean</th>\n",
       "      <td>1247.658046</td>\n",
       "      <td>6.745927</td>\n",
       "    </tr>\n",
       "    <tr>\n",
       "      <th>std</th>\n",
       "      <td>139.416268</td>\n",
       "      <td>5.839241</td>\n",
       "    </tr>\n",
       "    <tr>\n",
       "      <th>min</th>\n",
       "      <td>1000.000000</td>\n",
       "      <td>0.000000</td>\n",
       "    </tr>\n",
       "    <tr>\n",
       "      <th>25%</th>\n",
       "      <td>1128.000000</td>\n",
       "      <td>1.290000</td>\n",
       "    </tr>\n",
       "    <tr>\n",
       "      <th>50%</th>\n",
       "      <td>1247.000000</td>\n",
       "      <td>5.980000</td>\n",
       "    </tr>\n",
       "    <tr>\n",
       "      <th>75%</th>\n",
       "      <td>1365.000000</td>\n",
       "      <td>10.690000</td>\n",
       "    </tr>\n",
       "    <tr>\n",
       "      <th>max</th>\n",
       "      <td>1499.000000</td>\n",
       "      <td>37.600000</td>\n",
       "    </tr>\n",
       "  </tbody>\n",
       "</table>\n",
       "</div>"
      ],
      "text/plain": [
       "             user_id       duration\n",
       "count  137735.000000  137735.000000\n",
       "mean     1247.658046       6.745927\n",
       "std       139.416268       5.839241\n",
       "min      1000.000000       0.000000\n",
       "25%      1128.000000       1.290000\n",
       "50%      1247.000000       5.980000\n",
       "75%      1365.000000      10.690000\n",
       "max      1499.000000      37.600000"
      ]
     },
     "execution_count": 5,
     "metadata": {},
     "output_type": "execute_result"
    }
   ],
   "source": [
    "calls_df.describe()"
   ]
  },
  {
   "cell_type": "markdown",
   "metadata": {},
   "source": [
    "So here we see that there are calls that lasted 0 minutes. We will investigate it later on and decide what to do. \n",
    "(There is not much sense in the statistics of the **user_id** column, but just in case we concluded it in the describe method.) "
   ]
  },
  {
   "cell_type": "markdown",
   "metadata": {},
   "source": [
    "*2 web_df*"
   ]
  },
  {
   "cell_type": "code",
   "execution_count": 6,
   "metadata": {},
   "outputs": [
    {
     "name": "stdout",
     "output_type": "stream",
     "text": [
      "<class 'pandas.core.frame.DataFrame'>\n",
      "RangeIndex: 104825 entries, 0 to 104824\n",
      "Data columns (total 4 columns):\n",
      " #   Column        Non-Null Count   Dtype  \n",
      "---  ------        --------------   -----  \n",
      " 0   id            104825 non-null  object \n",
      " 1   user_id       104825 non-null  int64  \n",
      " 2   session_date  104825 non-null  object \n",
      " 3   mb_used       104825 non-null  float64\n",
      "dtypes: float64(1), int64(1), object(2)\n",
      "memory usage: 3.2+ MB\n"
     ]
    }
   ],
   "source": [
    "web_df.info()"
   ]
  },
  {
   "cell_type": "markdown",
   "metadata": {},
   "source": [
    "There are no missing values in the web DataFrame also.\n",
    "\n",
    "Also, we see that we have 4 columns and 104,825 rows."
   ]
  },
  {
   "cell_type": "code",
   "execution_count": 7,
   "metadata": {},
   "outputs": [
    {
     "data": {
      "text/html": [
       "<div>\n",
       "<style scoped>\n",
       "    .dataframe tbody tr th:only-of-type {\n",
       "        vertical-align: middle;\n",
       "    }\n",
       "\n",
       "    .dataframe tbody tr th {\n",
       "        vertical-align: top;\n",
       "    }\n",
       "\n",
       "    .dataframe thead th {\n",
       "        text-align: right;\n",
       "    }\n",
       "</style>\n",
       "<table border=\"1\" class=\"dataframe\">\n",
       "  <thead>\n",
       "    <tr style=\"text-align: right;\">\n",
       "      <th></th>\n",
       "      <th>id</th>\n",
       "      <th>user_id</th>\n",
       "      <th>session_date</th>\n",
       "      <th>mb_used</th>\n",
       "    </tr>\n",
       "  </thead>\n",
       "  <tbody>\n",
       "    <tr>\n",
       "      <th>0</th>\n",
       "      <td>1000_13</td>\n",
       "      <td>1000</td>\n",
       "      <td>2018-12-29</td>\n",
       "      <td>89.86</td>\n",
       "    </tr>\n",
       "    <tr>\n",
       "      <th>1</th>\n",
       "      <td>1000_204</td>\n",
       "      <td>1000</td>\n",
       "      <td>2018-12-31</td>\n",
       "      <td>0.00</td>\n",
       "    </tr>\n",
       "    <tr>\n",
       "      <th>2</th>\n",
       "      <td>1000_379</td>\n",
       "      <td>1000</td>\n",
       "      <td>2018-12-28</td>\n",
       "      <td>660.40</td>\n",
       "    </tr>\n",
       "    <tr>\n",
       "      <th>3</th>\n",
       "      <td>1000_413</td>\n",
       "      <td>1000</td>\n",
       "      <td>2018-12-26</td>\n",
       "      <td>270.99</td>\n",
       "    </tr>\n",
       "    <tr>\n",
       "      <th>4</th>\n",
       "      <td>1000_442</td>\n",
       "      <td>1000</td>\n",
       "      <td>2018-12-27</td>\n",
       "      <td>880.22</td>\n",
       "    </tr>\n",
       "  </tbody>\n",
       "</table>\n",
       "</div>"
      ],
      "text/plain": [
       "         id  user_id session_date  mb_used\n",
       "0   1000_13     1000   2018-12-29    89.86\n",
       "1  1000_204     1000   2018-12-31     0.00\n",
       "2  1000_379     1000   2018-12-28   660.40\n",
       "3  1000_413     1000   2018-12-26   270.99\n",
       "4  1000_442     1000   2018-12-27   880.22"
      ]
     },
     "execution_count": 7,
     "metadata": {},
     "output_type": "execute_result"
    }
   ],
   "source": [
    "web_df.head()"
   ]
  },
  {
   "cell_type": "markdown",
   "metadata": {},
   "source": [
    "We see here that there are 0 megabytes used. We will investigate further on and determine what to do with these values. Also, we need to remember to sum all the web traffic per month and round it up."
   ]
  },
  {
   "cell_type": "code",
   "execution_count": 8,
   "metadata": {},
   "outputs": [
    {
     "data": {
      "text/html": [
       "<div>\n",
       "<style scoped>\n",
       "    .dataframe tbody tr th:only-of-type {\n",
       "        vertical-align: middle;\n",
       "    }\n",
       "\n",
       "    .dataframe tbody tr th {\n",
       "        vertical-align: top;\n",
       "    }\n",
       "\n",
       "    .dataframe thead th {\n",
       "        text-align: right;\n",
       "    }\n",
       "</style>\n",
       "<table border=\"1\" class=\"dataframe\">\n",
       "  <thead>\n",
       "    <tr style=\"text-align: right;\">\n",
       "      <th></th>\n",
       "      <th>user_id</th>\n",
       "      <th>mb_used</th>\n",
       "    </tr>\n",
       "  </thead>\n",
       "  <tbody>\n",
       "    <tr>\n",
       "      <th>count</th>\n",
       "      <td>104825.000000</td>\n",
       "      <td>104825.000000</td>\n",
       "    </tr>\n",
       "    <tr>\n",
       "      <th>mean</th>\n",
       "      <td>1242.496361</td>\n",
       "      <td>366.713701</td>\n",
       "    </tr>\n",
       "    <tr>\n",
       "      <th>std</th>\n",
       "      <td>142.053913</td>\n",
       "      <td>277.170542</td>\n",
       "    </tr>\n",
       "    <tr>\n",
       "      <th>min</th>\n",
       "      <td>1000.000000</td>\n",
       "      <td>0.000000</td>\n",
       "    </tr>\n",
       "    <tr>\n",
       "      <th>25%</th>\n",
       "      <td>1122.000000</td>\n",
       "      <td>136.080000</td>\n",
       "    </tr>\n",
       "    <tr>\n",
       "      <th>50%</th>\n",
       "      <td>1236.000000</td>\n",
       "      <td>343.980000</td>\n",
       "    </tr>\n",
       "    <tr>\n",
       "      <th>75%</th>\n",
       "      <td>1367.000000</td>\n",
       "      <td>554.610000</td>\n",
       "    </tr>\n",
       "    <tr>\n",
       "      <th>max</th>\n",
       "      <td>1499.000000</td>\n",
       "      <td>1693.470000</td>\n",
       "    </tr>\n",
       "  </tbody>\n",
       "</table>\n",
       "</div>"
      ],
      "text/plain": [
       "             user_id        mb_used\n",
       "count  104825.000000  104825.000000\n",
       "mean     1242.496361     366.713701\n",
       "std       142.053913     277.170542\n",
       "min      1000.000000       0.000000\n",
       "25%      1122.000000     136.080000\n",
       "50%      1236.000000     343.980000\n",
       "75%      1367.000000     554.610000\n",
       "max      1499.000000    1693.470000"
      ]
     },
     "execution_count": 8,
     "metadata": {},
     "output_type": "execute_result"
    }
   ],
   "source": [
    "web_df.describe()"
   ]
  },
  {
   "cell_type": "markdown",
   "metadata": {},
   "source": [
    "As we noticed in the previous stage there are 0 megabytes that were used. We will check it. "
   ]
  },
  {
   "cell_type": "markdown",
   "metadata": {},
   "source": [
    "*3 sms_df*"
   ]
  },
  {
   "cell_type": "code",
   "execution_count": 9,
   "metadata": {},
   "outputs": [
    {
     "name": "stdout",
     "output_type": "stream",
     "text": [
      "<class 'pandas.core.frame.DataFrame'>\n",
      "RangeIndex: 76051 entries, 0 to 76050\n",
      "Data columns (total 3 columns):\n",
      " #   Column        Non-Null Count  Dtype \n",
      "---  ------        --------------  ----- \n",
      " 0   id            76051 non-null  object\n",
      " 1   user_id       76051 non-null  int64 \n",
      " 2   message_date  76051 non-null  object\n",
      "dtypes: int64(1), object(2)\n",
      "memory usage: 1.7+ MB\n"
     ]
    }
   ],
   "source": [
    "sms_df.info()"
   ]
  },
  {
   "cell_type": "markdown",
   "metadata": {},
   "source": [
    "I feel like it's my lucky day - no missing values!\n",
    "\n",
    "Also, we see that we have 3 columns and 76,051 rows. "
   ]
  },
  {
   "cell_type": "code",
   "execution_count": 10,
   "metadata": {},
   "outputs": [
    {
     "data": {
      "text/html": [
       "<div>\n",
       "<style scoped>\n",
       "    .dataframe tbody tr th:only-of-type {\n",
       "        vertical-align: middle;\n",
       "    }\n",
       "\n",
       "    .dataframe tbody tr th {\n",
       "        vertical-align: top;\n",
       "    }\n",
       "\n",
       "    .dataframe thead th {\n",
       "        text-align: right;\n",
       "    }\n",
       "</style>\n",
       "<table border=\"1\" class=\"dataframe\">\n",
       "  <thead>\n",
       "    <tr style=\"text-align: right;\">\n",
       "      <th></th>\n",
       "      <th>id</th>\n",
       "      <th>user_id</th>\n",
       "      <th>message_date</th>\n",
       "    </tr>\n",
       "  </thead>\n",
       "  <tbody>\n",
       "    <tr>\n",
       "      <th>0</th>\n",
       "      <td>1000_125</td>\n",
       "      <td>1000</td>\n",
       "      <td>2018-12-27</td>\n",
       "    </tr>\n",
       "    <tr>\n",
       "      <th>1</th>\n",
       "      <td>1000_160</td>\n",
       "      <td>1000</td>\n",
       "      <td>2018-12-31</td>\n",
       "    </tr>\n",
       "    <tr>\n",
       "      <th>2</th>\n",
       "      <td>1000_223</td>\n",
       "      <td>1000</td>\n",
       "      <td>2018-12-31</td>\n",
       "    </tr>\n",
       "    <tr>\n",
       "      <th>3</th>\n",
       "      <td>1000_251</td>\n",
       "      <td>1000</td>\n",
       "      <td>2018-12-27</td>\n",
       "    </tr>\n",
       "    <tr>\n",
       "      <th>4</th>\n",
       "      <td>1000_255</td>\n",
       "      <td>1000</td>\n",
       "      <td>2018-12-26</td>\n",
       "    </tr>\n",
       "  </tbody>\n",
       "</table>\n",
       "</div>"
      ],
      "text/plain": [
       "         id  user_id message_date\n",
       "0  1000_125     1000   2018-12-27\n",
       "1  1000_160     1000   2018-12-31\n",
       "2  1000_223     1000   2018-12-31\n",
       "3  1000_251     1000   2018-12-27\n",
       "4  1000_255     1000   2018-12-26"
      ]
     },
     "execution_count": 10,
     "metadata": {},
     "output_type": "execute_result"
    }
   ],
   "source": [
    "sms_df.head()"
   ]
  },
  {
   "cell_type": "markdown",
   "metadata": {},
   "source": [
    "Looking good!\n",
    "\n",
    "For this DataFrame there is no point in calling the describe method."
   ]
  },
  {
   "cell_type": "markdown",
   "metadata": {},
   "source": [
    "*4 plans_df*"
   ]
  },
  {
   "cell_type": "code",
   "execution_count": 11,
   "metadata": {},
   "outputs": [
    {
     "name": "stdout",
     "output_type": "stream",
     "text": [
      "<class 'pandas.core.frame.DataFrame'>\n",
      "RangeIndex: 2 entries, 0 to 1\n",
      "Data columns (total 8 columns):\n",
      " #   Column                 Non-Null Count  Dtype  \n",
      "---  ------                 --------------  -----  \n",
      " 0   messages_included      2 non-null      int64  \n",
      " 1   mb_per_month_included  2 non-null      int64  \n",
      " 2   minutes_included       2 non-null      int64  \n",
      " 3   usd_monthly_pay        2 non-null      int64  \n",
      " 4   usd_per_gb             2 non-null      int64  \n",
      " 5   usd_per_message        2 non-null      float64\n",
      " 6   usd_per_minute         2 non-null      float64\n",
      " 7   plan_name              2 non-null      object \n",
      "dtypes: float64(2), int64(5), object(1)\n",
      "memory usage: 256.0+ bytes\n"
     ]
    }
   ],
   "source": [
    "plans_df.info()"
   ]
  },
  {
   "cell_type": "markdown",
   "metadata": {},
   "source": [
    "No missing values! \n",
    "\n",
    "We also see that this DataFrame has only 2 rows and 8 columns."
   ]
  },
  {
   "cell_type": "code",
   "execution_count": 12,
   "metadata": {},
   "outputs": [
    {
     "data": {
      "text/html": [
       "<div>\n",
       "<style scoped>\n",
       "    .dataframe tbody tr th:only-of-type {\n",
       "        vertical-align: middle;\n",
       "    }\n",
       "\n",
       "    .dataframe tbody tr th {\n",
       "        vertical-align: top;\n",
       "    }\n",
       "\n",
       "    .dataframe thead th {\n",
       "        text-align: right;\n",
       "    }\n",
       "</style>\n",
       "<table border=\"1\" class=\"dataframe\">\n",
       "  <thead>\n",
       "    <tr style=\"text-align: right;\">\n",
       "      <th></th>\n",
       "      <th>messages_included</th>\n",
       "      <th>mb_per_month_included</th>\n",
       "      <th>minutes_included</th>\n",
       "      <th>usd_monthly_pay</th>\n",
       "      <th>usd_per_gb</th>\n",
       "      <th>usd_per_message</th>\n",
       "      <th>usd_per_minute</th>\n",
       "      <th>plan_name</th>\n",
       "    </tr>\n",
       "  </thead>\n",
       "  <tbody>\n",
       "    <tr>\n",
       "      <th>0</th>\n",
       "      <td>50</td>\n",
       "      <td>15360</td>\n",
       "      <td>500</td>\n",
       "      <td>20</td>\n",
       "      <td>10</td>\n",
       "      <td>0.03</td>\n",
       "      <td>0.03</td>\n",
       "      <td>surf</td>\n",
       "    </tr>\n",
       "    <tr>\n",
       "      <th>1</th>\n",
       "      <td>1000</td>\n",
       "      <td>30720</td>\n",
       "      <td>3000</td>\n",
       "      <td>70</td>\n",
       "      <td>7</td>\n",
       "      <td>0.01</td>\n",
       "      <td>0.01</td>\n",
       "      <td>ultimate</td>\n",
       "    </tr>\n",
       "  </tbody>\n",
       "</table>\n",
       "</div>"
      ],
      "text/plain": [
       "   messages_included  mb_per_month_included  minutes_included  \\\n",
       "0                 50                  15360               500   \n",
       "1               1000                  30720              3000   \n",
       "\n",
       "   usd_monthly_pay  usd_per_gb  usd_per_message  usd_per_minute plan_name  \n",
       "0               20          10             0.03            0.03      surf  \n",
       "1               70           7             0.01            0.01  ultimate  "
      ]
     },
     "execution_count": 12,
     "metadata": {},
     "output_type": "execute_result"
    }
   ],
   "source": [
    "plans_df.head()"
   ]
  },
  {
   "cell_type": "markdown",
   "metadata": {},
   "source": [
    "As we found earlier there are only 2 rows. Each row represents one of the plans with the monthly fees for each plan. "
   ]
  },
  {
   "cell_type": "markdown",
   "metadata": {},
   "source": [
    "For this DataFrame there is also no point in calling the describe method."
   ]
  },
  {
   "cell_type": "markdown",
   "metadata": {},
   "source": [
    "*5 users_df*"
   ]
  },
  {
   "cell_type": "code",
   "execution_count": 13,
   "metadata": {},
   "outputs": [
    {
     "name": "stdout",
     "output_type": "stream",
     "text": [
      "<class 'pandas.core.frame.DataFrame'>\n",
      "RangeIndex: 500 entries, 0 to 499\n",
      "Data columns (total 8 columns):\n",
      " #   Column      Non-Null Count  Dtype \n",
      "---  ------      --------------  ----- \n",
      " 0   user_id     500 non-null    int64 \n",
      " 1   first_name  500 non-null    object\n",
      " 2   last_name   500 non-null    object\n",
      " 3   age         500 non-null    int64 \n",
      " 4   city        500 non-null    object\n",
      " 5   reg_date    500 non-null    object\n",
      " 6   plan        500 non-null    object\n",
      " 7   churn_date  34 non-null     object\n",
      "dtypes: int64(2), object(6)\n",
      "memory usage: 31.4+ KB\n"
     ]
    }
   ],
   "source": [
    "users_df.info()"
   ]
  },
  {
   "cell_type": "markdown",
   "metadata": {},
   "source": [
    "Here we see that there are missing values in the **churn_date** column. We don't need this variable for our analysis, so it's not so bad.\n",
    "\n",
    "Also, we see that there are 500 rows and 8 columns for this DataFrame. 500 rows for the 500 clients."
   ]
  },
  {
   "cell_type": "code",
   "execution_count": 14,
   "metadata": {},
   "outputs": [
    {
     "data": {
      "text/html": [
       "<div>\n",
       "<style scoped>\n",
       "    .dataframe tbody tr th:only-of-type {\n",
       "        vertical-align: middle;\n",
       "    }\n",
       "\n",
       "    .dataframe tbody tr th {\n",
       "        vertical-align: top;\n",
       "    }\n",
       "\n",
       "    .dataframe thead th {\n",
       "        text-align: right;\n",
       "    }\n",
       "</style>\n",
       "<table border=\"1\" class=\"dataframe\">\n",
       "  <thead>\n",
       "    <tr style=\"text-align: right;\">\n",
       "      <th></th>\n",
       "      <th>user_id</th>\n",
       "      <th>first_name</th>\n",
       "      <th>last_name</th>\n",
       "      <th>age</th>\n",
       "      <th>city</th>\n",
       "      <th>reg_date</th>\n",
       "      <th>plan</th>\n",
       "      <th>churn_date</th>\n",
       "    </tr>\n",
       "  </thead>\n",
       "  <tbody>\n",
       "    <tr>\n",
       "      <th>0</th>\n",
       "      <td>1000</td>\n",
       "      <td>Anamaria</td>\n",
       "      <td>Bauer</td>\n",
       "      <td>45</td>\n",
       "      <td>Atlanta-Sandy Springs-Roswell, GA MSA</td>\n",
       "      <td>2018-12-24</td>\n",
       "      <td>ultimate</td>\n",
       "      <td>NaN</td>\n",
       "    </tr>\n",
       "    <tr>\n",
       "      <th>1</th>\n",
       "      <td>1001</td>\n",
       "      <td>Mickey</td>\n",
       "      <td>Wilkerson</td>\n",
       "      <td>28</td>\n",
       "      <td>Seattle-Tacoma-Bellevue, WA MSA</td>\n",
       "      <td>2018-08-13</td>\n",
       "      <td>surf</td>\n",
       "      <td>NaN</td>\n",
       "    </tr>\n",
       "    <tr>\n",
       "      <th>2</th>\n",
       "      <td>1002</td>\n",
       "      <td>Carlee</td>\n",
       "      <td>Hoffman</td>\n",
       "      <td>36</td>\n",
       "      <td>Las Vegas-Henderson-Paradise, NV MSA</td>\n",
       "      <td>2018-10-21</td>\n",
       "      <td>surf</td>\n",
       "      <td>NaN</td>\n",
       "    </tr>\n",
       "    <tr>\n",
       "      <th>3</th>\n",
       "      <td>1003</td>\n",
       "      <td>Reynaldo</td>\n",
       "      <td>Jenkins</td>\n",
       "      <td>52</td>\n",
       "      <td>Tulsa, OK MSA</td>\n",
       "      <td>2018-01-28</td>\n",
       "      <td>surf</td>\n",
       "      <td>NaN</td>\n",
       "    </tr>\n",
       "    <tr>\n",
       "      <th>4</th>\n",
       "      <td>1004</td>\n",
       "      <td>Leonila</td>\n",
       "      <td>Thompson</td>\n",
       "      <td>40</td>\n",
       "      <td>Seattle-Tacoma-Bellevue, WA MSA</td>\n",
       "      <td>2018-05-23</td>\n",
       "      <td>surf</td>\n",
       "      <td>NaN</td>\n",
       "    </tr>\n",
       "  </tbody>\n",
       "</table>\n",
       "</div>"
      ],
      "text/plain": [
       "   user_id first_name  last_name  age                                   city  \\\n",
       "0     1000   Anamaria      Bauer   45  Atlanta-Sandy Springs-Roswell, GA MSA   \n",
       "1     1001     Mickey  Wilkerson   28        Seattle-Tacoma-Bellevue, WA MSA   \n",
       "2     1002     Carlee    Hoffman   36   Las Vegas-Henderson-Paradise, NV MSA   \n",
       "3     1003   Reynaldo    Jenkins   52                          Tulsa, OK MSA   \n",
       "4     1004    Leonila   Thompson   40        Seattle-Tacoma-Bellevue, WA MSA   \n",
       "\n",
       "     reg_date      plan churn_date  \n",
       "0  2018-12-24  ultimate        NaN  \n",
       "1  2018-08-13      surf        NaN  \n",
       "2  2018-10-21      surf        NaN  \n",
       "3  2018-01-28      surf        NaN  \n",
       "4  2018-05-23      surf        NaN  "
      ]
     },
     "execution_count": 14,
     "metadata": {},
     "output_type": "execute_result"
    }
   ],
   "source": [
    "users_df.head()"
   ]
  },
  {
   "cell_type": "markdown",
   "metadata": {},
   "source": [
    "As we found earlier we see that the **churn_date** column has missing values. It's not a big deal since we don't need it for our investigation.  "
   ]
  },
  {
   "cell_type": "code",
   "execution_count": 15,
   "metadata": {},
   "outputs": [
    {
     "data": {
      "text/html": [
       "<div>\n",
       "<style scoped>\n",
       "    .dataframe tbody tr th:only-of-type {\n",
       "        vertical-align: middle;\n",
       "    }\n",
       "\n",
       "    .dataframe tbody tr th {\n",
       "        vertical-align: top;\n",
       "    }\n",
       "\n",
       "    .dataframe thead th {\n",
       "        text-align: right;\n",
       "    }\n",
       "</style>\n",
       "<table border=\"1\" class=\"dataframe\">\n",
       "  <thead>\n",
       "    <tr style=\"text-align: right;\">\n",
       "      <th></th>\n",
       "      <th>user_id</th>\n",
       "      <th>age</th>\n",
       "    </tr>\n",
       "  </thead>\n",
       "  <tbody>\n",
       "    <tr>\n",
       "      <th>count</th>\n",
       "      <td>500.000000</td>\n",
       "      <td>500.000000</td>\n",
       "    </tr>\n",
       "    <tr>\n",
       "      <th>mean</th>\n",
       "      <td>1249.500000</td>\n",
       "      <td>45.486000</td>\n",
       "    </tr>\n",
       "    <tr>\n",
       "      <th>std</th>\n",
       "      <td>144.481833</td>\n",
       "      <td>16.972269</td>\n",
       "    </tr>\n",
       "    <tr>\n",
       "      <th>min</th>\n",
       "      <td>1000.000000</td>\n",
       "      <td>18.000000</td>\n",
       "    </tr>\n",
       "    <tr>\n",
       "      <th>25%</th>\n",
       "      <td>1124.750000</td>\n",
       "      <td>30.000000</td>\n",
       "    </tr>\n",
       "    <tr>\n",
       "      <th>50%</th>\n",
       "      <td>1249.500000</td>\n",
       "      <td>46.000000</td>\n",
       "    </tr>\n",
       "    <tr>\n",
       "      <th>75%</th>\n",
       "      <td>1374.250000</td>\n",
       "      <td>61.000000</td>\n",
       "    </tr>\n",
       "    <tr>\n",
       "      <th>max</th>\n",
       "      <td>1499.000000</td>\n",
       "      <td>75.000000</td>\n",
       "    </tr>\n",
       "  </tbody>\n",
       "</table>\n",
       "</div>"
      ],
      "text/plain": [
       "           user_id         age\n",
       "count   500.000000  500.000000\n",
       "mean   1249.500000   45.486000\n",
       "std     144.481833   16.972269\n",
       "min    1000.000000   18.000000\n",
       "25%    1124.750000   30.000000\n",
       "50%    1249.500000   46.000000\n",
       "75%    1374.250000   61.000000\n",
       "max    1499.000000   75.000000"
      ]
     },
     "execution_count": 15,
     "metadata": {},
     "output_type": "execute_result"
    }
   ],
   "source": [
    "users_df.describe()"
   ]
  },
  {
   "cell_type": "markdown",
   "metadata": {},
   "source": [
    "Here we see the minimum age is 18, and the average age is about 45-46 years old. "
   ]
  },
  {
   "cell_type": "markdown",
   "metadata": {},
   "source": [
    "**Summary**\n",
    "\n",
    "We opened 5 files and examined them. For all the DataFrames we used three main methods to learn about the five different data sets:\n",
    "1. info() method\n",
    "2. head() method\n",
    "3. describe() method (when it was suitable)\n",
    "\n",
    "We discovered that four out of five data sets lack missing values, and only one data set - **users_df** had missing values. But the good news is that we don't need this variable for our analysis, so it doesn't influence and we don't need to take care of it.\n",
    "\n",
    "We noticed that there are calls that lasted 0 seconds and that there are users with 0 web traffic. We will investigate it in the next stage and decide how to treat them. \n",
    "\n",
    "We also saw the youngest clients is 18 years old and the average age of the customers is around 45-46 years old.\n"
   ]
  },
  {
   "cell_type": "markdown",
   "metadata": {},
   "source": [
    "### Preparing the data"
   ]
  },
  {
   "cell_type": "markdown",
   "metadata": {},
   "source": [
    "This stage consists of 3 parts:\n",
    "1. Converting the data to the necessary type.\n",
    "2. Find and eliminate errors in the data.\n",
    "3. Finding for each user:\n",
    "* Number of calls made and minutes used per month.\n",
    "* Number of text messages sent per month.\n",
    "* The volume of data per month.\n",
    "* The monthly revenue. "
   ]
  },
  {
   "cell_type": "markdown",
   "metadata": {},
   "source": [
    "**1. Converting the data**\n",
    "\n",
    "The variables types in all five data sets are characterized correctly, so there is no need to change the data type of any of the variables at this stage. Nevertheless, we will probably change the type to the summaries of the total minutes' calls, messages, and megabytes for faster calculation.  "
   ]
  },
  {
   "cell_type": "markdown",
   "metadata": {},
   "source": [
    "**2. Finding and eliminating errors**\n",
    "\n",
    "We found in the previous stage that there were some calls that last 0 seconds. There are 2 explanations for this:\n",
    "* Maybe it's a missed call.\n",
    "* Maybe it's a very short call that one side just said \"I'll call you back\", and the logs mechanism rounded it down (although the firm rounds the cost up). \n",
    "\n",
    "Let's find out how many calls with a duration of 0 we have."
   ]
  },
  {
   "cell_type": "code",
   "execution_count": 16,
   "metadata": {},
   "outputs": [
    {
     "data": {
      "text/plain": [
       "26834"
      ]
     },
     "execution_count": 16,
     "metadata": {},
     "output_type": "execute_result"
    }
   ],
   "source": [
    "len(calls_df[calls_df['duration'] == 0.00])"
   ]
  },
  {
   "cell_type": "markdown",
   "metadata": {},
   "source": [
    "We have 26,834 calls that lasted 0 seconds. That's actually not informative, so let's check that in percentages. "
   ]
  },
  {
   "cell_type": "code",
   "execution_count": 17,
   "metadata": {},
   "outputs": [
    {
     "data": {
      "text/plain": [
       "0.1948233927469416"
      ]
     },
     "execution_count": 17,
     "metadata": {},
     "output_type": "execute_result"
    }
   ],
   "source": [
    "len(calls_df[calls_df['duration'] == 0.00])/len(calls_df)"
   ]
  },
  {
   "cell_type": "markdown",
   "metadata": {},
   "source": [
    "Almost 20%  - That's a lot! We definitely can't drop them.\n",
    "\n",
    "As we mentioned before, the logical explanation for these values is that it's missed calls or very short calls. So technically these calls happened and they are 'legit' even though they lasted 0 seconds. Therefore we can give them the value 1 instead of 0, and this way the analysis will be more elegant and clean.   "
   ]
  },
  {
   "cell_type": "code",
   "execution_count": 18,
   "metadata": {},
   "outputs": [
    {
     "data": {
      "text/html": [
       "<div>\n",
       "<style scoped>\n",
       "    .dataframe tbody tr th:only-of-type {\n",
       "        vertical-align: middle;\n",
       "    }\n",
       "\n",
       "    .dataframe tbody tr th {\n",
       "        vertical-align: top;\n",
       "    }\n",
       "\n",
       "    .dataframe thead th {\n",
       "        text-align: right;\n",
       "    }\n",
       "</style>\n",
       "<table border=\"1\" class=\"dataframe\">\n",
       "  <thead>\n",
       "    <tr style=\"text-align: right;\">\n",
       "      <th></th>\n",
       "      <th>id</th>\n",
       "      <th>user_id</th>\n",
       "      <th>call_date</th>\n",
       "      <th>duration</th>\n",
       "      <th>duration_new</th>\n",
       "    </tr>\n",
       "  </thead>\n",
       "  <tbody>\n",
       "    <tr>\n",
       "      <th>19</th>\n",
       "      <td>1001_4</td>\n",
       "      <td>1001</td>\n",
       "      <td>2018-12-05</td>\n",
       "      <td>0.0</td>\n",
       "      <td>1.0</td>\n",
       "    </tr>\n",
       "    <tr>\n",
       "      <th>25</th>\n",
       "      <td>1001_13</td>\n",
       "      <td>1001</td>\n",
       "      <td>2018-12-24</td>\n",
       "      <td>0.0</td>\n",
       "      <td>1.0</td>\n",
       "    </tr>\n",
       "    <tr>\n",
       "      <th>31</th>\n",
       "      <td>1001_30</td>\n",
       "      <td>1001</td>\n",
       "      <td>2018-10-17</td>\n",
       "      <td>0.0</td>\n",
       "      <td>1.0</td>\n",
       "    </tr>\n",
       "    <tr>\n",
       "      <th>32</th>\n",
       "      <td>1001_31</td>\n",
       "      <td>1001</td>\n",
       "      <td>2018-11-03</td>\n",
       "      <td>0.0</td>\n",
       "      <td>1.0</td>\n",
       "    </tr>\n",
       "    <tr>\n",
       "      <th>34</th>\n",
       "      <td>1001_35</td>\n",
       "      <td>1001</td>\n",
       "      <td>2018-12-21</td>\n",
       "      <td>0.0</td>\n",
       "      <td>1.0</td>\n",
       "    </tr>\n",
       "  </tbody>\n",
       "</table>\n",
       "</div>"
      ],
      "text/plain": [
       "         id  user_id   call_date  duration  duration_new\n",
       "19   1001_4     1001  2018-12-05       0.0           1.0\n",
       "25  1001_13     1001  2018-12-24       0.0           1.0\n",
       "31  1001_30     1001  2018-10-17       0.0           1.0\n",
       "32  1001_31     1001  2018-11-03       0.0           1.0\n",
       "34  1001_35     1001  2018-12-21       0.0           1.0"
      ]
     },
     "execution_count": 18,
     "metadata": {},
     "output_type": "execute_result"
    }
   ],
   "source": [
    "calls_df['duration_new'] = calls_df['duration'].where(calls_df['duration'] != 0.00, 1.00)\n",
    "calls_df[calls_df['duration'] ==0.00].head()"
   ]
  },
  {
   "cell_type": "code",
   "execution_count": 19,
   "metadata": {},
   "outputs": [
    {
     "data": {
      "text/plain": [
       "26834"
      ]
     },
     "execution_count": 19,
     "metadata": {},
     "output_type": "execute_result"
    }
   ],
   "source": [
    "len(calls_df[calls_df['duration'] ==0.00])"
   ]
  },
  {
   "cell_type": "markdown",
   "metadata": {},
   "source": [
    "We see that the number that we got above is equal to the number of 0 values - the change succeeded!"
   ]
  },
  {
   "cell_type": "markdown",
   "metadata": {},
   "source": [
    "We also saw that there are 0 used megabytes in the internet traffic. Let's check how many such values we have."
   ]
  },
  {
   "cell_type": "code",
   "execution_count": 20,
   "metadata": {},
   "outputs": [
    {
     "data": {
      "text/plain": [
       "13747"
      ]
     },
     "execution_count": 20,
     "metadata": {},
     "output_type": "execute_result"
    }
   ],
   "source": [
    "len(web_df[web_df['mb_used'] == 0.00])"
   ]
  },
  {
   "cell_type": "markdown",
   "metadata": {},
   "source": [
    "And now in percentages."
   ]
  },
  {
   "cell_type": "code",
   "execution_count": 21,
   "metadata": {},
   "outputs": [
    {
     "data": {
      "text/plain": [
       "0.1311423801574052"
      ]
     },
     "execution_count": 21,
     "metadata": {},
     "output_type": "execute_result"
    }
   ],
   "source": [
    "len(web_df[web_df['mb_used'] == 0.00])/len(web_df)"
   ]
  },
  {
   "cell_type": "markdown",
   "metadata": {},
   "source": [
    "We have 13%  - That's also a lot!\n",
    "\n",
    "We can't delete them. \n",
    "\n",
    "A logical explanation for these values to accrue is that maybe those users used so little of the web traffic that the logs mechanism rounded it down (although the firm rounds the cost up). Another explanation is that those users didn't use the web services even though they were included in the plan (old people for example or clients that went abroad to developing countries that don't always have internet infrastructure). So, as we did with the calls that lasted 0 seconds, we will change the 0 values to 1 for a more neat and accurate analysis.  "
   ]
  },
  {
   "cell_type": "code",
   "execution_count": 22,
   "metadata": {},
   "outputs": [
    {
     "data": {
      "text/html": [
       "<div>\n",
       "<style scoped>\n",
       "    .dataframe tbody tr th:only-of-type {\n",
       "        vertical-align: middle;\n",
       "    }\n",
       "\n",
       "    .dataframe tbody tr th {\n",
       "        vertical-align: top;\n",
       "    }\n",
       "\n",
       "    .dataframe thead th {\n",
       "        text-align: right;\n",
       "    }\n",
       "</style>\n",
       "<table border=\"1\" class=\"dataframe\">\n",
       "  <thead>\n",
       "    <tr style=\"text-align: right;\">\n",
       "      <th></th>\n",
       "      <th>id</th>\n",
       "      <th>user_id</th>\n",
       "      <th>session_date</th>\n",
       "      <th>mb_used</th>\n",
       "      <th>mb_used_new</th>\n",
       "    </tr>\n",
       "  </thead>\n",
       "  <tbody>\n",
       "    <tr>\n",
       "      <th>0</th>\n",
       "      <td>1000_13</td>\n",
       "      <td>1000</td>\n",
       "      <td>2018-12-29</td>\n",
       "      <td>89.86</td>\n",
       "      <td>89.86</td>\n",
       "    </tr>\n",
       "    <tr>\n",
       "      <th>1</th>\n",
       "      <td>1000_204</td>\n",
       "      <td>1000</td>\n",
       "      <td>2018-12-31</td>\n",
       "      <td>0.00</td>\n",
       "      <td>1.00</td>\n",
       "    </tr>\n",
       "    <tr>\n",
       "      <th>2</th>\n",
       "      <td>1000_379</td>\n",
       "      <td>1000</td>\n",
       "      <td>2018-12-28</td>\n",
       "      <td>660.40</td>\n",
       "      <td>660.40</td>\n",
       "    </tr>\n",
       "    <tr>\n",
       "      <th>3</th>\n",
       "      <td>1000_413</td>\n",
       "      <td>1000</td>\n",
       "      <td>2018-12-26</td>\n",
       "      <td>270.99</td>\n",
       "      <td>270.99</td>\n",
       "    </tr>\n",
       "    <tr>\n",
       "      <th>4</th>\n",
       "      <td>1000_442</td>\n",
       "      <td>1000</td>\n",
       "      <td>2018-12-27</td>\n",
       "      <td>880.22</td>\n",
       "      <td>880.22</td>\n",
       "    </tr>\n",
       "  </tbody>\n",
       "</table>\n",
       "</div>"
      ],
      "text/plain": [
       "         id  user_id session_date  mb_used  mb_used_new\n",
       "0   1000_13     1000   2018-12-29    89.86        89.86\n",
       "1  1000_204     1000   2018-12-31     0.00         1.00\n",
       "2  1000_379     1000   2018-12-28   660.40       660.40\n",
       "3  1000_413     1000   2018-12-26   270.99       270.99\n",
       "4  1000_442     1000   2018-12-27   880.22       880.22"
      ]
     },
     "execution_count": 22,
     "metadata": {},
     "output_type": "execute_result"
    }
   ],
   "source": [
    "web_df['mb_used_new'] = web_df['mb_used'].where(web_df['mb_used'] != 0.00, 1.00)\n",
    "web_df.head()"
   ]
  },
  {
   "cell_type": "code",
   "execution_count": 23,
   "metadata": {},
   "outputs": [
    {
     "data": {
      "text/plain": [
       "13747"
      ]
     },
     "execution_count": 23,
     "metadata": {},
     "output_type": "execute_result"
    }
   ],
   "source": [
    "len(web_df[web_df['mb_used'] ==0.00])"
   ]
  },
  {
   "cell_type": "markdown",
   "metadata": {},
   "source": [
    "It's the same amount that was found in the previous stage - the change was done successfully. "
   ]
  },
  {
   "cell_type": "markdown",
   "metadata": {},
   "source": [
    "**3.A. For each user: Number of calls made and minutes used per month.**"
   ]
  },
  {
   "cell_type": "markdown",
   "metadata": {},
   "source": [
    "First, let's create a month column and use the to_datetime and dt.month_name() methods for it.  "
   ]
  },
  {
   "cell_type": "code",
   "execution_count": 24,
   "metadata": {},
   "outputs": [
    {
     "data": {
      "text/html": [
       "<div>\n",
       "<style scoped>\n",
       "    .dataframe tbody tr th:only-of-type {\n",
       "        vertical-align: middle;\n",
       "    }\n",
       "\n",
       "    .dataframe tbody tr th {\n",
       "        vertical-align: top;\n",
       "    }\n",
       "\n",
       "    .dataframe thead th {\n",
       "        text-align: right;\n",
       "    }\n",
       "</style>\n",
       "<table border=\"1\" class=\"dataframe\">\n",
       "  <thead>\n",
       "    <tr style=\"text-align: right;\">\n",
       "      <th></th>\n",
       "      <th>id</th>\n",
       "      <th>user_id</th>\n",
       "      <th>call_date</th>\n",
       "      <th>duration</th>\n",
       "      <th>duration_new</th>\n",
       "      <th>month</th>\n",
       "    </tr>\n",
       "  </thead>\n",
       "  <tbody>\n",
       "    <tr>\n",
       "      <th>0</th>\n",
       "      <td>1000_93</td>\n",
       "      <td>1000</td>\n",
       "      <td>2018-12-27</td>\n",
       "      <td>8.52</td>\n",
       "      <td>8.52</td>\n",
       "      <td>December</td>\n",
       "    </tr>\n",
       "    <tr>\n",
       "      <th>1</th>\n",
       "      <td>1000_145</td>\n",
       "      <td>1000</td>\n",
       "      <td>2018-12-27</td>\n",
       "      <td>13.66</td>\n",
       "      <td>13.66</td>\n",
       "      <td>December</td>\n",
       "    </tr>\n",
       "    <tr>\n",
       "      <th>2</th>\n",
       "      <td>1000_247</td>\n",
       "      <td>1000</td>\n",
       "      <td>2018-12-27</td>\n",
       "      <td>14.48</td>\n",
       "      <td>14.48</td>\n",
       "      <td>December</td>\n",
       "    </tr>\n",
       "    <tr>\n",
       "      <th>3</th>\n",
       "      <td>1000_309</td>\n",
       "      <td>1000</td>\n",
       "      <td>2018-12-28</td>\n",
       "      <td>5.76</td>\n",
       "      <td>5.76</td>\n",
       "      <td>December</td>\n",
       "    </tr>\n",
       "    <tr>\n",
       "      <th>4</th>\n",
       "      <td>1000_380</td>\n",
       "      <td>1000</td>\n",
       "      <td>2018-12-30</td>\n",
       "      <td>4.22</td>\n",
       "      <td>4.22</td>\n",
       "      <td>December</td>\n",
       "    </tr>\n",
       "  </tbody>\n",
       "</table>\n",
       "</div>"
      ],
      "text/plain": [
       "         id  user_id   call_date  duration  duration_new     month\n",
       "0   1000_93     1000  2018-12-27      8.52          8.52  December\n",
       "1  1000_145     1000  2018-12-27     13.66         13.66  December\n",
       "2  1000_247     1000  2018-12-27     14.48         14.48  December\n",
       "3  1000_309     1000  2018-12-28      5.76          5.76  December\n",
       "4  1000_380     1000  2018-12-30      4.22          4.22  December"
      ]
     },
     "execution_count": 24,
     "metadata": {},
     "output_type": "execute_result"
    }
   ],
   "source": [
    "calls_df['month'] = pd.to_datetime(calls_df['call_date']).dt.month_name()\n",
    "calls_df.head()"
   ]
  },
  {
   "cell_type": "markdown",
   "metadata": {},
   "source": [
    "Now let's round the duration of the calls up. For that, we will use the ceil() method. 👆"
   ]
  },
  {
   "cell_type": "code",
   "execution_count": 25,
   "metadata": {},
   "outputs": [
    {
     "data": {
      "text/html": [
       "<div>\n",
       "<style scoped>\n",
       "    .dataframe tbody tr th:only-of-type {\n",
       "        vertical-align: middle;\n",
       "    }\n",
       "\n",
       "    .dataframe tbody tr th {\n",
       "        vertical-align: top;\n",
       "    }\n",
       "\n",
       "    .dataframe thead th {\n",
       "        text-align: right;\n",
       "    }\n",
       "</style>\n",
       "<table border=\"1\" class=\"dataframe\">\n",
       "  <thead>\n",
       "    <tr style=\"text-align: right;\">\n",
       "      <th></th>\n",
       "      <th>id</th>\n",
       "      <th>user_id</th>\n",
       "      <th>call_date</th>\n",
       "      <th>duration</th>\n",
       "      <th>duration_new</th>\n",
       "      <th>month</th>\n",
       "    </tr>\n",
       "  </thead>\n",
       "  <tbody>\n",
       "    <tr>\n",
       "      <th>0</th>\n",
       "      <td>1000_93</td>\n",
       "      <td>1000</td>\n",
       "      <td>2018-12-27</td>\n",
       "      <td>8.52</td>\n",
       "      <td>9.0</td>\n",
       "      <td>December</td>\n",
       "    </tr>\n",
       "    <tr>\n",
       "      <th>1</th>\n",
       "      <td>1000_145</td>\n",
       "      <td>1000</td>\n",
       "      <td>2018-12-27</td>\n",
       "      <td>13.66</td>\n",
       "      <td>14.0</td>\n",
       "      <td>December</td>\n",
       "    </tr>\n",
       "    <tr>\n",
       "      <th>2</th>\n",
       "      <td>1000_247</td>\n",
       "      <td>1000</td>\n",
       "      <td>2018-12-27</td>\n",
       "      <td>14.48</td>\n",
       "      <td>15.0</td>\n",
       "      <td>December</td>\n",
       "    </tr>\n",
       "    <tr>\n",
       "      <th>3</th>\n",
       "      <td>1000_309</td>\n",
       "      <td>1000</td>\n",
       "      <td>2018-12-28</td>\n",
       "      <td>5.76</td>\n",
       "      <td>6.0</td>\n",
       "      <td>December</td>\n",
       "    </tr>\n",
       "    <tr>\n",
       "      <th>4</th>\n",
       "      <td>1000_380</td>\n",
       "      <td>1000</td>\n",
       "      <td>2018-12-30</td>\n",
       "      <td>4.22</td>\n",
       "      <td>5.0</td>\n",
       "      <td>December</td>\n",
       "    </tr>\n",
       "  </tbody>\n",
       "</table>\n",
       "</div>"
      ],
      "text/plain": [
       "         id  user_id   call_date  duration  duration_new     month\n",
       "0   1000_93     1000  2018-12-27      8.52           9.0  December\n",
       "1  1000_145     1000  2018-12-27     13.66          14.0  December\n",
       "2  1000_247     1000  2018-12-27     14.48          15.0  December\n",
       "3  1000_309     1000  2018-12-28      5.76           6.0  December\n",
       "4  1000_380     1000  2018-12-30      4.22           5.0  December"
      ]
     },
     "execution_count": 25,
     "metadata": {},
     "output_type": "execute_result"
    }
   ],
   "source": [
    "calls_df['duration_new'] = np.ceil(calls_df['duration_new'])\n",
    "calls_df.head()"
   ]
  },
  {
   "cell_type": "markdown",
   "metadata": {},
   "source": [
    "Looking good! \n",
    "\n",
    "Now we will group the data by the **user_id** and **month** columns and see how many calls and minutes each user made in every month. We will use the groupby() method with named aggregation for that."
   ]
  },
  {
   "cell_type": "code",
   "execution_count": 26,
   "metadata": {},
   "outputs": [
    {
     "data": {
      "text/html": [
       "<div>\n",
       "<style scoped>\n",
       "    .dataframe tbody tr th:only-of-type {\n",
       "        vertical-align: middle;\n",
       "    }\n",
       "\n",
       "    .dataframe tbody tr th {\n",
       "        vertical-align: top;\n",
       "    }\n",
       "\n",
       "    .dataframe thead th {\n",
       "        text-align: right;\n",
       "    }\n",
       "</style>\n",
       "<table border=\"1\" class=\"dataframe\">\n",
       "  <thead>\n",
       "    <tr style=\"text-align: right;\">\n",
       "      <th></th>\n",
       "      <th>user_id</th>\n",
       "      <th>month</th>\n",
       "      <th>duration</th>\n",
       "      <th>num_calls</th>\n",
       "    </tr>\n",
       "  </thead>\n",
       "  <tbody>\n",
       "    <tr>\n",
       "      <th>0</th>\n",
       "      <td>1000</td>\n",
       "      <td>December</td>\n",
       "      <td>124</td>\n",
       "      <td>16</td>\n",
       "    </tr>\n",
       "    <tr>\n",
       "      <th>1</th>\n",
       "      <td>1001</td>\n",
       "      <td>August</td>\n",
       "      <td>187</td>\n",
       "      <td>27</td>\n",
       "    </tr>\n",
       "    <tr>\n",
       "      <th>2</th>\n",
       "      <td>1001</td>\n",
       "      <td>December</td>\n",
       "      <td>422</td>\n",
       "      <td>56</td>\n",
       "    </tr>\n",
       "    <tr>\n",
       "      <th>3</th>\n",
       "      <td>1001</td>\n",
       "      <td>November</td>\n",
       "      <td>441</td>\n",
       "      <td>64</td>\n",
       "    </tr>\n",
       "    <tr>\n",
       "      <th>4</th>\n",
       "      <td>1001</td>\n",
       "      <td>October</td>\n",
       "      <td>411</td>\n",
       "      <td>65</td>\n",
       "    </tr>\n",
       "    <tr>\n",
       "      <th>5</th>\n",
       "      <td>1001</td>\n",
       "      <td>September</td>\n",
       "      <td>326</td>\n",
       "      <td>49</td>\n",
       "    </tr>\n",
       "    <tr>\n",
       "      <th>6</th>\n",
       "      <td>1002</td>\n",
       "      <td>December</td>\n",
       "      <td>393</td>\n",
       "      <td>47</td>\n",
       "    </tr>\n",
       "    <tr>\n",
       "      <th>7</th>\n",
       "      <td>1002</td>\n",
       "      <td>November</td>\n",
       "      <td>393</td>\n",
       "      <td>55</td>\n",
       "    </tr>\n",
       "    <tr>\n",
       "      <th>8</th>\n",
       "      <td>1002</td>\n",
       "      <td>October</td>\n",
       "      <td>62</td>\n",
       "      <td>11</td>\n",
       "    </tr>\n",
       "    <tr>\n",
       "      <th>9</th>\n",
       "      <td>1003</td>\n",
       "      <td>December</td>\n",
       "      <td>1135</td>\n",
       "      <td>149</td>\n",
       "    </tr>\n",
       "    <tr>\n",
       "      <th>10</th>\n",
       "      <td>1004</td>\n",
       "      <td>August</td>\n",
       "      <td>361</td>\n",
       "      <td>49</td>\n",
       "    </tr>\n",
       "    <tr>\n",
       "      <th>11</th>\n",
       "      <td>1004</td>\n",
       "      <td>December</td>\n",
       "      <td>434</td>\n",
       "      <td>50</td>\n",
       "    </tr>\n",
       "    <tr>\n",
       "      <th>12</th>\n",
       "      <td>1004</td>\n",
       "      <td>July</td>\n",
       "      <td>385</td>\n",
       "      <td>49</td>\n",
       "    </tr>\n",
       "    <tr>\n",
       "      <th>13</th>\n",
       "      <td>1004</td>\n",
       "      <td>June</td>\n",
       "      <td>286</td>\n",
       "      <td>44</td>\n",
       "    </tr>\n",
       "    <tr>\n",
       "      <th>14</th>\n",
       "      <td>1004</td>\n",
       "      <td>May</td>\n",
       "      <td>195</td>\n",
       "      <td>21</td>\n",
       "    </tr>\n",
       "  </tbody>\n",
       "</table>\n",
       "</div>"
      ],
      "text/plain": [
       "    user_id      month  duration  num_calls\n",
       "0      1000   December       124         16\n",
       "1      1001     August       187         27\n",
       "2      1001   December       422         56\n",
       "3      1001   November       441         64\n",
       "4      1001    October       411         65\n",
       "5      1001  September       326         49\n",
       "6      1002   December       393         47\n",
       "7      1002   November       393         55\n",
       "8      1002    October        62         11\n",
       "9      1003   December      1135        149\n",
       "10     1004     August       361         49\n",
       "11     1004   December       434         50\n",
       "12     1004       July       385         49\n",
       "13     1004       June       286         44\n",
       "14     1004        May       195         21"
      ]
     },
     "execution_count": 26,
     "metadata": {},
     "output_type": "execute_result"
    }
   ],
   "source": [
    "num_calls_user_per_month = calls_df.groupby(['user_id', 'month'])[['duration_new', 'id']].agg(\n",
    "    duration = ('duration_new','sum'), num_calls = ('id', 'count')).reset_index()\n",
    "num_calls_user_per_month['duration'] = num_calls_user_per_month['duration'].astype(int)\n",
    "num_calls_user_per_month.head(15)"
   ]
  },
  {
   "cell_type": "markdown",
   "metadata": {},
   "source": [
    "We can see above how many calls and how many minutes every user spent every month."
   ]
  },
  {
   "cell_type": "markdown",
   "metadata": {},
   "source": [
    "**3.B. For each user: Number of text messages sent per month.**"
   ]
  },
  {
   "cell_type": "markdown",
   "metadata": {},
   "source": [
    "First, we will create a month column and then find the whole number of messages each user sent in each month."
   ]
  },
  {
   "cell_type": "code",
   "execution_count": 27,
   "metadata": {},
   "outputs": [
    {
     "data": {
      "text/html": [
       "<div>\n",
       "<style scoped>\n",
       "    .dataframe tbody tr th:only-of-type {\n",
       "        vertical-align: middle;\n",
       "    }\n",
       "\n",
       "    .dataframe tbody tr th {\n",
       "        vertical-align: top;\n",
       "    }\n",
       "\n",
       "    .dataframe thead th {\n",
       "        text-align: right;\n",
       "    }\n",
       "</style>\n",
       "<table border=\"1\" class=\"dataframe\">\n",
       "  <thead>\n",
       "    <tr style=\"text-align: right;\">\n",
       "      <th></th>\n",
       "      <th>id</th>\n",
       "      <th>user_id</th>\n",
       "      <th>message_date</th>\n",
       "      <th>month</th>\n",
       "    </tr>\n",
       "  </thead>\n",
       "  <tbody>\n",
       "    <tr>\n",
       "      <th>0</th>\n",
       "      <td>1000_125</td>\n",
       "      <td>1000</td>\n",
       "      <td>2018-12-27</td>\n",
       "      <td>December</td>\n",
       "    </tr>\n",
       "    <tr>\n",
       "      <th>1</th>\n",
       "      <td>1000_160</td>\n",
       "      <td>1000</td>\n",
       "      <td>2018-12-31</td>\n",
       "      <td>December</td>\n",
       "    </tr>\n",
       "    <tr>\n",
       "      <th>2</th>\n",
       "      <td>1000_223</td>\n",
       "      <td>1000</td>\n",
       "      <td>2018-12-31</td>\n",
       "      <td>December</td>\n",
       "    </tr>\n",
       "    <tr>\n",
       "      <th>3</th>\n",
       "      <td>1000_251</td>\n",
       "      <td>1000</td>\n",
       "      <td>2018-12-27</td>\n",
       "      <td>December</td>\n",
       "    </tr>\n",
       "    <tr>\n",
       "      <th>4</th>\n",
       "      <td>1000_255</td>\n",
       "      <td>1000</td>\n",
       "      <td>2018-12-26</td>\n",
       "      <td>December</td>\n",
       "    </tr>\n",
       "  </tbody>\n",
       "</table>\n",
       "</div>"
      ],
      "text/plain": [
       "         id  user_id message_date     month\n",
       "0  1000_125     1000   2018-12-27  December\n",
       "1  1000_160     1000   2018-12-31  December\n",
       "2  1000_223     1000   2018-12-31  December\n",
       "3  1000_251     1000   2018-12-27  December\n",
       "4  1000_255     1000   2018-12-26  December"
      ]
     },
     "execution_count": 27,
     "metadata": {},
     "output_type": "execute_result"
    }
   ],
   "source": [
    "sms_df['month'] = pd.to_datetime(sms_df['message_date']).dt.month_name()\n",
    "sms_df.head()"
   ]
  },
  {
   "cell_type": "markdown",
   "metadata": {},
   "source": [
    "Here we also going to use the groupby() method and count the number of messages.We will also use the to_frame method to give a neat look to the data."
   ]
  },
  {
   "cell_type": "code",
   "execution_count": 28,
   "metadata": {},
   "outputs": [
    {
     "data": {
      "text/html": [
       "<div>\n",
       "<style scoped>\n",
       "    .dataframe tbody tr th:only-of-type {\n",
       "        vertical-align: middle;\n",
       "    }\n",
       "\n",
       "    .dataframe tbody tr th {\n",
       "        vertical-align: top;\n",
       "    }\n",
       "\n",
       "    .dataframe thead th {\n",
       "        text-align: right;\n",
       "    }\n",
       "</style>\n",
       "<table border=\"1\" class=\"dataframe\">\n",
       "  <thead>\n",
       "    <tr style=\"text-align: right;\">\n",
       "      <th></th>\n",
       "      <th>user_id</th>\n",
       "      <th>month</th>\n",
       "      <th>messages</th>\n",
       "    </tr>\n",
       "  </thead>\n",
       "  <tbody>\n",
       "    <tr>\n",
       "      <th>0</th>\n",
       "      <td>1000</td>\n",
       "      <td>December</td>\n",
       "      <td>11</td>\n",
       "    </tr>\n",
       "    <tr>\n",
       "      <th>1</th>\n",
       "      <td>1001</td>\n",
       "      <td>August</td>\n",
       "      <td>30</td>\n",
       "    </tr>\n",
       "    <tr>\n",
       "      <th>2</th>\n",
       "      <td>1001</td>\n",
       "      <td>December</td>\n",
       "      <td>44</td>\n",
       "    </tr>\n",
       "    <tr>\n",
       "      <th>3</th>\n",
       "      <td>1001</td>\n",
       "      <td>November</td>\n",
       "      <td>36</td>\n",
       "    </tr>\n",
       "    <tr>\n",
       "      <th>4</th>\n",
       "      <td>1001</td>\n",
       "      <td>October</td>\n",
       "      <td>53</td>\n",
       "    </tr>\n",
       "  </tbody>\n",
       "</table>\n",
       "</div>"
      ],
      "text/plain": [
       "   user_id     month  messages\n",
       "0     1000  December        11\n",
       "1     1001    August        30\n",
       "2     1001  December        44\n",
       "3     1001  November        36\n",
       "4     1001   October        53"
      ]
     },
     "execution_count": 28,
     "metadata": {},
     "output_type": "execute_result"
    }
   ],
   "source": [
    "sms_user_per_month = sms_df.groupby(['user_id', 'month'])['id'].count().reset_index()\n",
    "sms_user_per_month.columns = ['user_id','month','messages']\n",
    "sms_user_per_month.head()"
   ]
  },
  {
   "cell_type": "markdown",
   "metadata": {},
   "source": [
    "Let's move on."
   ]
  },
  {
   "cell_type": "markdown",
   "metadata": {},
   "source": [
    "**3.C. For each user: The volume of data per month.**"
   ]
  },
  {
   "cell_type": "markdown",
   "metadata": {},
   "source": [
    "The way the telecom operator calculates the megabyte is different from the way it calculates the minute calls. For web traffic, per user, the telecom operator summarizes the web sessions for each month, and only then circles it upwards. So here we will first create a month column, group the data and only then calculate the volume of the data."
   ]
  },
  {
   "cell_type": "code",
   "execution_count": 29,
   "metadata": {},
   "outputs": [
    {
     "data": {
      "text/html": [
       "<div>\n",
       "<style scoped>\n",
       "    .dataframe tbody tr th:only-of-type {\n",
       "        vertical-align: middle;\n",
       "    }\n",
       "\n",
       "    .dataframe tbody tr th {\n",
       "        vertical-align: top;\n",
       "    }\n",
       "\n",
       "    .dataframe thead th {\n",
       "        text-align: right;\n",
       "    }\n",
       "</style>\n",
       "<table border=\"1\" class=\"dataframe\">\n",
       "  <thead>\n",
       "    <tr style=\"text-align: right;\">\n",
       "      <th></th>\n",
       "      <th>id</th>\n",
       "      <th>user_id</th>\n",
       "      <th>session_date</th>\n",
       "      <th>mb_used</th>\n",
       "      <th>mb_used_new</th>\n",
       "      <th>month</th>\n",
       "    </tr>\n",
       "  </thead>\n",
       "  <tbody>\n",
       "    <tr>\n",
       "      <th>0</th>\n",
       "      <td>1000_13</td>\n",
       "      <td>1000</td>\n",
       "      <td>2018-12-29</td>\n",
       "      <td>89.86</td>\n",
       "      <td>89.86</td>\n",
       "      <td>December</td>\n",
       "    </tr>\n",
       "    <tr>\n",
       "      <th>1</th>\n",
       "      <td>1000_204</td>\n",
       "      <td>1000</td>\n",
       "      <td>2018-12-31</td>\n",
       "      <td>0.00</td>\n",
       "      <td>1.00</td>\n",
       "      <td>December</td>\n",
       "    </tr>\n",
       "    <tr>\n",
       "      <th>2</th>\n",
       "      <td>1000_379</td>\n",
       "      <td>1000</td>\n",
       "      <td>2018-12-28</td>\n",
       "      <td>660.40</td>\n",
       "      <td>660.40</td>\n",
       "      <td>December</td>\n",
       "    </tr>\n",
       "    <tr>\n",
       "      <th>3</th>\n",
       "      <td>1000_413</td>\n",
       "      <td>1000</td>\n",
       "      <td>2018-12-26</td>\n",
       "      <td>270.99</td>\n",
       "      <td>270.99</td>\n",
       "      <td>December</td>\n",
       "    </tr>\n",
       "    <tr>\n",
       "      <th>4</th>\n",
       "      <td>1000_442</td>\n",
       "      <td>1000</td>\n",
       "      <td>2018-12-27</td>\n",
       "      <td>880.22</td>\n",
       "      <td>880.22</td>\n",
       "      <td>December</td>\n",
       "    </tr>\n",
       "  </tbody>\n",
       "</table>\n",
       "</div>"
      ],
      "text/plain": [
       "         id  user_id session_date  mb_used  mb_used_new     month\n",
       "0   1000_13     1000   2018-12-29    89.86        89.86  December\n",
       "1  1000_204     1000   2018-12-31     0.00         1.00  December\n",
       "2  1000_379     1000   2018-12-28   660.40       660.40  December\n",
       "3  1000_413     1000   2018-12-26   270.99       270.99  December\n",
       "4  1000_442     1000   2018-12-27   880.22       880.22  December"
      ]
     },
     "execution_count": 29,
     "metadata": {},
     "output_type": "execute_result"
    }
   ],
   "source": [
    "web_df['month'] = pd.to_datetime(web_df['session_date']).dt.month_name()\n",
    "web_df.head()"
   ]
  },
  {
   "cell_type": "markdown",
   "metadata": {},
   "source": [
    "Excellent!😎\n",
    "\n",
    "Now let's group the data with the groupby() method by **user_id** and **mont** columns. Here also we will use the to_frame() for convenience. "
   ]
  },
  {
   "cell_type": "code",
   "execution_count": 30,
   "metadata": {},
   "outputs": [
    {
     "data": {
      "text/html": [
       "<div>\n",
       "<style scoped>\n",
       "    .dataframe tbody tr th:only-of-type {\n",
       "        vertical-align: middle;\n",
       "    }\n",
       "\n",
       "    .dataframe tbody tr th {\n",
       "        vertical-align: top;\n",
       "    }\n",
       "\n",
       "    .dataframe thead th {\n",
       "        text-align: right;\n",
       "    }\n",
       "</style>\n",
       "<table border=\"1\" class=\"dataframe\">\n",
       "  <thead>\n",
       "    <tr style=\"text-align: right;\">\n",
       "      <th></th>\n",
       "      <th>user_id</th>\n",
       "      <th>month</th>\n",
       "      <th>mb_used</th>\n",
       "    </tr>\n",
       "  </thead>\n",
       "  <tbody>\n",
       "    <tr>\n",
       "      <th>0</th>\n",
       "      <td>1000</td>\n",
       "      <td>December</td>\n",
       "      <td>1901.47</td>\n",
       "    </tr>\n",
       "    <tr>\n",
       "      <th>1</th>\n",
       "      <td>1001</td>\n",
       "      <td>August</td>\n",
       "      <td>6919.15</td>\n",
       "    </tr>\n",
       "    <tr>\n",
       "      <th>2</th>\n",
       "      <td>1001</td>\n",
       "      <td>December</td>\n",
       "      <td>19369.18</td>\n",
       "    </tr>\n",
       "    <tr>\n",
       "      <th>3</th>\n",
       "      <td>1001</td>\n",
       "      <td>November</td>\n",
       "      <td>18504.30</td>\n",
       "    </tr>\n",
       "    <tr>\n",
       "      <th>4</th>\n",
       "      <td>1001</td>\n",
       "      <td>October</td>\n",
       "      <td>22330.49</td>\n",
       "    </tr>\n",
       "  </tbody>\n",
       "</table>\n",
       "</div>"
      ],
      "text/plain": [
       "   user_id     month   mb_used\n",
       "0     1000  December   1901.47\n",
       "1     1001    August   6919.15\n",
       "2     1001  December  19369.18\n",
       "3     1001  November  18504.30\n",
       "4     1001   October  22330.49"
      ]
     },
     "execution_count": 30,
     "metadata": {},
     "output_type": "execute_result"
    }
   ],
   "source": [
    "web_user_per_month = web_df.groupby(['user_id', 'month'])['mb_used'].sum().reset_index()\n",
    "web_user_per_month.head()"
   ]
  },
  {
   "cell_type": "markdown",
   "metadata": {},
   "source": [
    "Now we will divide the **mb_used** column by 1,000 to convert it to gigabytes units and round it up. "
   ]
  },
  {
   "cell_type": "code",
   "execution_count": 31,
   "metadata": {},
   "outputs": [
    {
     "data": {
      "text/html": [
       "<div>\n",
       "<style scoped>\n",
       "    .dataframe tbody tr th:only-of-type {\n",
       "        vertical-align: middle;\n",
       "    }\n",
       "\n",
       "    .dataframe tbody tr th {\n",
       "        vertical-align: top;\n",
       "    }\n",
       "\n",
       "    .dataframe thead th {\n",
       "        text-align: right;\n",
       "    }\n",
       "</style>\n",
       "<table border=\"1\" class=\"dataframe\">\n",
       "  <thead>\n",
       "    <tr style=\"text-align: right;\">\n",
       "      <th></th>\n",
       "      <th>user_id</th>\n",
       "      <th>month</th>\n",
       "      <th>gb_used</th>\n",
       "    </tr>\n",
       "  </thead>\n",
       "  <tbody>\n",
       "    <tr>\n",
       "      <th>0</th>\n",
       "      <td>1000</td>\n",
       "      <td>December</td>\n",
       "      <td>2</td>\n",
       "    </tr>\n",
       "    <tr>\n",
       "      <th>1</th>\n",
       "      <td>1001</td>\n",
       "      <td>August</td>\n",
       "      <td>7</td>\n",
       "    </tr>\n",
       "    <tr>\n",
       "      <th>2</th>\n",
       "      <td>1001</td>\n",
       "      <td>December</td>\n",
       "      <td>19</td>\n",
       "    </tr>\n",
       "    <tr>\n",
       "      <th>3</th>\n",
       "      <td>1001</td>\n",
       "      <td>November</td>\n",
       "      <td>19</td>\n",
       "    </tr>\n",
       "    <tr>\n",
       "      <th>4</th>\n",
       "      <td>1001</td>\n",
       "      <td>October</td>\n",
       "      <td>22</td>\n",
       "    </tr>\n",
       "  </tbody>\n",
       "</table>\n",
       "</div>"
      ],
      "text/plain": [
       "   user_id     month  gb_used\n",
       "0     1000  December        2\n",
       "1     1001    August        7\n",
       "2     1001  December       19\n",
       "3     1001  November       19\n",
       "4     1001   October       22"
      ]
     },
     "execution_count": 31,
     "metadata": {},
     "output_type": "execute_result"
    }
   ],
   "source": [
    "web_user_per_month['mb_used'] = np.ceil(web_user_per_month['mb_used']/1024).astype(int)\n",
    "web_user_per_month.columns =['user_id','month','gb_used']\n",
    "web_user_per_month.head()"
   ]
  },
  {
   "cell_type": "markdown",
   "metadata": {},
   "source": [
    "Looking great!"
   ]
  },
  {
   "cell_type": "markdown",
   "metadata": {},
   "source": [
    "**3.D. From each user: The monthly revenue**"
   ]
  },
  {
   "cell_type": "markdown",
   "metadata": {},
   "source": [
    "To calculate the revenue, first, we will merge the grouped data of each user. Then we will build a function and apply it to the merged data. "
   ]
  },
  {
   "cell_type": "markdown",
   "metadata": {},
   "source": [
    "*Merging the data sets*"
   ]
  },
  {
   "cell_type": "code",
   "execution_count": 32,
   "metadata": {},
   "outputs": [
    {
     "data": {
      "text/html": [
       "<div>\n",
       "<style scoped>\n",
       "    .dataframe tbody tr th:only-of-type {\n",
       "        vertical-align: middle;\n",
       "    }\n",
       "\n",
       "    .dataframe tbody tr th {\n",
       "        vertical-align: top;\n",
       "    }\n",
       "\n",
       "    .dataframe thead th {\n",
       "        text-align: right;\n",
       "    }\n",
       "</style>\n",
       "<table border=\"1\" class=\"dataframe\">\n",
       "  <thead>\n",
       "    <tr style=\"text-align: right;\">\n",
       "      <th></th>\n",
       "      <th>user_id</th>\n",
       "      <th>plan</th>\n",
       "      <th>month</th>\n",
       "      <th>duration</th>\n",
       "      <th>num_calls</th>\n",
       "      <th>messages</th>\n",
       "      <th>gb_used</th>\n",
       "    </tr>\n",
       "  </thead>\n",
       "  <tbody>\n",
       "    <tr>\n",
       "      <th>0</th>\n",
       "      <td>1000</td>\n",
       "      <td>ultimate</td>\n",
       "      <td>December</td>\n",
       "      <td>124.0</td>\n",
       "      <td>16.0</td>\n",
       "      <td>11.0</td>\n",
       "      <td>2.0</td>\n",
       "    </tr>\n",
       "    <tr>\n",
       "      <th>1</th>\n",
       "      <td>1001</td>\n",
       "      <td>surf</td>\n",
       "      <td>August</td>\n",
       "      <td>187.0</td>\n",
       "      <td>27.0</td>\n",
       "      <td>30.0</td>\n",
       "      <td>7.0</td>\n",
       "    </tr>\n",
       "    <tr>\n",
       "      <th>2</th>\n",
       "      <td>1001</td>\n",
       "      <td>surf</td>\n",
       "      <td>December</td>\n",
       "      <td>422.0</td>\n",
       "      <td>56.0</td>\n",
       "      <td>44.0</td>\n",
       "      <td>19.0</td>\n",
       "    </tr>\n",
       "    <tr>\n",
       "      <th>3</th>\n",
       "      <td>1001</td>\n",
       "      <td>surf</td>\n",
       "      <td>November</td>\n",
       "      <td>441.0</td>\n",
       "      <td>64.0</td>\n",
       "      <td>36.0</td>\n",
       "      <td>19.0</td>\n",
       "    </tr>\n",
       "    <tr>\n",
       "      <th>4</th>\n",
       "      <td>1001</td>\n",
       "      <td>surf</td>\n",
       "      <td>October</td>\n",
       "      <td>411.0</td>\n",
       "      <td>65.0</td>\n",
       "      <td>53.0</td>\n",
       "      <td>22.0</td>\n",
       "    </tr>\n",
       "  </tbody>\n",
       "</table>\n",
       "</div>"
      ],
      "text/plain": [
       "   user_id      plan     month  duration  num_calls  messages  gb_used\n",
       "0     1000  ultimate  December     124.0       16.0      11.0      2.0\n",
       "1     1001      surf    August     187.0       27.0      30.0      7.0\n",
       "2     1001      surf  December     422.0       56.0      44.0     19.0\n",
       "3     1001      surf  November     441.0       64.0      36.0     19.0\n",
       "4     1001      surf   October     411.0       65.0      53.0     22.0"
      ]
     },
     "execution_count": 32,
     "metadata": {},
     "output_type": "execute_result"
    }
   ],
   "source": [
    "df_list = [num_calls_user_per_month,sms_user_per_month, web_user_per_month]\n",
    "merged_df = reduce(lambda left,right: pd.merge(left,right, on = ['user_id','month'],\n",
    "                                               how = 'outer'), df_list).fillna(0)\n",
    "total_df = pd.merge(right = merged_df,left = users_df[['user_id', 'plan']],\n",
    "                   on = 'user_id', how = 'outer')\n",
    "total_df.head()"
   ]
  },
  {
   "cell_type": "markdown",
   "metadata": {},
   "source": [
    "*Building the function*"
   ]
  },
  {
   "cell_type": "code",
   "execution_count": 33,
   "metadata": {},
   "outputs": [],
   "source": [
    "def revenue(df):\n",
    "    # Defining variables to use within the function\n",
    "    plan = df['plan']\n",
    "    minutes = df['duration']\n",
    "    sms = df['messages']\n",
    "    gb = df['gb_used']\n",
    "    cost = 0\n",
    "    \n",
    "    #Calculation of the revenue for users in the surf plan\n",
    "    if plan == 'surf':\n",
    "        cost = 20\n",
    "        if minutes > 500:\n",
    "            cost += (minutes-500)*0.03\n",
    "        if sms > 50:\n",
    "            cost += (sms-50)*0.03\n",
    "        if gb > 15:\n",
    "            cost += (gb-15)*10\n",
    "            \n",
    "    #Calculation of the revenue for users in the ultimate plan        \n",
    "    if plan == 'ultimate':\n",
    "        cost = 70\n",
    "        if minutes > 3000:\n",
    "            cost += (minutes-3000)*0.01\n",
    "        if sms > 1000:\n",
    "            cost += (sms-1000)*0.01\n",
    "        if gb > 30:\n",
    "            cost += (gb-30)*7\n",
    "            \n",
    "    return cost"
   ]
  },
  {
   "cell_type": "code",
   "execution_count": 34,
   "metadata": {},
   "outputs": [
    {
     "data": {
      "text/html": [
       "<div>\n",
       "<style scoped>\n",
       "    .dataframe tbody tr th:only-of-type {\n",
       "        vertical-align: middle;\n",
       "    }\n",
       "\n",
       "    .dataframe tbody tr th {\n",
       "        vertical-align: top;\n",
       "    }\n",
       "\n",
       "    .dataframe thead th {\n",
       "        text-align: right;\n",
       "    }\n",
       "</style>\n",
       "<table border=\"1\" class=\"dataframe\">\n",
       "  <thead>\n",
       "    <tr style=\"text-align: right;\">\n",
       "      <th></th>\n",
       "      <th>user_id</th>\n",
       "      <th>plan</th>\n",
       "      <th>month</th>\n",
       "      <th>duration</th>\n",
       "      <th>num_calls</th>\n",
       "      <th>messages</th>\n",
       "      <th>gb_used</th>\n",
       "      <th>total_revenue</th>\n",
       "    </tr>\n",
       "  </thead>\n",
       "  <tbody>\n",
       "    <tr>\n",
       "      <th>0</th>\n",
       "      <td>1000</td>\n",
       "      <td>ultimate</td>\n",
       "      <td>December</td>\n",
       "      <td>124.0</td>\n",
       "      <td>16.0</td>\n",
       "      <td>11.0</td>\n",
       "      <td>2.0</td>\n",
       "      <td>70.00</td>\n",
       "    </tr>\n",
       "    <tr>\n",
       "      <th>1</th>\n",
       "      <td>1001</td>\n",
       "      <td>surf</td>\n",
       "      <td>August</td>\n",
       "      <td>187.0</td>\n",
       "      <td>27.0</td>\n",
       "      <td>30.0</td>\n",
       "      <td>7.0</td>\n",
       "      <td>20.00</td>\n",
       "    </tr>\n",
       "    <tr>\n",
       "      <th>2</th>\n",
       "      <td>1001</td>\n",
       "      <td>surf</td>\n",
       "      <td>December</td>\n",
       "      <td>422.0</td>\n",
       "      <td>56.0</td>\n",
       "      <td>44.0</td>\n",
       "      <td>19.0</td>\n",
       "      <td>60.00</td>\n",
       "    </tr>\n",
       "    <tr>\n",
       "      <th>3</th>\n",
       "      <td>1001</td>\n",
       "      <td>surf</td>\n",
       "      <td>November</td>\n",
       "      <td>441.0</td>\n",
       "      <td>64.0</td>\n",
       "      <td>36.0</td>\n",
       "      <td>19.0</td>\n",
       "      <td>60.00</td>\n",
       "    </tr>\n",
       "    <tr>\n",
       "      <th>4</th>\n",
       "      <td>1001</td>\n",
       "      <td>surf</td>\n",
       "      <td>October</td>\n",
       "      <td>411.0</td>\n",
       "      <td>65.0</td>\n",
       "      <td>53.0</td>\n",
       "      <td>22.0</td>\n",
       "      <td>90.09</td>\n",
       "    </tr>\n",
       "    <tr>\n",
       "      <th>5</th>\n",
       "      <td>1001</td>\n",
       "      <td>surf</td>\n",
       "      <td>September</td>\n",
       "      <td>326.0</td>\n",
       "      <td>49.0</td>\n",
       "      <td>44.0</td>\n",
       "      <td>14.0</td>\n",
       "      <td>20.00</td>\n",
       "    </tr>\n",
       "    <tr>\n",
       "      <th>6</th>\n",
       "      <td>1002</td>\n",
       "      <td>surf</td>\n",
       "      <td>December</td>\n",
       "      <td>393.0</td>\n",
       "      <td>47.0</td>\n",
       "      <td>41.0</td>\n",
       "      <td>15.0</td>\n",
       "      <td>20.00</td>\n",
       "    </tr>\n",
       "    <tr>\n",
       "      <th>7</th>\n",
       "      <td>1002</td>\n",
       "      <td>surf</td>\n",
       "      <td>November</td>\n",
       "      <td>393.0</td>\n",
       "      <td>55.0</td>\n",
       "      <td>32.0</td>\n",
       "      <td>19.0</td>\n",
       "      <td>60.00</td>\n",
       "    </tr>\n",
       "    <tr>\n",
       "      <th>8</th>\n",
       "      <td>1002</td>\n",
       "      <td>surf</td>\n",
       "      <td>October</td>\n",
       "      <td>62.0</td>\n",
       "      <td>11.0</td>\n",
       "      <td>15.0</td>\n",
       "      <td>7.0</td>\n",
       "      <td>20.00</td>\n",
       "    </tr>\n",
       "    <tr>\n",
       "      <th>9</th>\n",
       "      <td>1003</td>\n",
       "      <td>surf</td>\n",
       "      <td>December</td>\n",
       "      <td>1135.0</td>\n",
       "      <td>149.0</td>\n",
       "      <td>50.0</td>\n",
       "      <td>27.0</td>\n",
       "      <td>159.05</td>\n",
       "    </tr>\n",
       "  </tbody>\n",
       "</table>\n",
       "</div>"
      ],
      "text/plain": [
       "   user_id      plan      month  duration  num_calls  messages  gb_used  \\\n",
       "0     1000  ultimate   December     124.0       16.0      11.0      2.0   \n",
       "1     1001      surf     August     187.0       27.0      30.0      7.0   \n",
       "2     1001      surf   December     422.0       56.0      44.0     19.0   \n",
       "3     1001      surf   November     441.0       64.0      36.0     19.0   \n",
       "4     1001      surf    October     411.0       65.0      53.0     22.0   \n",
       "5     1001      surf  September     326.0       49.0      44.0     14.0   \n",
       "6     1002      surf   December     393.0       47.0      41.0     15.0   \n",
       "7     1002      surf   November     393.0       55.0      32.0     19.0   \n",
       "8     1002      surf    October      62.0       11.0      15.0      7.0   \n",
       "9     1003      surf   December    1135.0      149.0      50.0     27.0   \n",
       "\n",
       "   total_revenue  \n",
       "0          70.00  \n",
       "1          20.00  \n",
       "2          60.00  \n",
       "3          60.00  \n",
       "4          90.09  \n",
       "5          20.00  \n",
       "6          20.00  \n",
       "7          60.00  \n",
       "8          20.00  \n",
       "9         159.05  "
      ]
     },
     "execution_count": 34,
     "metadata": {},
     "output_type": "execute_result"
    }
   ],
   "source": [
    "total_df['total_revenue'] = total_df.apply(revenue, axis =1)\n",
    "total_df.fillna(0, inplace = True)\n",
    "total_df.head(10)"
   ]
  },
  {
   "cell_type": "code",
   "execution_count": 35,
   "metadata": {},
   "outputs": [
    {
     "data": {
      "text/plain": [
       "user_id          0\n",
       "plan             0\n",
       "month            0\n",
       "duration         0\n",
       "num_calls        0\n",
       "messages         0\n",
       "gb_used          0\n",
       "total_revenue    0\n",
       "dtype: int64"
      ]
     },
     "execution_count": 35,
     "metadata": {},
     "output_type": "execute_result"
    }
   ],
   "source": [
    "total_df.isnull().sum()"
   ]
  },
  {
   "cell_type": "markdown",
   "metadata": {},
   "source": [
    "Now we know the revenues from each client. "
   ]
  },
  {
   "cell_type": "markdown",
   "metadata": {},
   "source": [
    "**Summary**\n",
    "\n",
    "In this stage we approached 3 main issues:\n",
    "\n",
    "1. **Converting data** - We checked the variables and their types, and decided that there is no justified or logical need to convert thy data type of one of the variables. So we left them as they are and didn't touch them. \n",
    "\n",
    "\n",
    "2. **Finding and eliminating errors** - We found that the 2 DataFrames **calls_df** and **web_df** had 0 values that represented the duration of the calls and used megabytes respectively. We decided that it will be logical to change these values to 1 in both of the data sets. This the calculation will be more accurate and more 'clean'. \n",
    "\n",
    "\n",
    "3. **Finding for every user:**\n",
    "* **Number of calls made and minutes used per month** - At first we created new **month** column by using the to_datetime() and dt.month_name() methods.Then we rounded the minutes up as the company's calculation method demands with the ceil() method and used the groupby() method to group the data by users and months. In the groupby() method we used named aggregation and the 'sum' and 'count' functions. \n",
    "\n",
    "\n",
    "* **Number of text messages sent per month** - Here we also at first created a month column. Then we used the groupby() method with the 'count' function to count the number of messages for each user every month.\n",
    "\n",
    "\n",
    "* **The volume of data per month** - We created a month column at first. Then we summed the web sessions for each month, converted them to gigabytes, and rounded them up as the company's calculation method asked. For that we first used the groupby() method to group the data by users and months, summed all the web traffic for each month with the 'sum' function, divided the summaries by 1,000 (to convert to gigabytes), and rounded all up with the ceil() method. \n",
    "\n",
    "\n",
    "* **The monthly revenue** - At this stage first of all we merged all the grouped data sets that we created earlier with the reduce function. Then we added to the merged data the plan variable to complete our data frame for the calculation of the revenue. We used the merge() method for it. Afterward, we created a function that calculates the revenue with the fees that were given to us and applied it to our merged data set with the apply method. "
   ]
  },
  {
   "cell_type": "markdown",
   "metadata": {},
   "source": [
    "### Analyzing the data"
   ]
  },
  {
   "cell_type": "markdown",
   "metadata": {},
   "source": [
    "At this stage, we are going to describe the clients' behavior. We will find the minutes, texts, and volume of data that each user require per month in each plan, by calculating the following:\n",
    "1. Mean\n",
    "2. Variance\n",
    "3. Standart deviation\n",
    "\n",
    "We will also plot histograms to get a better understanding of the distribution and how clients behave. \n",
    "\n",
    "We will use the merged data that we created earlier and apply the describe() method for each plan to find the 3 values above, and then use the plot() method for plotting the histograms."
   ]
  },
  {
   "cell_type": "markdown",
   "metadata": {},
   "source": [
    "**Surf**"
   ]
  },
  {
   "cell_type": "code",
   "execution_count": 36,
   "metadata": {},
   "outputs": [
    {
     "data": {
      "text/html": [
       "<div>\n",
       "<style scoped>\n",
       "    .dataframe tbody tr th:only-of-type {\n",
       "        vertical-align: middle;\n",
       "    }\n",
       "\n",
       "    .dataframe tbody tr th {\n",
       "        vertical-align: top;\n",
       "    }\n",
       "\n",
       "    .dataframe thead th {\n",
       "        text-align: right;\n",
       "    }\n",
       "</style>\n",
       "<table border=\"1\" class=\"dataframe\">\n",
       "  <thead>\n",
       "    <tr style=\"text-align: right;\">\n",
       "      <th></th>\n",
       "      <th>user_id</th>\n",
       "      <th>duration</th>\n",
       "      <th>num_calls</th>\n",
       "      <th>messages</th>\n",
       "      <th>gb_used</th>\n",
       "      <th>total_revenue</th>\n",
       "    </tr>\n",
       "  </thead>\n",
       "  <tbody>\n",
       "    <tr>\n",
       "      <th>count</th>\n",
       "      <td>1579.000000</td>\n",
       "      <td>1579.000000</td>\n",
       "      <td>1579.000000</td>\n",
       "      <td>1579.000000</td>\n",
       "      <td>1579.000000</td>\n",
       "      <td>1579.000000</td>\n",
       "    </tr>\n",
       "    <tr>\n",
       "      <th>mean</th>\n",
       "      <td>1242.940469</td>\n",
       "      <td>438.651045</td>\n",
       "      <td>59.584547</td>\n",
       "      <td>31.041165</td>\n",
       "      <td>16.607346</td>\n",
       "      <td>60.743642</td>\n",
       "    </tr>\n",
       "    <tr>\n",
       "      <th>std</th>\n",
       "      <td>139.200115</td>\n",
       "      <td>241.368170</td>\n",
       "      <td>32.168377</td>\n",
       "      <td>33.557683</td>\n",
       "      <td>7.899502</td>\n",
       "      <td>55.407676</td>\n",
       "    </tr>\n",
       "    <tr>\n",
       "      <th>min</th>\n",
       "      <td>1001.000000</td>\n",
       "      <td>0.000000</td>\n",
       "      <td>0.000000</td>\n",
       "      <td>0.000000</td>\n",
       "      <td>0.000000</td>\n",
       "      <td>20.000000</td>\n",
       "    </tr>\n",
       "    <tr>\n",
       "      <th>25%</th>\n",
       "      <td>1120.000000</td>\n",
       "      <td>276.500000</td>\n",
       "      <td>39.000000</td>\n",
       "      <td>3.000000</td>\n",
       "      <td>12.000000</td>\n",
       "      <td>20.000000</td>\n",
       "    </tr>\n",
       "    <tr>\n",
       "      <th>50%</th>\n",
       "      <td>1245.000000</td>\n",
       "      <td>437.000000</td>\n",
       "      <td>60.000000</td>\n",
       "      <td>24.000000</td>\n",
       "      <td>17.000000</td>\n",
       "      <td>40.360000</td>\n",
       "    </tr>\n",
       "    <tr>\n",
       "      <th>75%</th>\n",
       "      <td>1358.000000</td>\n",
       "      <td>590.500000</td>\n",
       "      <td>79.000000</td>\n",
       "      <td>47.000000</td>\n",
       "      <td>21.000000</td>\n",
       "      <td>80.705000</td>\n",
       "    </tr>\n",
       "    <tr>\n",
       "      <th>max</th>\n",
       "      <td>1499.000000</td>\n",
       "      <td>1548.000000</td>\n",
       "      <td>205.000000</td>\n",
       "      <td>266.000000</td>\n",
       "      <td>70.000000</td>\n",
       "      <td>591.270000</td>\n",
       "    </tr>\n",
       "  </tbody>\n",
       "</table>\n",
       "</div>"
      ],
      "text/plain": [
       "           user_id     duration    num_calls     messages      gb_used  \\\n",
       "count  1579.000000  1579.000000  1579.000000  1579.000000  1579.000000   \n",
       "mean   1242.940469   438.651045    59.584547    31.041165    16.607346   \n",
       "std     139.200115   241.368170    32.168377    33.557683     7.899502   \n",
       "min    1001.000000     0.000000     0.000000     0.000000     0.000000   \n",
       "25%    1120.000000   276.500000    39.000000     3.000000    12.000000   \n",
       "50%    1245.000000   437.000000    60.000000    24.000000    17.000000   \n",
       "75%    1358.000000   590.500000    79.000000    47.000000    21.000000   \n",
       "max    1499.000000  1548.000000   205.000000   266.000000    70.000000   \n",
       "\n",
       "       total_revenue  \n",
       "count    1579.000000  \n",
       "mean       60.743642  \n",
       "std        55.407676  \n",
       "min        20.000000  \n",
       "25%        20.000000  \n",
       "50%        40.360000  \n",
       "75%        80.705000  \n",
       "max       591.270000  "
      ]
     },
     "execution_count": 36,
     "metadata": {},
     "output_type": "execute_result"
    }
   ],
   "source": [
    "total_df[total_df['plan'] == 'surf'].describe()"
   ]
  },
  {
   "cell_type": "code",
   "execution_count": 37,
   "metadata": {},
   "outputs": [
    {
     "name": "stderr",
     "output_type": "stream",
     "text": [
      "/opt/anaconda3/lib/python3.9/site-packages/numpy/core/fromnumeric.py:3700: FutureWarning: Dropping of nuisance columns in DataFrame reductions (with 'numeric_only=None') is deprecated; in a future version this will raise TypeError.  Select only valid columns before calling the reduction.\n",
      "  return var(axis=axis, dtype=dtype, out=out, ddof=ddof, **kwargs)\n"
     ]
    },
    {
     "data": {
      "text/html": [
       "<div>\n",
       "<style scoped>\n",
       "    .dataframe tbody tr th:only-of-type {\n",
       "        vertical-align: middle;\n",
       "    }\n",
       "\n",
       "    .dataframe tbody tr th {\n",
       "        vertical-align: top;\n",
       "    }\n",
       "\n",
       "    .dataframe thead th {\n",
       "        text-align: right;\n",
       "    }\n",
       "</style>\n",
       "<table border=\"1\" class=\"dataframe\">\n",
       "  <thead>\n",
       "    <tr style=\"text-align: right;\">\n",
       "      <th></th>\n",
       "      <th>0</th>\n",
       "    </tr>\n",
       "  </thead>\n",
       "  <tbody>\n",
       "    <tr>\n",
       "      <th>user_id</th>\n",
       "      <td>19364.400509</td>\n",
       "    </tr>\n",
       "    <tr>\n",
       "      <th>duration</th>\n",
       "      <td>58221.697736</td>\n",
       "    </tr>\n",
       "    <tr>\n",
       "      <th>num_calls</th>\n",
       "      <td>1034.149122</td>\n",
       "    </tr>\n",
       "    <tr>\n",
       "      <th>messages</th>\n",
       "      <td>1125.404892</td>\n",
       "    </tr>\n",
       "    <tr>\n",
       "      <th>gb_used</th>\n",
       "      <td>62.362606</td>\n",
       "    </tr>\n",
       "    <tr>\n",
       "      <th>total_revenue</th>\n",
       "      <td>3068.066245</td>\n",
       "    </tr>\n",
       "  </tbody>\n",
       "</table>\n",
       "</div>"
      ],
      "text/plain": [
       "                          0\n",
       "user_id        19364.400509\n",
       "duration       58221.697736\n",
       "num_calls       1034.149122\n",
       "messages        1125.404892\n",
       "gb_used           62.362606\n",
       "total_revenue   3068.066245"
      ]
     },
     "execution_count": 37,
     "metadata": {},
     "output_type": "execute_result"
    }
   ],
   "source": [
    "np.var(total_df[total_df['plan'] == 'surf']).to_frame()"
   ]
  },
  {
   "cell_type": "markdown",
   "metadata": {},
   "source": [
    "**Ultimate**"
   ]
  },
  {
   "cell_type": "code",
   "execution_count": 38,
   "metadata": {},
   "outputs": [
    {
     "data": {
      "text/html": [
       "<div>\n",
       "<style scoped>\n",
       "    .dataframe tbody tr th:only-of-type {\n",
       "        vertical-align: middle;\n",
       "    }\n",
       "\n",
       "    .dataframe tbody tr th {\n",
       "        vertical-align: top;\n",
       "    }\n",
       "\n",
       "    .dataframe thead th {\n",
       "        text-align: right;\n",
       "    }\n",
       "</style>\n",
       "<table border=\"1\" class=\"dataframe\">\n",
       "  <thead>\n",
       "    <tr style=\"text-align: right;\">\n",
       "      <th></th>\n",
       "      <th>user_id</th>\n",
       "      <th>duration</th>\n",
       "      <th>num_calls</th>\n",
       "      <th>messages</th>\n",
       "      <th>gb_used</th>\n",
       "      <th>total_revenue</th>\n",
       "    </tr>\n",
       "  </thead>\n",
       "  <tbody>\n",
       "    <tr>\n",
       "      <th>count</th>\n",
       "      <td>724.000000</td>\n",
       "      <td>724.000000</td>\n",
       "      <td>724.000000</td>\n",
       "      <td>724.000000</td>\n",
       "      <td>724.000000</td>\n",
       "      <td>724.000000</td>\n",
       "    </tr>\n",
       "    <tr>\n",
       "      <th>mean</th>\n",
       "      <td>1253.356354</td>\n",
       "      <td>439.987569</td>\n",
       "      <td>60.291436</td>\n",
       "      <td>37.343923</td>\n",
       "      <td>17.211326</td>\n",
       "      <td>72.301105</td>\n",
       "    </tr>\n",
       "    <tr>\n",
       "      <th>std</th>\n",
       "      <td>150.941802</td>\n",
       "      <td>248.226102</td>\n",
       "      <td>33.454527</td>\n",
       "      <td>34.782576</td>\n",
       "      <td>7.755841</td>\n",
       "      <td>11.364839</td>\n",
       "    </tr>\n",
       "    <tr>\n",
       "      <th>min</th>\n",
       "      <td>1000.000000</td>\n",
       "      <td>0.000000</td>\n",
       "      <td>0.000000</td>\n",
       "      <td>0.000000</td>\n",
       "      <td>0.000000</td>\n",
       "      <td>70.000000</td>\n",
       "    </tr>\n",
       "    <tr>\n",
       "      <th>25%</th>\n",
       "      <td>1126.000000</td>\n",
       "      <td>266.750000</td>\n",
       "      <td>36.000000</td>\n",
       "      <td>6.000000</td>\n",
       "      <td>13.000000</td>\n",
       "      <td>70.000000</td>\n",
       "    </tr>\n",
       "    <tr>\n",
       "      <th>50%</th>\n",
       "      <td>1246.000000</td>\n",
       "      <td>436.000000</td>\n",
       "      <td>61.000000</td>\n",
       "      <td>30.000000</td>\n",
       "      <td>17.000000</td>\n",
       "      <td>70.000000</td>\n",
       "    </tr>\n",
       "    <tr>\n",
       "      <th>75%</th>\n",
       "      <td>1401.000000</td>\n",
       "      <td>578.250000</td>\n",
       "      <td>79.250000</td>\n",
       "      <td>60.250000</td>\n",
       "      <td>21.000000</td>\n",
       "      <td>70.000000</td>\n",
       "    </tr>\n",
       "    <tr>\n",
       "      <th>max</th>\n",
       "      <td>1497.000000</td>\n",
       "      <td>1404.000000</td>\n",
       "      <td>191.000000</td>\n",
       "      <td>166.000000</td>\n",
       "      <td>46.000000</td>\n",
       "      <td>182.000000</td>\n",
       "    </tr>\n",
       "  </tbody>\n",
       "</table>\n",
       "</div>"
      ],
      "text/plain": [
       "           user_id     duration   num_calls    messages     gb_used  \\\n",
       "count   724.000000   724.000000  724.000000  724.000000  724.000000   \n",
       "mean   1253.356354   439.987569   60.291436   37.343923   17.211326   \n",
       "std     150.941802   248.226102   33.454527   34.782576    7.755841   \n",
       "min    1000.000000     0.000000    0.000000    0.000000    0.000000   \n",
       "25%    1126.000000   266.750000   36.000000    6.000000   13.000000   \n",
       "50%    1246.000000   436.000000   61.000000   30.000000   17.000000   \n",
       "75%    1401.000000   578.250000   79.250000   60.250000   21.000000   \n",
       "max    1497.000000  1404.000000  191.000000  166.000000   46.000000   \n",
       "\n",
       "       total_revenue  \n",
       "count     724.000000  \n",
       "mean       72.301105  \n",
       "std        11.364839  \n",
       "min        70.000000  \n",
       "25%        70.000000  \n",
       "50%        70.000000  \n",
       "75%        70.000000  \n",
       "max       182.000000  "
      ]
     },
     "execution_count": 38,
     "metadata": {},
     "output_type": "execute_result"
    }
   ],
   "source": [
    "total_df[total_df['plan'] == 'ultimate'].describe()"
   ]
  },
  {
   "cell_type": "code",
   "execution_count": 39,
   "metadata": {},
   "outputs": [
    {
     "name": "stderr",
     "output_type": "stream",
     "text": [
      "/opt/anaconda3/lib/python3.9/site-packages/numpy/core/fromnumeric.py:3700: FutureWarning: Dropping of nuisance columns in DataFrame reductions (with 'numeric_only=None') is deprecated; in a future version this will raise TypeError.  Select only valid columns before calling the reduction.\n",
      "  return var(axis=axis, dtype=dtype, out=out, ddof=ddof, **kwargs)\n"
     ]
    },
    {
     "data": {
      "text/html": [
       "<div>\n",
       "<style scoped>\n",
       "    .dataframe tbody tr th:only-of-type {\n",
       "        vertical-align: middle;\n",
       "    }\n",
       "\n",
       "    .dataframe tbody tr th {\n",
       "        vertical-align: top;\n",
       "    }\n",
       "\n",
       "    .dataframe thead th {\n",
       "        text-align: right;\n",
       "    }\n",
       "</style>\n",
       "<table border=\"1\" class=\"dataframe\">\n",
       "  <thead>\n",
       "    <tr style=\"text-align: right;\">\n",
       "      <th></th>\n",
       "      <th>0</th>\n",
       "    </tr>\n",
       "  </thead>\n",
       "  <tbody>\n",
       "    <tr>\n",
       "      <th>user_id</th>\n",
       "      <td>22751.958647</td>\n",
       "    </tr>\n",
       "    <tr>\n",
       "      <th>duration</th>\n",
       "      <td>61531.092387</td>\n",
       "    </tr>\n",
       "    <tr>\n",
       "      <th>num_calls</th>\n",
       "      <td>1117.659540</td>\n",
       "    </tr>\n",
       "    <tr>\n",
       "      <th>messages</th>\n",
       "      <td>1208.156579</td>\n",
       "    </tr>\n",
       "    <tr>\n",
       "      <th>gb_used</th>\n",
       "      <td>60.069982</td>\n",
       "    </tr>\n",
       "    <tr>\n",
       "      <th>total_revenue</th>\n",
       "      <td>128.981159</td>\n",
       "    </tr>\n",
       "  </tbody>\n",
       "</table>\n",
       "</div>"
      ],
      "text/plain": [
       "                          0\n",
       "user_id        22751.958647\n",
       "duration       61531.092387\n",
       "num_calls       1117.659540\n",
       "messages        1208.156579\n",
       "gb_used           60.069982\n",
       "total_revenue    128.981159"
      ]
     },
     "execution_count": 39,
     "metadata": {},
     "output_type": "execute_result"
    }
   ],
   "source": [
    "np.var(total_df[total_df['plan'] == 'ultimate']).to_frame()"
   ]
  },
  {
   "cell_type": "markdown",
   "metadata": {},
   "source": [
    "Let's summarize what we found for every parameter:\n",
    "\n",
    "**Minutes**\n",
    "\n",
    "*Mean*\n",
    "* Mean_Surf: 438.651045\t\n",
    "* Mean_Ultimate: 439.987569\n",
    "\n",
    "*Variance*\n",
    "* Variance_Surf: 58221.697736\n",
    "* Variance_Ultimate: 61531.092387\n",
    "\n",
    "*Std*\n",
    "* Std_Surf: 241.368170\n",
    "* Std_Ultimate: 248.226102\n",
    "\n",
    "**Messages**\n",
    "\n",
    "*Mean*\n",
    "* Mean_Surf: 31.041165 \t\n",
    "* Mean_Ultimate: 37.343923\n",
    "\n",
    "*Variance*\n",
    "* Variance_Surf: 1125.404892\n",
    "* Variance_Ultimate: 1208.156579\n",
    "\n",
    "*Std*\n",
    "* Std_Surf: 33.557683\t\n",
    "* Std_Ultimate: 34.782576\n",
    "\n",
    "**Web_traffic**\n",
    "\n",
    "*Mean*\n",
    "* Mean_Surf: 16.972768\t\n",
    "* Mean_Ultimate: 17.621547\n",
    "\n",
    "*Variance*\n",
    "* Variance_Surf: 65.076522\n",
    "* Variance_Ultimate: 63.160641\n",
    "\n",
    "*Std*\n",
    "* Std_Surf: 8.069558\n",
    "* Std_Ultimate: 7.952861\n"
   ]
  },
  {
   "cell_type": "markdown",
   "metadata": {},
   "source": [
    "We see that for minutes and web traffic the mean usage is almost equal, only for messages there is a difference of 6 messages - a 20% difference.\n",
    "\n",
    "So at this point of our analysis, where we found that the customer of each plan uses almost the same amount of services that the basic surf plan provides, and the ultimate plan costs 3+ times more, it's will be interesting to see which plan brings more revenue. We will investigate it thoroughly at stage 4. \n",
    "\n",
    "Now let's plot a histogram for each parameter to get a better understanding, and to add some color to this project. 😀"
   ]
  },
  {
   "cell_type": "markdown",
   "metadata": {},
   "source": [
    "**Minutes**"
   ]
  },
  {
   "cell_type": "code",
   "execution_count": 40,
   "metadata": {},
   "outputs": [
    {
     "data": {
      "image/png": "[encoded data removed]",
      "text/plain": [
       "<Figure size 720x504 with 1 Axes>"
      ]
     },
     "metadata": {
      "needs_background": "light"
     },
     "output_type": "display_data"
    }
   ],
   "source": [
    "minutes_surf = total_df.loc[total_df['plan']=='surf', 'duration']\n",
    "minutes_ultimate = total_df.loc[total_df['plan']=='ultimate', 'duration']\n",
    "\n",
    "kwargs = dict(alpha=0.5, bins=35)\n",
    "plt.figure(figsize=(10,7))\n",
    "plt.hist(minutes_surf, **kwargs, color = 'y', label = 'Surf')\n",
    "plt.hist(minutes_ultimate, **kwargs, color = 'b', label = 'Ultimate')\n",
    "plt.gca().set(title = 'Frequency Histogram of Spent Minutes', ylabel = 'Frequency', xlabel = 'Minutes Spent')\n",
    "plt.xlim(0, 1600)\n",
    "plt.legend()\n",
    "plt.show()"
   ]
  },
  {
   "cell_type": "markdown",
   "metadata": {},
   "source": [
    "We see that histograms don't look the same because there is more datapoints for surf. we need to rectify the dominant plan surf and still maintain the separateness of the distribution. To do so we will normalize it and by doing this the total area under each distribution becomes 1."
   ]
  },
  {
   "cell_type": "code",
   "execution_count": 41,
   "metadata": {},
   "outputs": [
    {
     "data": {
      "image/png": "[encoded data removed]",
      "text/plain": [
       "<Figure size 800x560 with 1 Axes>"
      ]
     },
     "metadata": {
      "needs_background": "light"
     },
     "output_type": "display_data"
    }
   ],
   "source": [
    "kwargs = dict(alpha=0.5, bins=35, density=True, stacked=True)\n",
    "plt.figure(figsize=(10,7),dpi = 80)\n",
    "plt.hist(minutes_surf, **kwargs, color = 'y', label = 'Surf')\n",
    "plt.hist(minutes_ultimate, **kwargs, color = 'b', label = 'Ultimate')\n",
    "plt.gca().set(title = 'Probability Histogram of Spent Minutes', ylabel = 'Probability', xlabel = 'Spent Minutes')\n",
    "plt.xlim(0, 1600)\n",
    "plt.legend()\n",
    "plt.show()"
   ]
  },
  {
   "cell_type": "markdown",
   "metadata": {},
   "source": [
    "Let's add to it some curves."
   ]
  },
  {
   "cell_type": "code",
   "execution_count": 42,
   "metadata": {},
   "outputs": [
    {
     "name": "stderr",
     "output_type": "stream",
     "text": [
      "/opt/anaconda3/lib/python3.9/site-packages/seaborn/distributions.py:2619: FutureWarning: `distplot` is a deprecated function and will be removed in a future version. Please adapt your code to use either `displot` (a figure-level function with similar flexibility) or `histplot` (an axes-level function for histograms).\n",
      "  warnings.warn(msg, FutureWarning)\n",
      "/opt/anaconda3/lib/python3.9/site-packages/seaborn/distributions.py:2619: FutureWarning: `distplot` is a deprecated function and will be removed in a future version. Please adapt your code to use either `displot` (a figure-level function with similar flexibility) or `histplot` (an axes-level function for histograms).\n",
      "  warnings.warn(msg, FutureWarning)\n"
     ]
    },
    {
     "data": {
      "image/png": "[encoded data removed]",
      "text/plain": [
       "<Figure size 800x560 with 1 Axes>"
      ]
     },
     "metadata": {
      "needs_background": "light"
     },
     "output_type": "display_data"
    }
   ],
   "source": [
    "kwargs = dict(hist_kws={'alpha':.6}, kde_kws={'linewidth':2})\n",
    "\n",
    "plt.figure(figsize=(10,7), dpi= 80)\n",
    "sns.distplot(minutes_surf, color = 'y', label = 'Surf', **kwargs)\n",
    "sns.distplot(minutes_ultimate, color = 'b', label = 'Ultimate', **kwargs)\n",
    "plt.gca().set(title = 'Probability curve Histogram of Spent Minutes', ylabel = 'Probability', xlabel = 'Spent Minutes')\n",
    "plt.legend()\n",
    "plt.show()"
   ]
  },
  {
   "cell_type": "markdown",
   "metadata": {},
   "source": [
    "We see that in all the histograms, the results matchs the findings that we got above. We see that the mean in both plans is around 440 minutes. "
   ]
  },
  {
   "cell_type": "markdown",
   "metadata": {},
   "source": [
    "**Messages**"
   ]
  },
  {
   "cell_type": "code",
   "execution_count": 43,
   "metadata": {},
   "outputs": [
    {
     "data": {
      "image/png": "[encoded data removed]",
      "text/plain": [
       "<Figure size 720x504 with 1 Axes>"
      ]
     },
     "metadata": {
      "needs_background": "light"
     },
     "output_type": "display_data"
    }
   ],
   "source": [
    "sms_surf = total_df.loc[total_df['plan']=='surf', 'messages']\n",
    "sms_ultimate = total_df.loc[total_df['plan']=='ultimate', 'messages']\n",
    "\n",
    "kwargs = dict(alpha=0.5, bins=35)\n",
    "plt.figure(figsize=(10,7))\n",
    "plt.hist(sms_surf, **kwargs, color = 'deeppink', label = 'Surf')\n",
    "plt.hist(sms_ultimate, **kwargs, color = 'dodgerblue', label = 'Ultimate')\n",
    "plt.gca().set(title = 'Frequency Histogram of Sent Messages', ylabel = 'Frequency', xlabel = 'Sent Messages')\n",
    "plt.xlim(0, 250)\n",
    "plt.legend()\n",
    "plt.show()"
   ]
  },
  {
   "cell_type": "markdown",
   "metadata": {},
   "source": [
    "Surprisingly here we also see that the surf plan dominates. So here we also need to normalize it so the area under the curve will be equal to 1."
   ]
  },
  {
   "cell_type": "code",
   "execution_count": 44,
   "metadata": {},
   "outputs": [
    {
     "data": {
      "image/png": "[encoded data removed]",
      "text/plain": [
       "<Figure size 800x560 with 1 Axes>"
      ]
     },
     "metadata": {
      "needs_background": "light"
     },
     "output_type": "display_data"
    }
   ],
   "source": [
    "kwargs = dict(alpha=0.5, bins=35, density=True, stacked=True)\n",
    "plt.figure(figsize=(10,7),dpi = 80)\n",
    "plt.hist(sms_surf, **kwargs, color = 'deeppink', label = 'Surf')\n",
    "plt.hist(sms_ultimate, **kwargs, color = 'dodgerblue', label = 'Ultimate')\n",
    "plt.gca().set(title = 'Probability Histogram of Sent Messages', ylabel = 'Probability', xlabel = 'Sent Messages')\n",
    "plt.xlim(0, 250)\n",
    "plt.legend()\n",
    "plt.show()"
   ]
  },
  {
   "cell_type": "markdown",
   "metadata": {},
   "source": [
    "Let's add some lines to it!"
   ]
  },
  {
   "cell_type": "code",
   "execution_count": 45,
   "metadata": {},
   "outputs": [
    {
     "name": "stderr",
     "output_type": "stream",
     "text": [
      "/opt/anaconda3/lib/python3.9/site-packages/seaborn/distributions.py:2619: FutureWarning: `distplot` is a deprecated function and will be removed in a future version. Please adapt your code to use either `displot` (a figure-level function with similar flexibility) or `histplot` (an axes-level function for histograms).\n",
      "  warnings.warn(msg, FutureWarning)\n",
      "/opt/anaconda3/lib/python3.9/site-packages/seaborn/distributions.py:2619: FutureWarning: `distplot` is a deprecated function and will be removed in a future version. Please adapt your code to use either `displot` (a figure-level function with similar flexibility) or `histplot` (an axes-level function for histograms).\n",
      "  warnings.warn(msg, FutureWarning)\n"
     ]
    },
    {
     "data": {
      "image/png": "[encoded data removed]",
      "text/plain": [
       "<Figure size 800x560 with 1 Axes>"
      ]
     },
     "metadata": {
      "needs_background": "light"
     },
     "output_type": "display_data"
    }
   ],
   "source": [
    "kwargs = dict(hist_kws={'alpha':.6}, kde_kws={'linewidth':2})\n",
    "\n",
    "plt.figure(figsize=(10,7), dpi= 80)\n",
    "sns.distplot(sms_surf, color = 'deeppink', label = 'Surf', **kwargs)\n",
    "sns.distplot(sms_ultimate, color = 'dodgerblue', label = 'Ultimate', **kwargs)\n",
    "plt.gca().set(title = 'Probability curve Histogram of Sent Messages', ylabel = 'Probability', xlabel = 'Sent Messages')\n",
    "plt.legend()\n",
    "plt.show()"
   ]
  },
  {
   "cell_type": "markdown",
   "metadata": {},
   "source": [
    "We see similarities between the histograms. We see that many users that didn't send messages at all. These users pull the mean down, and it's lower than the median as we can see in the describe tables above. We see that most of the values all histograms are somewhere near the 30-40 messages, which matches the outputs that we saw earlier. "
   ]
  },
  {
   "cell_type": "markdown",
   "metadata": {},
   "source": [
    "**Web_Traffic**"
   ]
  },
  {
   "cell_type": "code",
   "execution_count": 46,
   "metadata": {},
   "outputs": [
    {
     "data": {
      "image/png": "[encoded data removed]",
      "text/plain": [
       "<Figure size 720x504 with 1 Axes>"
      ]
     },
     "metadata": {
      "needs_background": "light"
     },
     "output_type": "display_data"
    }
   ],
   "source": [
    "web_surf = total_df.loc[total_df['plan']=='surf', 'gb_used']\n",
    "web_ultimate = total_df.loc[total_df['plan']=='ultimate', 'gb_used']\n",
    "kwargs = dict(alpha=0.5, bins=35)\n",
    "plt.figure(figsize=(10,7))\n",
    "plt.hist(web_surf, **kwargs, color = 'dodgerblue', label = 'Surf')\n",
    "plt.hist(web_ultimate, **kwargs, color = 'orange', label = 'Ultimate')\n",
    "plt.gca().set(title = 'Frequency Histogram of Used GB', ylabel = 'Frequency', xlabel = 'Used GB')\n",
    "plt.xlim(0, 80)\n",
    "plt.legend()\n",
    "plt.show()"
   ]
  },
  {
   "cell_type": "markdown",
   "metadata": {},
   "source": [
    "Here we see that histograms don't look the same because there is more datapoints for surf.\n",
    "we need to rectify the dominant class - surf and still maintain the separateness of the distribution. To do so we will normalize it and by doing this the total area under each distribution becomes 1. \n",
    "\n",
    "Let's go!😎"
   ]
  },
  {
   "cell_type": "code",
   "execution_count": 47,
   "metadata": {},
   "outputs": [
    {
     "data": {
      "image/png": "[encoded data removed]",
      "text/plain": [
       "<Figure size 800x560 with 1 Axes>"
      ]
     },
     "metadata": {
      "needs_background": "light"
     },
     "output_type": "display_data"
    }
   ],
   "source": [
    "kwargs = dict(alpha=0.5, bins=35, density=True, stacked=True)\n",
    "plt.figure(figsize=(10,7),dpi = 80)\n",
    "plt.hist(web_surf, **kwargs, color = 'dodgerblue', label = 'Surf')\n",
    "plt.hist(web_ultimate, **kwargs, color = 'orange', label = 'Ultimate')\n",
    "plt.gca().set(title = 'Probability Histogram of Used GB', ylabel = 'Probability', xlabel = 'Used GB')\n",
    "plt.xlim(0, 80)\n",
    "plt.legend()\n",
    "plt.show()"
   ]
  },
  {
   "cell_type": "markdown",
   "metadata": {},
   "source": [
    "Now let's make it prettier."
   ]
  },
  {
   "cell_type": "code",
   "execution_count": 48,
   "metadata": {},
   "outputs": [
    {
     "name": "stderr",
     "output_type": "stream",
     "text": [
      "/opt/anaconda3/lib/python3.9/site-packages/seaborn/distributions.py:2619: FutureWarning: `distplot` is a deprecated function and will be removed in a future version. Please adapt your code to use either `displot` (a figure-level function with similar flexibility) or `histplot` (an axes-level function for histograms).\n",
      "  warnings.warn(msg, FutureWarning)\n",
      "/opt/anaconda3/lib/python3.9/site-packages/seaborn/distributions.py:2619: FutureWarning: `distplot` is a deprecated function and will be removed in a future version. Please adapt your code to use either `displot` (a figure-level function with similar flexibility) or `histplot` (an axes-level function for histograms).\n",
      "  warnings.warn(msg, FutureWarning)\n"
     ]
    },
    {
     "data": {
      "image/png": "[encoded data removed]",
      "text/plain": [
       "<Figure size 800x560 with 1 Axes>"
      ]
     },
     "metadata": {
      "needs_background": "light"
     },
     "output_type": "display_data"
    }
   ],
   "source": [
    "kwargs = dict(hist_kws={'alpha':.6}, kde_kws={'linewidth':2})\n",
    "\n",
    "plt.figure(figsize=(10,7), dpi= 80)\n",
    "sns.distplot(web_surf, color = 'dodgerblue', label = 'Surf', **kwargs)\n",
    "sns.distplot(web_ultimate, color = 'orange', label = 'Ultimate', **kwargs)\n",
    "plt.gca().set(title = 'Probability curve Histogram of Used GB', ylabel = 'Probability', xlabel = 'Used GB')\n",
    "plt.legend()\n",
    "plt.show()"
   ]
  },
  {
   "cell_type": "markdown",
   "metadata": {},
   "source": [
    "As we found earlier we see that the mean is around 17 MG in all our beautiful and colorful graphs.👌"
   ]
  },
  {
   "cell_type": "markdown",
   "metadata": {},
   "source": [
    "**Summary**\n",
    "\n",
    "This step major goal was to understand the clients behavior in each plan with 2 approaches:\n",
    "1. Calculation the following values for minutes, messages, and GB in each plan:\n",
    "* Mean\n",
    "* Variance\n",
    "* Standart deviation\n",
    "2. Plotting a histogram to each parameter in each plan.\n",
    "\n",
    "We plotted 3 different histograms for each parameter. A regular frequency histogram then normalized probability histogram and an upgraded probability histogram with curves (also normalized of course). The histogram demonstrated us what we found, that the clients of the 2 plans consume almost the same amount of services. \n",
    "\n",
    "\n",
    "All this information made us understand that the clients in both plans are acting the same and require almost the same amount of services that are provided by the basic surf plan. So, when considering that the ultimate plan in 3+ times more expensive than the surf plan, it will be interesting to see which plan is more profitable.🤗"
   ]
  },
  {
   "cell_type": "code",
   "execution_count": 49,
   "metadata": {},
   "outputs": [
    {
     "name": "stderr",
     "output_type": "stream",
     "text": [
      "/opt/anaconda3/lib/python3.9/site-packages/seaborn/distributions.py:2619: FutureWarning: `distplot` is a deprecated function and will be removed in a future version. Please adapt your code to use either `displot` (a figure-level function with similar flexibility) or `histplot` (an axes-level function for histograms).\n",
      "  warnings.warn(msg, FutureWarning)\n",
      "/opt/anaconda3/lib/python3.9/site-packages/seaborn/distributions.py:2619: FutureWarning: `distplot` is a deprecated function and will be removed in a future version. Please adapt your code to use either `displot` (a figure-level function with similar flexibility) or `histplot` (an axes-level function for histograms).\n",
      "  warnings.warn(msg, FutureWarning)\n",
      "/opt/anaconda3/lib/python3.9/site-packages/seaborn/_decorators.py:36: FutureWarning: Pass the following variable as a keyword arg: x. From version 0.12, the only valid positional argument will be `data`, and passing other arguments without an explicit keyword will result in an error or misinterpretation.\n",
      "  warnings.warn(\n",
      "/opt/anaconda3/lib/python3.9/site-packages/seaborn/_decorators.py:36: FutureWarning: Pass the following variable as a keyword arg: x. From version 0.12, the only valid positional argument will be `data`, and passing other arguments without an explicit keyword will result in an error or misinterpretation.\n",
      "  warnings.warn(\n"
     ]
    },
    {
     "data": {
      "image/png": "[encoded data removed]",
      "text/plain": [
       "<Figure size 1152x360 with 2 Axes>"
      ]
     },
     "metadata": {
      "needs_background": "light"
     },
     "output_type": "display_data"
    }
   ],
   "source": [
    "fig, axes = plt.subplots(1, 2, figsize=(16, 5))\n",
    "sns.distplot(minutes_surf, ax=axes[0])\n",
    "sns.distplot(minutes_ultimate, ax=axes[0])\n",
    "sns.boxplot(minutes_surf, ax=axes[1])\n",
    "sns.boxplot(minutes_ultimate, ax=axes[1],palette=\"Set3\" )\n",
    "plt.show()"
   ]
  },
  {
   "cell_type": "code",
   "execution_count": 50,
   "metadata": {},
   "outputs": [
    {
     "name": "stderr",
     "output_type": "stream",
     "text": [
      "/opt/anaconda3/lib/python3.9/site-packages/seaborn/distributions.py:2619: FutureWarning: `distplot` is a deprecated function and will be removed in a future version. Please adapt your code to use either `displot` (a figure-level function with similar flexibility) or `histplot` (an axes-level function for histograms).\n",
      "  warnings.warn(msg, FutureWarning)\n",
      "/opt/anaconda3/lib/python3.9/site-packages/seaborn/distributions.py:2619: FutureWarning: `distplot` is a deprecated function and will be removed in a future version. Please adapt your code to use either `displot` (a figure-level function with similar flexibility) or `histplot` (an axes-level function for histograms).\n",
      "  warnings.warn(msg, FutureWarning)\n",
      "/opt/anaconda3/lib/python3.9/site-packages/seaborn/_decorators.py:36: FutureWarning: Pass the following variable as a keyword arg: x. From version 0.12, the only valid positional argument will be `data`, and passing other arguments without an explicit keyword will result in an error or misinterpretation.\n",
      "  warnings.warn(\n",
      "/opt/anaconda3/lib/python3.9/site-packages/seaborn/_decorators.py:36: FutureWarning: Pass the following variable as a keyword arg: x. From version 0.12, the only valid positional argument will be `data`, and passing other arguments without an explicit keyword will result in an error or misinterpretation.\n",
      "  warnings.warn(\n"
     ]
    },
    {
     "data": {
      "image/png": "[encoded data removed]",
      "text/plain": [
       "<Figure size 1152x360 with 2 Axes>"
      ]
     },
     "metadata": {
      "needs_background": "light"
     },
     "output_type": "display_data"
    }
   ],
   "source": [
    "fig, axes = plt.subplots(1, 2, figsize=(16, 5))\n",
    "sns.distplot(sms_surf, ax=axes[0])\n",
    "sns.distplot(sms_ultimate, ax=axes[0])\n",
    "sns.boxplot(sms_surf, ax=axes[1])\n",
    "sns.boxplot(sms_ultimate, ax=axes[1],palette=\"Set3\" )\n",
    "plt.show()"
   ]
  },
  {
   "cell_type": "code",
   "execution_count": 51,
   "metadata": {},
   "outputs": [
    {
     "name": "stderr",
     "output_type": "stream",
     "text": [
      "/opt/anaconda3/lib/python3.9/site-packages/seaborn/distributions.py:2619: FutureWarning: `distplot` is a deprecated function and will be removed in a future version. Please adapt your code to use either `displot` (a figure-level function with similar flexibility) or `histplot` (an axes-level function for histograms).\n",
      "  warnings.warn(msg, FutureWarning)\n",
      "/opt/anaconda3/lib/python3.9/site-packages/seaborn/distributions.py:2619: FutureWarning: `distplot` is a deprecated function and will be removed in a future version. Please adapt your code to use either `displot` (a figure-level function with similar flexibility) or `histplot` (an axes-level function for histograms).\n",
      "  warnings.warn(msg, FutureWarning)\n",
      "/opt/anaconda3/lib/python3.9/site-packages/seaborn/_decorators.py:36: FutureWarning: Pass the following variable as a keyword arg: x. From version 0.12, the only valid positional argument will be `data`, and passing other arguments without an explicit keyword will result in an error or misinterpretation.\n",
      "  warnings.warn(\n",
      "/opt/anaconda3/lib/python3.9/site-packages/seaborn/_decorators.py:36: FutureWarning: Pass the following variable as a keyword arg: x. From version 0.12, the only valid positional argument will be `data`, and passing other arguments without an explicit keyword will result in an error or misinterpretation.\n",
      "  warnings.warn(\n"
     ]
    },
    {
     "data": {
      "image/png": "[encoded data removed]",
      "text/plain": [
       "<Figure size 1152x360 with 2 Axes>"
      ]
     },
     "metadata": {
      "needs_background": "light"
     },
     "output_type": "display_data"
    }
   ],
   "source": [
    "fig, axes = plt.subplots(1, 2, figsize=(16, 5))\n",
    "sns.distplot(web_surf, ax=axes[0])\n",
    "sns.distplot(web_ultimate, ax=axes[0])\n",
    "sns.boxplot(web_surf, ax=axes[1])\n",
    "sns.boxplot(web_ultimate, ax=axes[1],palette=\"Set3\" )\n",
    "plt.show()"
   ]
  },
  {
   "cell_type": "markdown",
   "metadata": {},
   "source": [
    "### Testing the hypotheses"
   ]
  },
  {
   "cell_type": "markdown",
   "metadata": {},
   "source": [
    "At this stage we are going to test 2 hypotheses:\n",
    "1. The average revenue from users of Ultimate and Surf calling plans differs.\n",
    "2. The average revenue from users in NY-NJ area is different from that of the users from other regions.\n",
    "\n",
    "To test these hypotheses we will do the following:\n",
    "1. Formulate 2 samples test.\n",
    "2. We will see if the samples are paired or not.\n",
    "3. If the samples are not paired, we will check the equality of their variances and perform t-test.  \n",
    "\n",
    "Let's go investigate!🕵️‍♀️"
   ]
  },
  {
   "cell_type": "markdown",
   "metadata": {},
   "source": [
    "**Hypotesis 1: The average revenue from users of Ultimate and Surf calling plans differs**"
   ]
  },
  {
   "cell_type": "markdown",
   "metadata": {},
   "source": [
    "We will now set the hypotheses. It is known that the Null hypothesis is always about the equality of the 2 average samples, so the hypothesis will be set this way:\n",
    "\n",
    "* **H0**: The average revenue from users of Ultimate and Surf calling plans is the same\n",
    "\n",
    "* **H1**: The average revenue from users of Ultimate and Surf calling plans differ\n",
    "\n",
    "**Alpha:** We will set alpha=0.05 as it is a golden standard, and it's good enough for our case. In medicine value of alpha=0.01 is acceptable, but we are not testing medical issues so alpha=0.05 will be enough for us."
   ]
  },
  {
   "cell_type": "markdown",
   "metadata": {},
   "source": [
    "**step 1:** Let's find the 2 samples:\n",
    "* Revenues of the Surf plan users\n",
    "* Revenues of the Ultimate plan users"
   ]
  },
  {
   "cell_type": "code",
   "execution_count": 52,
   "metadata": {},
   "outputs": [],
   "source": [
    "revenue_surf = total_df.loc[total_df['plan'] == 'surf', 'total_revenue']\n",
    "revenue_ultimate = total_df.loc[total_df['plan'] == 'ultimate', 'total_revenue']"
   ]
  },
  {
   "cell_type": "markdown",
   "metadata": {},
   "source": [
    "**step 2:** Checking if the samples are paired or not.\n",
    "\n",
    "The samples of the 2 plans are not paired because:\n",
    "1. The clients of each plan are not the same and independent. \n",
    "2. We are not testing the clients' behavior before and after changing any factor like the price."
   ]
  },
  {
   "cell_type": "markdown",
   "metadata": {},
   "source": [
    "**step 3:** Checking the equality of the variances and performing a t-test.\n",
    "\n",
    "To check the variences, we will use levene test.\n",
    "\n",
    "The hypothesis is:\n",
    "\n",
    "* **H0:** The variances are equal\n",
    "* **H1:** The variances aren't equal\n",
    "\n",
    "**Alpha:** Here also we will set alpha = 0.05, because 5% is good enogh for us. "
   ]
  },
  {
   "cell_type": "code",
   "execution_count": 53,
   "metadata": {},
   "outputs": [
    {
     "name": "stdout",
     "output_type": "stream",
     "text": [
      "p - value: 2.1097427127193595e-83\n",
      "We reject the null hypothesis. The variences aren't equal.\n"
     ]
    }
   ],
   "source": [
    "alpha = 0.05\n",
    "\n",
    "stat, p = levene (revenue_surf, revenue_ultimate)\n",
    "\n",
    "print('p - value:', p)\n",
    "if p < alpha:\n",
    "    print(\"We reject the null hypothesis. The variences aren't equal.\")\n",
    "if p > alpha:\n",
    "    print(\"We can't reject the null hypothesis. The variences are equal.\")"
   ]
  },
  {
   "cell_type": "code",
   "execution_count": 54,
   "metadata": {},
   "outputs": [
    {
     "name": "stdout",
     "output_type": "stream",
     "text": [
      "p-value: 3.682500132410648e-15\n",
      "we reject the null hypothesis. The average revenue differ.\n"
     ]
    }
   ],
   "source": [
    "alpha = 0.05\n",
    "\n",
    "results = st.ttest_ind(revenue_surf, revenue_ultimate, equal_var = False)\n",
    "\n",
    "print('p-value:', results.pvalue)\n",
    "\n",
    "if results.pvalue < alpha:\n",
    "    print('we reject the null hypothesis. The average revenue differ.')\n",
    "else:\n",
    "    print(\"we can't the null hypothesis. The average revenue is the same.\")"
   ]
  },
  {
   "cell_type": "markdown",
   "metadata": {},
   "source": [
    "So here we see that the average revenue of the plans is not the same. Interesting!\n",
    "\n",
    "Let's plot few histogrmas of the revenue to get a closer look."
   ]
  },
  {
   "cell_type": "code",
   "execution_count": 55,
   "metadata": {},
   "outputs": [
    {
     "data": {
      "image/png": "[encoded data removed]",
      "text/plain": [
       "<Figure size 720x504 with 1 Axes>"
      ]
     },
     "metadata": {
      "needs_background": "light"
     },
     "output_type": "display_data"
    }
   ],
   "source": [
    "kwargs = dict(alpha=0.5, bins=35)\n",
    "plt.figure(figsize=(10,7))\n",
    "plt.hist(revenue_surf, **kwargs, color = 'deeppink', label = 'Surf')\n",
    "plt.hist(revenue_ultimate, **kwargs, color = 'dodgerblue', label = 'Ultimate')\n",
    "plt.gca().set(title = 'Frequency Histogram of Revenues', ylabel = 'Frequency', xlabel = 'Revenue')\n",
    "plt.xlim(0, 600)\n",
    "plt.legend()\n",
    "plt.show()"
   ]
  },
  {
   "cell_type": "code",
   "execution_count": 56,
   "metadata": {},
   "outputs": [
    {
     "name": "stderr",
     "output_type": "stream",
     "text": [
      "/opt/anaconda3/lib/python3.9/site-packages/seaborn/distributions.py:2619: FutureWarning: `distplot` is a deprecated function and will be removed in a future version. Please adapt your code to use either `displot` (a figure-level function with similar flexibility) or `histplot` (an axes-level function for histograms).\n",
      "  warnings.warn(msg, FutureWarning)\n",
      "/opt/anaconda3/lib/python3.9/site-packages/seaborn/distributions.py:2619: FutureWarning: `distplot` is a deprecated function and will be removed in a future version. Please adapt your code to use either `displot` (a figure-level function with similar flexibility) or `histplot` (an axes-level function for histograms).\n",
      "  warnings.warn(msg, FutureWarning)\n"
     ]
    },
    {
     "data": {
      "image/png": "[encoded data removed]",
      "text/plain": [
       "<Figure size 800x560 with 1 Axes>"
      ]
     },
     "metadata": {
      "needs_background": "light"
     },
     "output_type": "display_data"
    }
   ],
   "source": [
    "kwargs = dict(hist_kws={'alpha':.6}, kde_kws={'linewidth':2})\n",
    "\n",
    "plt.figure(figsize=(10,7), dpi= 80)\n",
    "sns.distplot(revenue_surf, color = 'deeppink', label = 'Surf', **kwargs)\n",
    "sns.distplot(revenue_ultimate, color = 'dodgerblue', label = 'Ultimate', **kwargs)\n",
    "plt.gca().set(title = 'Probability curve Histogram of Revenues', ylabel = 'Probability', xlabel = 'Revenue')\n",
    "plt.legend()\n",
    "plt.show()"
   ]
  },
  {
   "cell_type": "markdown",
   "metadata": {},
   "source": [
    "The histograms reinforce the results above and show us that the distribution of the plans differs and doesn't act the same. The statistics on both plans are very different. We can see that the revenues that come from the surf plan are bigger than the revenues that come from the ultimate plan. There are a few outliers, but we see clearly that many customers in the surf plan significantly deviate from the basic package and pay much more than 20 (dollars?), but rather 80-100 (and above). "
   ]
  },
  {
   "cell_type": "markdown",
   "metadata": {},
   "source": [
    "**Hypotesis 2: The average revenue from users in NY-NJ area is different from that of the users from other regions**"
   ]
  },
  {
   "cell_type": "markdown",
   "metadata": {},
   "source": [
    "We will now set the hypotheses with the same principles in the 1st hypothsis:\n",
    "\n",
    "* **H0**: The average revenue from users in NY-NJ area  and users from other regions is the same\n",
    "\n",
    "* **H1**: The average revenue from users in NY-NJ area and users from other regions differ\n",
    "\n",
    "**Alpha:** Here also we will set alpha=0.05, as 5% is enough for us."
   ]
  },
  {
   "cell_type": "markdown",
   "metadata": {},
   "source": [
    "**step 1:** Let's find the 2 samples:\n",
    "\n",
    "* Revenues of users in NY-NJ area\n",
    "* Revenues of users from other regions\n",
    "\n",
    "To do so, first we need to add the **city** column from users_df file to the total_df data set. "
   ]
  },
  {
   "cell_type": "code",
   "execution_count": 57,
   "metadata": {},
   "outputs": [
    {
     "data": {
      "text/html": [
       "<div>\n",
       "<style scoped>\n",
       "    .dataframe tbody tr th:only-of-type {\n",
       "        vertical-align: middle;\n",
       "    }\n",
       "\n",
       "    .dataframe tbody tr th {\n",
       "        vertical-align: top;\n",
       "    }\n",
       "\n",
       "    .dataframe thead th {\n",
       "        text-align: right;\n",
       "    }\n",
       "</style>\n",
       "<table border=\"1\" class=\"dataframe\">\n",
       "  <thead>\n",
       "    <tr style=\"text-align: right;\">\n",
       "      <th></th>\n",
       "      <th>user_id</th>\n",
       "      <th>city</th>\n",
       "      <th>plan</th>\n",
       "      <th>month</th>\n",
       "      <th>duration</th>\n",
       "      <th>num_calls</th>\n",
       "      <th>messages</th>\n",
       "      <th>gb_used</th>\n",
       "      <th>total_revenue</th>\n",
       "    </tr>\n",
       "  </thead>\n",
       "  <tbody>\n",
       "    <tr>\n",
       "      <th>0</th>\n",
       "      <td>1000</td>\n",
       "      <td>Atlanta-Sandy Springs-Roswell, GA MSA</td>\n",
       "      <td>ultimate</td>\n",
       "      <td>December</td>\n",
       "      <td>124.0</td>\n",
       "      <td>16.0</td>\n",
       "      <td>11.0</td>\n",
       "      <td>2.0</td>\n",
       "      <td>70.0</td>\n",
       "    </tr>\n",
       "    <tr>\n",
       "      <th>1</th>\n",
       "      <td>1001</td>\n",
       "      <td>Seattle-Tacoma-Bellevue, WA MSA</td>\n",
       "      <td>surf</td>\n",
       "      <td>August</td>\n",
       "      <td>187.0</td>\n",
       "      <td>27.0</td>\n",
       "      <td>30.0</td>\n",
       "      <td>7.0</td>\n",
       "      <td>20.0</td>\n",
       "    </tr>\n",
       "    <tr>\n",
       "      <th>2</th>\n",
       "      <td>1001</td>\n",
       "      <td>Seattle-Tacoma-Bellevue, WA MSA</td>\n",
       "      <td>surf</td>\n",
       "      <td>December</td>\n",
       "      <td>422.0</td>\n",
       "      <td>56.0</td>\n",
       "      <td>44.0</td>\n",
       "      <td>19.0</td>\n",
       "      <td>60.0</td>\n",
       "    </tr>\n",
       "  </tbody>\n",
       "</table>\n",
       "</div>"
      ],
      "text/plain": [
       "   user_id                                   city      plan     month  \\\n",
       "0     1000  Atlanta-Sandy Springs-Roswell, GA MSA  ultimate  December   \n",
       "1     1001        Seattle-Tacoma-Bellevue, WA MSA      surf    August   \n",
       "2     1001        Seattle-Tacoma-Bellevue, WA MSA      surf  December   \n",
       "\n",
       "   duration  num_calls  messages  gb_used  total_revenue  \n",
       "0     124.0       16.0      11.0      2.0           70.0  \n",
       "1     187.0       27.0      30.0      7.0           20.0  \n",
       "2     422.0       56.0      44.0     19.0           60.0  "
      ]
     },
     "execution_count": 57,
     "metadata": {},
     "output_type": "execute_result"
    }
   ],
   "source": [
    "total_df_city = pd.merge(right =total_df, left = users_df[['user_id','city']], how = 'outer', on = 'user_id' )\n",
    "total_df_city.head(3)"
   ]
  },
  {
   "cell_type": "markdown",
   "metadata": {},
   "source": [
    "Looking good!\n",
    "\n",
    "Now let's define the samples."
   ]
  },
  {
   "cell_type": "code",
   "execution_count": 58,
   "metadata": {},
   "outputs": [
    {
     "data": {
      "text/plain": [
       "New York-Newark-Jersey City, NY-NJ-PA MSA          378\n",
       "Los Angeles-Long Beach-Anaheim, CA MSA             132\n",
       "Chicago-Naperville-Elgin, IL-IN-WI MSA              94\n",
       "Dallas-Fort Worth-Arlington, TX MSA                 89\n",
       "Philadelphia-Camden-Wilmington, PA-NJ-DE-MD MSA     82\n",
       "                                                  ... \n",
       "Omaha-Council Bluffs, NE-IA MSA                      3\n",
       "El Paso, TX MSA                                      2\n",
       "Jacksonville, FL MSA                                 2\n",
       "Raleigh-Cary, NC MSA                                 2\n",
       "Cape Coral-Fort Myers, FL MSA                        1\n",
       "Name: city, Length: 73, dtype: int64"
      ]
     },
     "execution_count": 58,
     "metadata": {},
     "output_type": "execute_result"
    }
   ],
   "source": [
    "total_df_city['city'].value_counts()"
   ]
  },
  {
   "cell_type": "code",
   "execution_count": 59,
   "metadata": {},
   "outputs": [],
   "source": [
    "revenue_ny_ng = total_df_city.loc[total_df_city['city'] == 'New York-Newark-Jersey City, NY-NJ-PA MSA', 'total_revenue']\n",
    "revenue_other_areas = total_df_city.loc[total_df_city['city'] != 'New York-Newark-Jersey City, NY-NJ-PA MSA', 'total_revenue']"
   ]
  },
  {
   "cell_type": "markdown",
   "metadata": {},
   "source": [
    "**step 2:** Checking if the samples are paired or not.\n",
    "\n",
    "The samples of the areas are not paired because:\n",
    "1. The clients of each erea are not the same and independent. \n",
    "2. We are not testing the clients' behavior before and after changing any factor like the price."
   ]
  },
  {
   "cell_type": "markdown",
   "metadata": {},
   "source": [
    "**step 3:** Checking the equality of the variances and performing a t-test.\n",
    "\n",
    "To check the variences, we will use levene test.\n",
    "\n",
    "The hypothesis is:\n",
    "\n",
    "* **H0:** The variances are equal\n",
    "* **H1:** The variances aren't equal\n",
    "\n",
    "**Alpha:** Here also we will set alpha = 0.05, because 5% is good enogh for us."
   ]
  },
  {
   "cell_type": "code",
   "execution_count": 60,
   "metadata": {},
   "outputs": [
    {
     "name": "stdout",
     "output_type": "stream",
     "text": [
      "p - value: 0.13064227376699264\n",
      "We can't reject the null hypothesis. The variences are equal.\n"
     ]
    }
   ],
   "source": [
    "alpha = 0.05\n",
    "\n",
    "stat, p = levene (revenue_ny_ng, revenue_other_areas)\n",
    "\n",
    "print('p - value:', p)\n",
    "if p < alpha:\n",
    "    print(\"We reject the null hypothesis. The variences aren't equal.\")\n",
    "if p > alpha:\n",
    "    print(\"We can't reject the null hypothesis. The variences are equal.\")"
   ]
  },
  {
   "cell_type": "code",
   "execution_count": 61,
   "metadata": {},
   "outputs": [
    {
     "name": "stdout",
     "output_type": "stream",
     "text": [
      "p-value: 0.05145506315235809\n",
      "we can't the null hypothesis. The average revenue is the same.\n"
     ]
    }
   ],
   "source": [
    "alpha = 0.05\n",
    "\n",
    "results = st.ttest_ind(revenue_ny_ng, revenue_other_areas)\n",
    "\n",
    "print('p-value:', results.pvalue)\n",
    "\n",
    "if results.pvalue < alpha:\n",
    "    print('we reject the null hypothesis. The average revenue differ.')\n",
    "else:\n",
    "    print(\"we can't the null hypothesis. The average revenue is the same.\")"
   ]
  },
  {
   "cell_type": "markdown",
   "metadata": {},
   "source": [
    "Let's plot some histograms. 😍"
   ]
  },
  {
   "cell_type": "code",
   "execution_count": 62,
   "metadata": {},
   "outputs": [
    {
     "data": {
      "image/png": "[encoded data removed]",
      "text/plain": [
       "<Figure size 720x504 with 1 Axes>"
      ]
     },
     "metadata": {
      "needs_background": "light"
     },
     "output_type": "display_data"
    }
   ],
   "source": [
    "kwargs = dict(alpha=0.5, bins=35)\n",
    "plt.figure(figsize=(10,7))\n",
    "plt.hist(revenue_ny_ng, **kwargs, color = 'dodgerblue', label = 'Surf')\n",
    "plt.hist(revenue_other_areas, **kwargs, color = 'deeppink', label = 'Ultimate')\n",
    "plt.gca().set(title = 'Frequency Histogram of Revenues by Areas', ylabel = 'Frequency', xlabel = 'Revenue')\n",
    "plt.xlim(0, 600)\n",
    "plt.legend()\n",
    "plt.show()"
   ]
  },
  {
   "cell_type": "code",
   "execution_count": 63,
   "metadata": {},
   "outputs": [
    {
     "name": "stderr",
     "output_type": "stream",
     "text": [
      "/opt/anaconda3/lib/python3.9/site-packages/seaborn/distributions.py:2619: FutureWarning: `distplot` is a deprecated function and will be removed in a future version. Please adapt your code to use either `displot` (a figure-level function with similar flexibility) or `histplot` (an axes-level function for histograms).\n",
      "  warnings.warn(msg, FutureWarning)\n",
      "/opt/anaconda3/lib/python3.9/site-packages/seaborn/distributions.py:2619: FutureWarning: `distplot` is a deprecated function and will be removed in a future version. Please adapt your code to use either `displot` (a figure-level function with similar flexibility) or `histplot` (an axes-level function for histograms).\n",
      "  warnings.warn(msg, FutureWarning)\n"
     ]
    },
    {
     "data": {
      "image/png": "[encoded data removed]",
      "text/plain": [
       "<Figure size 800x560 with 1 Axes>"
      ]
     },
     "metadata": {
      "needs_background": "light"
     },
     "output_type": "display_data"
    }
   ],
   "source": [
    "kwargs = dict(hist_kws={'alpha':.6}, kde_kws={'linewidth':2})\n",
    "\n",
    "plt.figure(figsize=(10,7), dpi= 80)\n",
    "sns.distplot(revenue_ny_ng, color = 'dodgerblue', label = 'Surf', **kwargs)\n",
    "sns.distplot(revenue_other_areas, color = 'deeppink', label = 'Ultimate', **kwargs)\n",
    "plt.gca().set(title = 'Probability curve Histogram of Revenues by Areas', ylabel = 'Probability', xlabel = 'Revenue')\n",
    "plt.legend()\n",
    "plt.show()"
   ]
  },
  {
   "cell_type": "markdown",
   "metadata": {},
   "source": [
    "The histograms show us that the distribution of the areas is very similar. This means that the region doesn't affect clients' behavior and that in all regions customers act the same and spend a similar amount of money."
   ]
  },
  {
   "cell_type": "markdown",
   "metadata": {},
   "source": [
    "**Summary**\n",
    "\n",
    "In this step we checked 2 hypotheses:\n",
    "1. The average revenue from users of Ultimate and Surf calling plans differs.\n",
    "2. The average revenue from users in NY-NJ area is different from that of the users from other regions.\n",
    "\n",
    "Testing the hypotheses included 3 main steps:\n",
    "1. We set the right samples for each hypothesis.\n",
    "2. We checked if the samples were paired.\n",
    "3. We checked the variances of the samples with the Levene test and then formulated t-test according to the result of variances equality. \n",
    " \n",
    "We found that:\n",
    "1. First of all we determined for the 2 hypotheses that alpha = 0.05, because 5% is enough for our analysis. \n",
    "2. The samples in both hypotheses are independent and not paired.\n",
    "3. The samples variances:\n",
    "* In the first hypothesis is **different**.\n",
    "* In the second hypothesis is **the same**.\n",
    "\n",
    "Then we conducted t-test according to the outputs above and determined that:\n",
    "* **1st hypothesis:** We reject the null hypothesis. The average revenue between the plan differ. \n",
    "* **2nd hypothesis:** We can't reject the null hypothesis. The average revenue of all areas is the same. \n",
    "\n",
    "Then we plotted histograms (regular and curved probability) for each hypothesis with the appropriate samples to get a better understanding. The histograms supported the findings of the test and let to the following:\n",
    "\n",
    "1. The average revenue of the plans is different. The revenue from the surf plan is bigger than from the ultimate plan. It seems that the basic package of the surf isn't enough for its users so they many times tend to deviate and use more services, and therefore pay more than 20, but somewhere around 80-100 and above. \n",
    "\n",
    "\n",
    "2. The average revenue of the NY-NJ area is the same as in other regions. The city where people live doesn't have an influence on the revenue of the users. In every region the clients act the same and spend a similar amount of money on phones and web services. \n",
    "\n",
    "And now, to the overall conclusion we go!💪\n"
   ]
  },
  {
   "cell_type": "markdown",
   "metadata": {},
   "source": [
    "### Overall conclusion"
   ]
  },
  {
   "cell_type": "markdown",
   "metadata": {},
   "source": [
    "First let's remember what we did:\n",
    "\n",
    "**In 1st stage** We opened 5 files and  examined them. For all the DataFrames we used three main methods to learn about the five different data sets:\n",
    "\n",
    "info() method\n",
    "head() method\n",
    "describe() method (when it was suitable)\n",
    "We discovered that four out of five data sets lack missing values, and only one data set - users_df had missing values. But the good news is that we don't need this variable for our analysis, so it doesn't influence and we don't need to take care of it.\n",
    "\n",
    "We noticed that there are calls that lasted 0 seconds and that there are users with 0 web traffic. We also saw the youngest clients is 18 years old and the average age of the customers is around 45-46 years old.\n",
    "\n",
    "**The second stage** were all about prepering the data. In this stage we approached 3 main issues:\n",
    "\n",
    "1. **Converting data** - We checked the variables and their types, and decided that there is no justified or logical need to convert thy data type of one of the variables. So we left them as they are and didn't touch them. \n",
    "\n",
    "\n",
    "2. **Finding and eliminating errors** - We found that the 2 DataFrames **calls_df** and **web_df** had 0 values that represented the duration of the calls and used megabytes respectively. We decided that it will be logical to change these values to 1 in both of the data sets. This the calculation will be more accurate and more 'clean'. \n",
    "\n",
    "\n",
    "3. **Finding for every user:**\n",
    "* **Number of calls made and minutes used per month** - At first we created new **month** column by using the to_datetime() and dt.month_name() methods.Then we rounded the minutes up as the company's calculation method demands with the ceil() method and used the groupby() method to group the data by users and months. In the groupby() method we used named aggregation and the 'sum' and 'count' functions. \n",
    "\n",
    "\n",
    "* **Number of text messages sent per month** - Here we also at first created a month column. Then we used the groupby() method with the 'count' function to count the number of messages for each user every month.\n",
    "\n",
    "\n",
    "* **The volume of data per month** - Surprisingly😅 we created a month column at first. Then we summed the web sessions for each month, converted them to gigabytes, and rounded them up as the company's calculation method asked. For that we first used the groupby() method to group the data by users and months, summed all the web traffic for each month with the 'sum' function, divided the summaries by 1,000 (to convert to gigabytes), and rounded all up with the ceil() method. \n",
    "\n",
    "\n",
    "* **The monthly revenue** - At this stage first of all we merged all the grouped data sets that we created earlier with the reduce function. Then we added to the merged data the plan variable to complete our data frame for the calculation of the revenue. We used the merge() method for it. Afterward, we created a function that calculates the revenue with the fees that were given to us and applied it to our merged data set with the apply method. \n",
    "\n",
    "**In the 3th stage** we analyzed the data.\n",
    "\n",
    "This step major goal was to understand the clients behavior in each plan with 2 approaches:\n",
    "1. Calculation the following values for minutes, messages, and GB in each plan:\n",
    "* Mean\n",
    "* Variance\n",
    "* Standart deviation\n",
    "2. Plotting a histogram to each parameter in each plan.\n",
    "\n",
    "We plotted 3 different histograms for each parameter. A regular frequency histogram then normalized probability histogram and an upgraded probability histogram with curves (also normalized of course). The histogram demonstrated us what we found, that the clients of the 2 plans consume almost the same amount of services. \n",
    "\n",
    "\n",
    "All this information made us understand that the clients in both plans are acting the same and require almost the same amount of services that are provided by the basic surf plan. So, when considering that the ultimate plan in 3+ times more expensive than the surf plan, it will be interesting to see which plan is more profitable.🤗\n",
    "\n",
    "**The 4th stage** was all about testing the hypothesis. \n",
    "\n",
    "In this step we checked 2 hypotheses:\n",
    "1. The average revenue from users of Ultimate and Surf calling plans differs.\n",
    "2. The average revenue from users in NY-NJ area is different from that of the users from other regions.\n",
    "\n",
    "Testing the hypotheses included 3 main steps:\n",
    "1. We set the right samples for each hypothesis.\n",
    "2. We checked if the samples were paired.\n",
    "3. We checked the variances of the samples with the Levene test and then formulated t-test according to the result of variances equality. \n",
    " \n",
    "We found that:\n",
    "1. First of all we determined for the 2 hypotheses that alpha = 0.05, because 5% is enough for our analysis. \n",
    "2. The samples in both hypotheses are independent and not paired.\n",
    "3. The samples variances:\n",
    "* In the first hypothesis is **different**.\n",
    "* In the second hypothesis is **the same**.\n",
    "\n",
    "Then we conducted t-test according to the outputs above and determined that:\n",
    "* **1st hypothesis:** We reject the null hypothesis. The average revenue between the plan differ. \n",
    "* **2nd hypothesis:** We can't reject the null hypothesis. The average revenue of all areas is the same. \n",
    "\n",
    "Then we plotted histograms (regular and curved probability) for each hypothesis with the appropriate samples to get a better understanding. The histograms supported the findings of the test and let to the following:\n",
    "\n",
    "1. The average revenue of the plans is different. The revenue from the surf plan is bigger than from the ultimate plan. It seems that the basic package of the surf isn't enough for its users so they many times tend to deviate and use more services, and therefore pay more than 20, but somewhere around 80-100 and above. \n",
    "\n",
    "\n",
    "2. The average revenue of the NY-NJ area is the same as in other regions. The city where people live doesn't have an influence on the revenue of the users. In every region the clients act the same and spend a similar amount of money on phones and web services. \n",
    "\n",
    "So we did all these actions to see which plan bring more profit to inform the commercial department on which plan it will be best to invest in advertising. \n",
    "\n",
    "From all the findings above we see that the revenue of the surf plan is greater than the ultimate plan. Also, we discovered that the place of residence doesn't affect the behavior of the clients and in all regions, customers spend the same amount of money. \n",
    "So, we will recommend to the commercial department to adjust the budget in a way that emphasizes the surf plan in all regions. In other words, we will recommend concentrating on advertising the surf plan in the same way for all cities.\n",
    "\n",
    "Biana."
   ]
  }
 ],
 "metadata": {
  "ExecuteTimeLog": [
   {
    "duration": 1705,
    "start_time": "2021-11-07T18:16:08.845Z"
   },
   {
    "duration": 625,
    "start_time": "2021-11-07T18:16:23.210Z"
   },
   {
    "duration": 4,
    "start_time": "2021-11-07T18:16:31.275Z"
   },
   {
    "duration": 1931,
    "start_time": "2021-11-07T18:18:33.341Z"
   },
   {
    "duration": 155,
    "start_time": "2021-11-07T18:18:45.675Z"
   },
   {
    "duration": 2205,
    "start_time": "2021-11-07T18:20:43.379Z"
   },
   {
    "duration": 536,
    "start_time": "2021-11-07T18:21:27.068Z"
   },
   {
    "duration": 23,
    "start_time": "2021-11-07T18:23:57.648Z"
   },
   {
    "duration": 15,
    "start_time": "2021-11-07T18:26:19.073Z"
   },
   {
    "duration": 12,
    "start_time": "2021-11-07T18:26:32.472Z"
   },
   {
    "duration": 113,
    "start_time": "2021-11-07T18:27:14.925Z"
   },
   {
    "duration": 32,
    "start_time": "2021-11-07T18:29:07.634Z"
   },
   {
    "duration": 17,
    "start_time": "2021-11-07T18:30:07.948Z"
   },
   {
    "duration": 33,
    "start_time": "2021-11-07T18:30:26.709Z"
   },
   {
    "duration": 29,
    "start_time": "2021-11-07T18:33:55.319Z"
   },
   {
    "duration": 17,
    "start_time": "2021-11-07T18:36:03.890Z"
   },
   {
    "duration": 29,
    "start_time": "2021-11-07T18:38:34.785Z"
   },
   {
    "duration": 15,
    "start_time": "2021-11-07T18:40:14.654Z"
   },
   {
    "duration": 14,
    "start_time": "2021-11-07T18:41:55.037Z"
   },
   {
    "duration": 19,
    "start_time": "2021-11-07T18:42:55.290Z"
   },
   {
    "duration": 9,
    "start_time": "2021-11-07T18:52:34.780Z"
   },
   {
    "duration": 19,
    "start_time": "2021-11-07T18:53:14.120Z"
   },
   {
    "duration": 43,
    "start_time": "2021-11-07T18:57:44.799Z"
   },
   {
    "duration": 9,
    "start_time": "2021-11-07T18:59:24.266Z"
   },
   {
    "duration": 14,
    "start_time": "2021-11-07T19:01:06.813Z"
   },
   {
    "duration": 22,
    "start_time": "2021-11-07T19:05:38.471Z"
   },
   {
    "duration": 23,
    "start_time": "2021-11-07T20:52:50.042Z"
   },
   {
    "duration": 10,
    "start_time": "2021-11-07T20:53:00.543Z"
   },
   {
    "duration": 11,
    "start_time": "2021-11-07T20:59:11.406Z"
   },
   {
    "duration": 10,
    "start_time": "2021-11-07T21:19:01.420Z"
   },
   {
    "duration": 10,
    "start_time": "2021-11-07T21:19:04.876Z"
   },
   {
    "duration": 9,
    "start_time": "2021-11-07T21:19:08.928Z"
   },
   {
    "duration": 286,
    "start_time": "2021-11-07T21:28:05.436Z"
   },
   {
    "duration": 328,
    "start_time": "2021-11-07T21:28:15.054Z"
   },
   {
    "duration": 394,
    "start_time": "2021-11-07T21:28:50.154Z"
   },
   {
    "duration": 89,
    "start_time": "2021-11-07T21:39:45.507Z"
   },
   {
    "duration": 6611,
    "start_time": "2021-11-07T21:45:18.478Z"
   },
   {
    "duration": 17,
    "start_time": "2021-11-07T21:46:09.253Z"
   },
   {
    "duration": 24,
    "start_time": "2021-11-07T21:47:09.819Z"
   },
   {
    "duration": 15,
    "start_time": "2021-11-07T21:47:32.186Z"
   },
   {
    "duration": 279,
    "start_time": "2021-11-07T21:48:31.136Z"
   },
   {
    "duration": 14,
    "start_time": "2021-11-07T21:48:47.697Z"
   },
   {
    "duration": 23,
    "start_time": "2021-11-07T21:48:59.896Z"
   },
   {
    "duration": 318,
    "start_time": "2021-11-07T21:51:12.923Z"
   },
   {
    "duration": 16,
    "start_time": "2021-11-07T21:51:18.202Z"
   },
   {
    "duration": 20,
    "start_time": "2021-11-07T21:51:32.621Z"
   },
   {
    "duration": 10,
    "start_time": "2021-11-07T21:51:56.591Z"
   },
   {
    "duration": 21,
    "start_time": "2021-11-07T21:54:54.343Z"
   },
   {
    "duration": 20,
    "start_time": "2021-11-07T21:55:18.143Z"
   },
   {
    "duration": 17,
    "start_time": "2021-11-07T21:55:27.475Z"
   },
   {
    "duration": 319,
    "start_time": "2021-11-07T21:56:06.816Z"
   },
   {
    "duration": 10,
    "start_time": "2021-11-07T21:56:10.747Z"
   },
   {
    "duration": 9,
    "start_time": "2021-11-07T21:56:35.070Z"
   },
   {
    "duration": 10,
    "start_time": "2021-11-07T21:57:23.255Z"
   },
   {
    "duration": 15,
    "start_time": "2021-11-07T21:57:25.108Z"
   },
   {
    "duration": 9,
    "start_time": "2021-11-07T21:57:28.433Z"
   },
   {
    "duration": 93,
    "start_time": "2021-11-07T22:12:15.502Z"
   },
   {
    "duration": 4,
    "start_time": "2021-11-07T22:17:01.320Z"
   },
   {
    "duration": 304,
    "start_time": "2021-11-07T22:20:02.913Z"
   },
   {
    "duration": 427,
    "start_time": "2021-11-07T22:20:33.287Z"
   },
   {
    "duration": 17,
    "start_time": "2021-11-07T22:21:03.010Z"
   },
   {
    "duration": 11,
    "start_time": "2021-11-07T22:21:06.989Z"
   },
   {
    "duration": 41,
    "start_time": "2021-11-07T22:21:26.831Z"
   },
   {
    "duration": 14,
    "start_time": "2021-11-07T22:21:27.665Z"
   },
   {
    "duration": 282,
    "start_time": "2021-11-07T22:21:45.725Z"
   },
   {
    "duration": 5,
    "start_time": "2021-11-07T22:22:02.993Z"
   },
   {
    "duration": 444,
    "start_time": "2021-11-07T22:22:03.002Z"
   },
   {
    "duration": 21,
    "start_time": "2021-11-07T22:22:03.449Z"
   },
   {
    "duration": 12,
    "start_time": "2021-11-07T22:22:03.472Z"
   },
   {
    "duration": 40,
    "start_time": "2021-11-07T22:22:03.486Z"
   },
   {
    "duration": 19,
    "start_time": "2021-11-07T22:22:03.529Z"
   },
   {
    "duration": 11,
    "start_time": "2021-11-07T22:22:03.551Z"
   },
   {
    "duration": 60,
    "start_time": "2021-11-07T22:22:03.564Z"
   },
   {
    "duration": 15,
    "start_time": "2021-11-07T22:22:03.628Z"
   },
   {
    "duration": 12,
    "start_time": "2021-11-07T22:22:03.646Z"
   },
   {
    "duration": 15,
    "start_time": "2021-11-07T22:22:03.661Z"
   },
   {
    "duration": 49,
    "start_time": "2021-11-07T22:22:03.680Z"
   },
   {
    "duration": 21,
    "start_time": "2021-11-07T22:22:03.731Z"
   },
   {
    "duration": 20,
    "start_time": "2021-11-07T22:22:03.754Z"
   },
   {
    "duration": 24,
    "start_time": "2021-11-07T22:22:03.776Z"
   },
   {
    "duration": 11,
    "start_time": "2021-11-07T22:22:03.823Z"
   },
   {
    "duration": 10,
    "start_time": "2021-11-07T22:22:03.836Z"
   },
   {
    "duration": 23,
    "start_time": "2021-11-07T22:22:03.848Z"
   },
   {
    "duration": 10,
    "start_time": "2021-11-07T22:22:03.873Z"
   },
   {
    "duration": 9,
    "start_time": "2021-11-07T22:22:03.923Z"
   },
   {
    "duration": 9,
    "start_time": "2021-11-07T22:22:03.934Z"
   },
   {
    "duration": 16,
    "start_time": "2021-11-07T22:22:03.945Z"
   },
   {
    "duration": 10,
    "start_time": "2021-11-07T22:22:03.963Z"
   },
   {
    "duration": 135,
    "start_time": "2021-11-07T22:22:03.975Z"
   },
   {
    "duration": 820,
    "start_time": "2021-11-07T22:22:04.122Z"
   },
   {
    "duration": 5,
    "start_time": "2021-11-07T22:24:56.957Z"
   },
   {
    "duration": 272,
    "start_time": "2021-11-07T22:25:14.606Z"
   },
   {
    "duration": 43,
    "start_time": "2021-11-07T22:25:25.776Z"
   },
   {
    "duration": 269,
    "start_time": "2021-11-07T22:25:37.785Z"
   },
   {
    "duration": 293,
    "start_time": "2021-11-07T22:26:01.866Z"
   },
   {
    "duration": 1396,
    "start_time": "2021-11-08T16:33:39.283Z"
   },
   {
    "duration": 400,
    "start_time": "2021-11-08T16:33:40.682Z"
   },
   {
    "duration": 24,
    "start_time": "2021-11-08T16:33:41.085Z"
   },
   {
    "duration": 16,
    "start_time": "2021-11-08T16:33:41.112Z"
   },
   {
    "duration": 38,
    "start_time": "2021-11-08T16:33:41.130Z"
   },
   {
    "duration": 25,
    "start_time": "2021-11-08T16:33:41.171Z"
   },
   {
    "duration": 32,
    "start_time": "2021-11-08T16:33:41.199Z"
   },
   {
    "duration": 27,
    "start_time": "2021-11-08T16:33:41.235Z"
   },
   {
    "duration": 16,
    "start_time": "2021-11-08T16:33:41.265Z"
   },
   {
    "duration": 44,
    "start_time": "2021-11-08T16:33:41.283Z"
   },
   {
    "duration": 10,
    "start_time": "2021-11-08T16:33:41.330Z"
   },
   {
    "duration": 13,
    "start_time": "2021-11-08T16:33:41.342Z"
   },
   {
    "duration": 8,
    "start_time": "2021-11-08T16:33:41.358Z"
   },
   {
    "duration": 15,
    "start_time": "2021-11-08T16:33:41.369Z"
   },
   {
    "duration": 23,
    "start_time": "2021-11-08T16:33:41.423Z"
   },
   {
    "duration": 10,
    "start_time": "2021-11-08T16:33:41.449Z"
   },
   {
    "duration": 10,
    "start_time": "2021-11-08T16:33:41.463Z"
   },
   {
    "duration": 64,
    "start_time": "2021-11-08T16:33:41.476Z"
   },
   {
    "duration": 9,
    "start_time": "2021-11-08T16:33:41.542Z"
   },
   {
    "duration": 8,
    "start_time": "2021-11-08T16:33:41.554Z"
   },
   {
    "duration": 9,
    "start_time": "2021-11-08T16:33:41.565Z"
   },
   {
    "duration": 57,
    "start_time": "2021-11-08T16:33:41.577Z"
   },
   {
    "duration": 10,
    "start_time": "2021-11-08T16:33:41.638Z"
   },
   {
    "duration": 112,
    "start_time": "2021-11-08T16:33:41.651Z"
   },
   {
    "duration": 416,
    "start_time": "2021-11-08T16:33:41.766Z"
   },
   {
    "duration": 5,
    "start_time": "2021-11-08T16:38:32.175Z"
   },
   {
    "duration": 15,
    "start_time": "2021-11-08T16:38:44.991Z"
   },
   {
    "duration": 182,
    "start_time": "2021-11-08T16:39:11.460Z"
   },
   {
    "duration": 16,
    "start_time": "2021-11-08T16:39:30.813Z"
   },
   {
    "duration": 4,
    "start_time": "2021-11-08T16:39:47.294Z"
   },
   {
    "duration": 26,
    "start_time": "2021-11-08T16:47:28.598Z"
   },
   {
    "duration": 26,
    "start_time": "2021-11-08T16:47:43.919Z"
   },
   {
    "duration": 27,
    "start_time": "2021-11-08T16:48:21.872Z"
   },
   {
    "duration": 28,
    "start_time": "2021-11-08T16:48:32.242Z"
   },
   {
    "duration": 362,
    "start_time": "2021-11-08T16:51:40.053Z"
   },
   {
    "duration": 29,
    "start_time": "2021-11-08T16:51:45.522Z"
   },
   {
    "duration": 97,
    "start_time": "2021-11-08T16:53:49.570Z"
   },
   {
    "duration": 108,
    "start_time": "2021-11-08T16:54:06.254Z"
   },
   {
    "duration": 29,
    "start_time": "2021-11-08T16:54:19.956Z"
   },
   {
    "duration": 278,
    "start_time": "2021-11-08T16:58:37.488Z"
   },
   {
    "duration": 765,
    "start_time": "2021-11-08T16:59:17.408Z"
   },
   {
    "duration": 528,
    "start_time": "2021-11-08T16:59:32.874Z"
   },
   {
    "duration": 500,
    "start_time": "2021-11-08T17:00:49.618Z"
   },
   {
    "duration": 53,
    "start_time": "2021-11-08T17:04:18.825Z"
   },
   {
    "duration": 56,
    "start_time": "2021-11-08T17:15:59.531Z"
   },
   {
    "duration": 28,
    "start_time": "2021-11-08T17:19:02.099Z"
   },
   {
    "duration": 25,
    "start_time": "2021-11-08T17:20:37.586Z"
   },
   {
    "duration": 1203,
    "start_time": "2021-11-08T17:21:15.504Z"
   },
   {
    "duration": 25,
    "start_time": "2021-11-08T17:21:28.622Z"
   },
   {
    "duration": 73,
    "start_time": "2021-11-08T17:36:22.186Z"
   },
   {
    "duration": 29,
    "start_time": "2021-11-08T17:39:16.844Z"
   },
   {
    "duration": 26,
    "start_time": "2021-11-08T17:40:32.096Z"
   },
   {
    "duration": 26,
    "start_time": "2021-11-08T17:40:36.706Z"
   },
   {
    "duration": 334,
    "start_time": "2021-11-08T17:41:51.970Z"
   },
   {
    "duration": 26,
    "start_time": "2021-11-08T17:41:57.064Z"
   },
   {
    "duration": 20,
    "start_time": "2021-11-08T17:45:07.960Z"
   },
   {
    "duration": 12,
    "start_time": "2021-11-08T17:45:30.661Z"
   },
   {
    "duration": 12,
    "start_time": "2021-11-08T17:45:45.202Z"
   },
   {
    "duration": 8506,
    "start_time": "2021-11-08T17:46:02.251Z"
   },
   {
    "duration": 6681,
    "start_time": "2021-11-08T17:46:38.326Z"
   },
   {
    "duration": 5,
    "start_time": "2021-11-08T17:48:00.960Z"
   },
   {
    "duration": 422,
    "start_time": "2021-11-08T17:48:00.969Z"
   },
   {
    "duration": 20,
    "start_time": "2021-11-08T17:48:01.395Z"
   },
   {
    "duration": 23,
    "start_time": "2021-11-08T17:48:01.418Z"
   },
   {
    "duration": 50,
    "start_time": "2021-11-08T17:48:01.443Z"
   },
   {
    "duration": 18,
    "start_time": "2021-11-08T17:48:01.496Z"
   },
   {
    "duration": 14,
    "start_time": "2021-11-08T17:48:01.516Z"
   },
   {
    "duration": 43,
    "start_time": "2021-11-08T17:48:01.534Z"
   },
   {
    "duration": 15,
    "start_time": "2021-11-08T17:48:01.581Z"
   },
   {
    "duration": 31,
    "start_time": "2021-11-08T17:48:01.598Z"
   },
   {
    "duration": 17,
    "start_time": "2021-11-08T17:48:01.632Z"
   },
   {
    "duration": 19,
    "start_time": "2021-11-08T17:48:01.651Z"
   },
   {
    "duration": 16,
    "start_time": "2021-11-08T17:48:01.673Z"
   },
   {
    "duration": 37,
    "start_time": "2021-11-08T17:48:01.692Z"
   },
   {
    "duration": 26,
    "start_time": "2021-11-08T17:48:01.732Z"
   },
   {
    "duration": 15,
    "start_time": "2021-11-08T17:48:01.760Z"
   },
   {
    "duration": 10,
    "start_time": "2021-11-08T17:48:01.778Z"
   },
   {
    "duration": 50,
    "start_time": "2021-11-08T17:48:01.791Z"
   },
   {
    "duration": 10,
    "start_time": "2021-11-08T17:48:01.843Z"
   },
   {
    "duration": 16,
    "start_time": "2021-11-08T17:48:01.856Z"
   },
   {
    "duration": 10,
    "start_time": "2021-11-08T17:48:01.875Z"
   },
   {
    "duration": 45,
    "start_time": "2021-11-08T17:48:01.888Z"
   },
   {
    "duration": 10,
    "start_time": "2021-11-08T17:48:01.937Z"
   },
   {
    "duration": 106,
    "start_time": "2021-11-08T17:48:01.950Z"
   },
   {
    "duration": 15,
    "start_time": "2021-11-08T17:48:02.059Z"
   },
   {
    "duration": 383,
    "start_time": "2021-11-08T17:48:02.076Z"
   },
   {
    "duration": -350,
    "start_time": "2021-11-08T17:48:02.812Z"
   },
   {
    "duration": -354,
    "start_time": "2021-11-08T17:48:02.817Z"
   },
   {
    "duration": -358,
    "start_time": "2021-11-08T17:48:02.822Z"
   },
   {
    "duration": -361,
    "start_time": "2021-11-08T17:48:02.827Z"
   },
   {
    "duration": -363,
    "start_time": "2021-11-08T17:48:02.830Z"
   },
   {
    "duration": 4,
    "start_time": "2021-11-08T17:48:31.898Z"
   },
   {
    "duration": 376,
    "start_time": "2021-11-08T17:48:31.906Z"
   },
   {
    "duration": 20,
    "start_time": "2021-11-08T17:48:32.286Z"
   },
   {
    "duration": 12,
    "start_time": "2021-11-08T17:48:32.310Z"
   },
   {
    "duration": 33,
    "start_time": "2021-11-08T17:48:32.325Z"
   },
   {
    "duration": 21,
    "start_time": "2021-11-08T17:48:32.361Z"
   },
   {
    "duration": 40,
    "start_time": "2021-11-08T17:48:32.384Z"
   },
   {
    "duration": 29,
    "start_time": "2021-11-08T17:48:32.427Z"
   },
   {
    "duration": 14,
    "start_time": "2021-11-08T17:48:32.461Z"
   },
   {
    "duration": 45,
    "start_time": "2021-11-08T17:48:32.479Z"
   },
   {
    "duration": 13,
    "start_time": "2021-11-08T17:48:32.527Z"
   },
   {
    "duration": 19,
    "start_time": "2021-11-08T17:48:32.543Z"
   },
   {
    "duration": 11,
    "start_time": "2021-11-08T17:48:32.565Z"
   },
   {
    "duration": 52,
    "start_time": "2021-11-08T17:48:32.579Z"
   },
   {
    "duration": 23,
    "start_time": "2021-11-08T17:48:32.633Z"
   },
   {
    "duration": 22,
    "start_time": "2021-11-08T17:48:32.658Z"
   },
   {
    "duration": 16,
    "start_time": "2021-11-08T17:48:32.682Z"
   },
   {
    "duration": 24,
    "start_time": "2021-11-08T17:48:32.723Z"
   },
   {
    "duration": 11,
    "start_time": "2021-11-08T17:48:32.750Z"
   },
   {
    "duration": 11,
    "start_time": "2021-11-08T17:48:32.763Z"
   },
   {
    "duration": 48,
    "start_time": "2021-11-08T17:48:32.776Z"
   },
   {
    "duration": 16,
    "start_time": "2021-11-08T17:48:32.827Z"
   },
   {
    "duration": 10,
    "start_time": "2021-11-08T17:48:32.845Z"
   },
   {
    "duration": 125,
    "start_time": "2021-11-08T17:48:32.857Z"
   },
   {
    "duration": 21,
    "start_time": "2021-11-08T17:48:32.985Z"
   },
   {
    "duration": 502,
    "start_time": "2021-11-08T17:48:33.023Z"
   },
   {
    "duration": -351,
    "start_time": "2021-11-08T17:48:33.879Z"
   },
   {
    "duration": -359,
    "start_time": "2021-11-08T17:48:33.888Z"
   },
   {
    "duration": -364,
    "start_time": "2021-11-08T17:48:33.895Z"
   },
   {
    "duration": -376,
    "start_time": "2021-11-08T17:48:33.908Z"
   },
   {
    "duration": -377,
    "start_time": "2021-11-08T17:48:33.910Z"
   },
   {
    "duration": 52,
    "start_time": "2021-11-08T17:49:13.446Z"
   },
   {
    "duration": 4,
    "start_time": "2021-11-08T17:49:23.889Z"
   },
   {
    "duration": 374,
    "start_time": "2021-11-08T17:49:23.896Z"
   },
   {
    "duration": 21,
    "start_time": "2021-11-08T17:49:24.272Z"
   },
   {
    "duration": 12,
    "start_time": "2021-11-08T17:49:24.296Z"
   },
   {
    "duration": 34,
    "start_time": "2021-11-08T17:49:24.310Z"
   },
   {
    "duration": 18,
    "start_time": "2021-11-08T17:49:24.347Z"
   },
   {
    "duration": 12,
    "start_time": "2021-11-08T17:49:24.367Z"
   },
   {
    "duration": 52,
    "start_time": "2021-11-08T17:49:24.383Z"
   },
   {
    "duration": 14,
    "start_time": "2021-11-08T17:49:24.438Z"
   },
   {
    "duration": 27,
    "start_time": "2021-11-08T17:49:24.454Z"
   },
   {
    "duration": 19,
    "start_time": "2021-11-08T17:49:24.483Z"
   },
   {
    "duration": 27,
    "start_time": "2021-11-08T17:49:24.505Z"
   },
   {
    "duration": 24,
    "start_time": "2021-11-08T17:49:24.535Z"
   },
   {
    "duration": 31,
    "start_time": "2021-11-08T17:49:24.562Z"
   },
   {
    "duration": 30,
    "start_time": "2021-11-08T17:49:24.595Z"
   },
   {
    "duration": 20,
    "start_time": "2021-11-08T17:49:24.628Z"
   },
   {
    "duration": 13,
    "start_time": "2021-11-08T17:49:24.650Z"
   },
   {
    "duration": 25,
    "start_time": "2021-11-08T17:49:24.665Z"
   },
   {
    "duration": 33,
    "start_time": "2021-11-08T17:49:24.693Z"
   },
   {
    "duration": 9,
    "start_time": "2021-11-08T17:49:24.729Z"
   },
   {
    "duration": 14,
    "start_time": "2021-11-08T17:49:24.740Z"
   },
   {
    "duration": 26,
    "start_time": "2021-11-08T17:49:24.757Z"
   },
   {
    "duration": 36,
    "start_time": "2021-11-08T17:49:24.788Z"
   },
   {
    "duration": 107,
    "start_time": "2021-11-08T17:49:24.827Z"
   },
   {
    "duration": 16,
    "start_time": "2021-11-08T17:49:24.937Z"
   },
   {
    "duration": 100,
    "start_time": "2021-11-08T17:49:24.956Z"
   },
   {
    "duration": 65,
    "start_time": "2021-11-08T17:49:25.059Z"
   },
   {
    "duration": 31,
    "start_time": "2021-11-08T17:49:25.127Z"
   },
   {
    "duration": 101,
    "start_time": "2021-11-08T17:49:25.162Z"
   },
   {
    "duration": 35,
    "start_time": "2021-11-08T17:49:25.266Z"
   },
   {
    "duration": 332,
    "start_time": "2021-11-08T17:49:25.303Z"
   },
   {
    "duration": 13,
    "start_time": "2021-11-08T17:49:51.606Z"
   },
   {
    "duration": -415,
    "start_time": "2021-11-08T17:50:09.771Z"
   },
   {
    "duration": 7329,
    "start_time": "2021-11-08T17:50:10.470Z"
   },
   {
    "duration": 3,
    "start_time": "2021-11-08T17:50:20.575Z"
   },
   {
    "duration": 406,
    "start_time": "2021-11-08T17:50:20.581Z"
   },
   {
    "duration": 20,
    "start_time": "2021-11-08T17:50:20.990Z"
   },
   {
    "duration": 14,
    "start_time": "2021-11-08T17:50:21.013Z"
   },
   {
    "duration": 37,
    "start_time": "2021-11-08T17:50:21.030Z"
   },
   {
    "duration": 18,
    "start_time": "2021-11-08T17:50:21.069Z"
   },
   {
    "duration": 10,
    "start_time": "2021-11-08T17:50:21.089Z"
   },
   {
    "duration": 27,
    "start_time": "2021-11-08T17:50:21.123Z"
   },
   {
    "duration": 14,
    "start_time": "2021-11-08T17:50:21.153Z"
   },
   {
    "duration": 10,
    "start_time": "2021-11-08T17:50:21.170Z"
   },
   {
    "duration": 44,
    "start_time": "2021-11-08T17:50:21.182Z"
   },
   {
    "duration": 15,
    "start_time": "2021-11-08T17:50:21.229Z"
   },
   {
    "duration": 12,
    "start_time": "2021-11-08T17:50:21.247Z"
   },
   {
    "duration": 17,
    "start_time": "2021-11-08T17:50:21.263Z"
   },
   {
    "duration": 22,
    "start_time": "2021-11-08T17:50:21.322Z"
   },
   {
    "duration": 10,
    "start_time": "2021-11-08T17:50:21.346Z"
   },
   {
    "duration": 10,
    "start_time": "2021-11-08T17:50:21.358Z"
   },
   {
    "duration": 59,
    "start_time": "2021-11-08T17:50:21.370Z"
   },
   {
    "duration": 9,
    "start_time": "2021-11-08T17:50:21.431Z"
   },
   {
    "duration": 10,
    "start_time": "2021-11-08T17:50:21.443Z"
   },
   {
    "duration": 9,
    "start_time": "2021-11-08T17:50:21.455Z"
   },
   {
    "duration": 58,
    "start_time": "2021-11-08T17:50:21.466Z"
   },
   {
    "duration": 11,
    "start_time": "2021-11-08T17:50:21.528Z"
   },
   {
    "duration": 109,
    "start_time": "2021-11-08T17:50:21.542Z"
   },
   {
    "duration": 14,
    "start_time": "2021-11-08T17:50:21.653Z"
   },
   {
    "duration": 88,
    "start_time": "2021-11-08T17:50:21.669Z"
   },
   {
    "duration": 65,
    "start_time": "2021-11-08T17:50:21.759Z"
   },
   {
    "duration": 30,
    "start_time": "2021-11-08T17:50:21.827Z"
   },
   {
    "duration": 97,
    "start_time": "2021-11-08T17:50:21.859Z"
   },
   {
    "duration": 33,
    "start_time": "2021-11-08T17:50:21.959Z"
   },
   {
    "duration": 32,
    "start_time": "2021-11-08T17:50:21.994Z"
   },
   {
    "duration": 5,
    "start_time": "2021-11-08T17:50:49.346Z"
   },
   {
    "duration": 397,
    "start_time": "2021-11-08T17:50:49.354Z"
   },
   {
    "duration": 21,
    "start_time": "2021-11-08T17:50:49.754Z"
   },
   {
    "duration": 11,
    "start_time": "2021-11-08T17:50:49.778Z"
   },
   {
    "duration": 30,
    "start_time": "2021-11-08T17:50:49.792Z"
   },
   {
    "duration": 18,
    "start_time": "2021-11-08T17:50:49.824Z"
   },
   {
    "duration": 12,
    "start_time": "2021-11-08T17:50:49.844Z"
   },
   {
    "duration": 27,
    "start_time": "2021-11-08T17:50:49.860Z"
   },
   {
    "duration": 16,
    "start_time": "2021-11-08T17:50:49.922Z"
   },
   {
    "duration": 11,
    "start_time": "2021-11-08T17:50:49.940Z"
   },
   {
    "duration": 12,
    "start_time": "2021-11-08T17:50:49.954Z"
   },
   {
    "duration": 17,
    "start_time": "2021-11-08T17:50:49.968Z"
   },
   {
    "duration": 10,
    "start_time": "2021-11-08T17:50:50.024Z"
   },
   {
    "duration": 24,
    "start_time": "2021-11-08T17:50:50.036Z"
   },
   {
    "duration": 23,
    "start_time": "2021-11-08T17:50:50.063Z"
   },
   {
    "duration": 36,
    "start_time": "2021-11-08T17:50:50.088Z"
   },
   {
    "duration": 11,
    "start_time": "2021-11-08T17:50:50.126Z"
   },
   {
    "duration": 23,
    "start_time": "2021-11-08T17:50:50.139Z"
   },
   {
    "duration": 9,
    "start_time": "2021-11-08T17:50:50.164Z"
   },
   {
    "duration": 53,
    "start_time": "2021-11-08T17:50:50.175Z"
   },
   {
    "duration": 8,
    "start_time": "2021-11-08T17:50:50.230Z"
   },
   {
    "duration": 18,
    "start_time": "2021-11-08T17:50:50.241Z"
   },
   {
    "duration": 10,
    "start_time": "2021-11-08T17:50:50.266Z"
   },
   {
    "duration": 105,
    "start_time": "2021-11-08T17:50:50.322Z"
   },
   {
    "duration": 17,
    "start_time": "2021-11-08T17:50:50.430Z"
   },
   {
    "duration": 95,
    "start_time": "2021-11-08T17:50:50.449Z"
   },
   {
    "duration": 55,
    "start_time": "2021-11-08T17:50:50.546Z"
   },
   {
    "duration": 47,
    "start_time": "2021-11-08T17:50:50.604Z"
   },
   {
    "duration": 86,
    "start_time": "2021-11-08T17:50:50.653Z"
   },
   {
    "duration": 34,
    "start_time": "2021-11-08T17:50:50.741Z"
   },
   {
    "duration": 10,
    "start_time": "2021-11-08T17:50:50.777Z"
   },
   {
    "duration": 11,
    "start_time": "2021-11-08T17:50:54.873Z"
   },
   {
    "duration": 12,
    "start_time": "2021-11-08T17:51:21.943Z"
   },
   {
    "duration": 4,
    "start_time": "2021-11-08T17:51:26.357Z"
   },
   {
    "duration": 389,
    "start_time": "2021-11-08T17:51:26.364Z"
   },
   {
    "duration": 20,
    "start_time": "2021-11-08T17:51:26.756Z"
   },
   {
    "duration": 10,
    "start_time": "2021-11-08T17:51:26.779Z"
   },
   {
    "duration": 34,
    "start_time": "2021-11-08T17:51:26.792Z"
   },
   {
    "duration": 17,
    "start_time": "2021-11-08T17:51:26.828Z"
   },
   {
    "duration": 12,
    "start_time": "2021-11-08T17:51:26.848Z"
   },
   {
    "duration": 60,
    "start_time": "2021-11-08T17:51:26.863Z"
   },
   {
    "duration": 15,
    "start_time": "2021-11-08T17:51:26.925Z"
   },
   {
    "duration": 10,
    "start_time": "2021-11-08T17:51:26.942Z"
   },
   {
    "duration": 10,
    "start_time": "2021-11-08T17:51:26.954Z"
   },
   {
    "duration": 15,
    "start_time": "2021-11-08T17:51:26.966Z"
   },
   {
    "duration": 43,
    "start_time": "2021-11-08T17:51:26.984Z"
   },
   {
    "duration": 18,
    "start_time": "2021-11-08T17:51:27.030Z"
   },
   {
    "duration": 21,
    "start_time": "2021-11-08T17:51:27.051Z"
   },
   {
    "duration": 10,
    "start_time": "2021-11-08T17:51:27.074Z"
   },
   {
    "duration": 10,
    "start_time": "2021-11-08T17:51:27.123Z"
   },
   {
    "duration": 23,
    "start_time": "2021-11-08T17:51:27.135Z"
   },
   {
    "duration": 11,
    "start_time": "2021-11-08T17:51:27.162Z"
   },
   {
    "duration": 46,
    "start_time": "2021-11-08T17:51:27.176Z"
   },
   {
    "duration": 9,
    "start_time": "2021-11-08T17:51:27.225Z"
   },
   {
    "duration": 15,
    "start_time": "2021-11-08T17:51:27.237Z"
   },
   {
    "duration": 12,
    "start_time": "2021-11-08T17:51:27.255Z"
   },
   {
    "duration": 127,
    "start_time": "2021-11-08T17:51:27.269Z"
   },
   {
    "duration": 26,
    "start_time": "2021-11-08T17:51:27.398Z"
   },
   {
    "duration": 65,
    "start_time": "2021-11-08T17:51:27.426Z"
   },
   {
    "duration": 70,
    "start_time": "2021-11-08T17:51:27.493Z"
   },
   {
    "duration": 31,
    "start_time": "2021-11-08T17:51:27.566Z"
   },
   {
    "duration": 97,
    "start_time": "2021-11-08T17:51:27.599Z"
   },
   {
    "duration": 47,
    "start_time": "2021-11-08T17:51:27.699Z"
   },
   {
    "duration": 11,
    "start_time": "2021-11-08T17:51:27.749Z"
   },
   {
    "duration": 4,
    "start_time": "2021-11-08T17:52:25.032Z"
   },
   {
    "duration": 381,
    "start_time": "2021-11-08T17:52:25.039Z"
   },
   {
    "duration": 21,
    "start_time": "2021-11-08T17:52:25.423Z"
   },
   {
    "duration": 11,
    "start_time": "2021-11-08T17:52:25.446Z"
   },
   {
    "duration": 34,
    "start_time": "2021-11-08T17:52:25.459Z"
   },
   {
    "duration": 19,
    "start_time": "2021-11-08T17:52:25.523Z"
   },
   {
    "duration": 13,
    "start_time": "2021-11-08T17:52:25.544Z"
   },
   {
    "duration": 32,
    "start_time": "2021-11-08T17:52:25.561Z"
   },
   {
    "duration": 15,
    "start_time": "2021-11-08T17:52:25.624Z"
   },
   {
    "duration": 12,
    "start_time": "2021-11-08T17:52:25.642Z"
   },
   {
    "duration": 11,
    "start_time": "2021-11-08T17:52:25.657Z"
   },
   {
    "duration": 53,
    "start_time": "2021-11-08T17:52:25.671Z"
   },
   {
    "duration": 10,
    "start_time": "2021-11-08T17:52:25.726Z"
   },
   {
    "duration": 18,
    "start_time": "2021-11-08T17:52:25.738Z"
   },
   {
    "duration": 22,
    "start_time": "2021-11-08T17:52:25.758Z"
   },
   {
    "duration": 46,
    "start_time": "2021-11-08T17:52:25.783Z"
   },
   {
    "duration": 9,
    "start_time": "2021-11-08T17:52:25.832Z"
   },
   {
    "duration": 23,
    "start_time": "2021-11-08T17:52:25.844Z"
   },
   {
    "duration": 10,
    "start_time": "2021-11-08T17:52:25.869Z"
   },
   {
    "duration": 46,
    "start_time": "2021-11-08T17:52:25.881Z"
   },
   {
    "duration": 13,
    "start_time": "2021-11-08T17:52:25.930Z"
   },
   {
    "duration": 17,
    "start_time": "2021-11-08T17:52:25.946Z"
   },
   {
    "duration": 14,
    "start_time": "2021-11-08T17:52:25.967Z"
   },
   {
    "duration": 148,
    "start_time": "2021-11-08T17:52:25.989Z"
   },
   {
    "duration": 16,
    "start_time": "2021-11-08T17:52:26.139Z"
   },
   {
    "duration": 92,
    "start_time": "2021-11-08T17:52:26.157Z"
   },
   {
    "duration": 55,
    "start_time": "2021-11-08T17:52:26.251Z"
   },
   {
    "duration": 32,
    "start_time": "2021-11-08T17:52:26.323Z"
   },
   {
    "duration": 93,
    "start_time": "2021-11-08T17:52:26.357Z"
   },
   {
    "duration": 34,
    "start_time": "2021-11-08T17:52:26.452Z"
   },
   {
    "duration": 11,
    "start_time": "2021-11-08T17:52:26.489Z"
   },
   {
    "duration": 4,
    "start_time": "2021-11-08T17:52:34.362Z"
   },
   {
    "duration": 401,
    "start_time": "2021-11-08T17:52:34.369Z"
   },
   {
    "duration": 22,
    "start_time": "2021-11-08T17:52:34.774Z"
   },
   {
    "duration": 12,
    "start_time": "2021-11-08T17:52:34.798Z"
   },
   {
    "duration": 37,
    "start_time": "2021-11-08T17:52:34.812Z"
   },
   {
    "duration": 17,
    "start_time": "2021-11-08T17:52:34.852Z"
   },
   {
    "duration": 15,
    "start_time": "2021-11-08T17:52:34.874Z"
   },
   {
    "duration": 47,
    "start_time": "2021-11-08T17:52:34.892Z"
   },
   {
    "duration": 15,
    "start_time": "2021-11-08T17:52:34.941Z"
   },
   {
    "duration": 14,
    "start_time": "2021-11-08T17:52:34.959Z"
   },
   {
    "duration": 14,
    "start_time": "2021-11-08T17:52:34.976Z"
   },
   {
    "duration": 41,
    "start_time": "2021-11-08T17:52:34.993Z"
   },
   {
    "duration": 32,
    "start_time": "2021-11-08T17:52:35.036Z"
   },
   {
    "duration": 27,
    "start_time": "2021-11-08T17:52:35.071Z"
   },
   {
    "duration": 26,
    "start_time": "2021-11-08T17:52:35.102Z"
   },
   {
    "duration": 14,
    "start_time": "2021-11-08T17:52:35.131Z"
   },
   {
    "duration": 18,
    "start_time": "2021-11-08T17:52:35.147Z"
   },
   {
    "duration": 23,
    "start_time": "2021-11-08T17:52:35.167Z"
   },
   {
    "duration": 35,
    "start_time": "2021-11-08T17:52:35.195Z"
   },
   {
    "duration": 10,
    "start_time": "2021-11-08T17:52:35.232Z"
   },
   {
    "duration": 15,
    "start_time": "2021-11-08T17:52:35.244Z"
   },
   {
    "duration": 28,
    "start_time": "2021-11-08T17:52:35.261Z"
   },
   {
    "duration": 37,
    "start_time": "2021-11-08T17:52:35.291Z"
   },
   {
    "duration": 102,
    "start_time": "2021-11-08T17:52:35.330Z"
   },
   {
    "duration": 15,
    "start_time": "2021-11-08T17:52:35.434Z"
   },
   {
    "duration": 89,
    "start_time": "2021-11-08T17:52:35.451Z"
   },
   {
    "duration": 54,
    "start_time": "2021-11-08T17:52:35.542Z"
   },
   {
    "duration": 46,
    "start_time": "2021-11-08T17:52:35.598Z"
   },
   {
    "duration": 94,
    "start_time": "2021-11-08T17:52:35.646Z"
   },
   {
    "duration": 34,
    "start_time": "2021-11-08T17:52:35.743Z"
   },
   {
    "duration": 12,
    "start_time": "2021-11-08T17:52:35.779Z"
   },
   {
    "duration": 5,
    "start_time": "2021-11-08T17:54:47.528Z"
   },
   {
    "duration": 378,
    "start_time": "2021-11-08T17:54:47.536Z"
   },
   {
    "duration": 25,
    "start_time": "2021-11-08T17:54:47.918Z"
   },
   {
    "duration": 13,
    "start_time": "2021-11-08T17:54:47.946Z"
   },
   {
    "duration": 31,
    "start_time": "2021-11-08T17:54:47.961Z"
   },
   {
    "duration": 43,
    "start_time": "2021-11-08T17:54:47.994Z"
   },
   {
    "duration": 11,
    "start_time": "2021-11-08T17:54:48.040Z"
   },
   {
    "duration": 31,
    "start_time": "2021-11-08T17:54:48.055Z"
   },
   {
    "duration": 45,
    "start_time": "2021-11-08T17:54:48.089Z"
   },
   {
    "duration": 10,
    "start_time": "2021-11-08T17:54:48.137Z"
   },
   {
    "duration": 10,
    "start_time": "2021-11-08T17:54:48.149Z"
   },
   {
    "duration": 13,
    "start_time": "2021-11-08T17:54:48.161Z"
   },
   {
    "duration": 49,
    "start_time": "2021-11-08T17:54:48.176Z"
   },
   {
    "duration": 19,
    "start_time": "2021-11-08T17:54:48.227Z"
   },
   {
    "duration": 25,
    "start_time": "2021-11-08T17:54:48.248Z"
   },
   {
    "duration": 9,
    "start_time": "2021-11-08T17:54:48.276Z"
   },
   {
    "duration": 42,
    "start_time": "2021-11-08T17:54:48.288Z"
   },
   {
    "duration": 22,
    "start_time": "2021-11-08T17:54:48.333Z"
   },
   {
    "duration": 10,
    "start_time": "2021-11-08T17:54:48.358Z"
   },
   {
    "duration": 55,
    "start_time": "2021-11-08T17:54:48.371Z"
   },
   {
    "duration": 9,
    "start_time": "2021-11-08T17:54:48.428Z"
   },
   {
    "duration": 17,
    "start_time": "2021-11-08T17:54:48.439Z"
   },
   {
    "duration": 11,
    "start_time": "2021-11-08T17:54:48.460Z"
   },
   {
    "duration": 123,
    "start_time": "2021-11-08T17:54:48.474Z"
   },
   {
    "duration": 29,
    "start_time": "2021-11-08T17:54:48.600Z"
   },
   {
    "duration": 67,
    "start_time": "2021-11-08T17:54:48.631Z"
   },
   {
    "duration": 73,
    "start_time": "2021-11-08T17:54:48.701Z"
   },
   {
    "duration": 48,
    "start_time": "2021-11-08T17:54:48.776Z"
   },
   {
    "duration": 70,
    "start_time": "2021-11-08T17:54:48.826Z"
   },
   {
    "duration": 53,
    "start_time": "2021-11-08T17:54:48.898Z"
   },
   {
    "duration": 12,
    "start_time": "2021-11-08T17:54:48.953Z"
   },
   {
    "duration": 13,
    "start_time": "2021-11-08T17:55:22.622Z"
   },
   {
    "duration": 5,
    "start_time": "2021-11-08T17:55:25.556Z"
   },
   {
    "duration": 398,
    "start_time": "2021-11-08T17:55:25.564Z"
   },
   {
    "duration": 22,
    "start_time": "2021-11-08T17:55:25.965Z"
   },
   {
    "duration": 12,
    "start_time": "2021-11-08T17:55:25.990Z"
   },
   {
    "duration": 52,
    "start_time": "2021-11-08T17:55:26.005Z"
   },
   {
    "duration": 18,
    "start_time": "2021-11-08T17:55:26.060Z"
   },
   {
    "duration": 14,
    "start_time": "2021-11-08T17:55:26.082Z"
   },
   {
    "duration": 50,
    "start_time": "2021-11-08T17:55:26.099Z"
   },
   {
    "duration": 15,
    "start_time": "2021-11-08T17:55:26.152Z"
   },
   {
    "duration": 14,
    "start_time": "2021-11-08T17:55:26.170Z"
   },
   {
    "duration": 42,
    "start_time": "2021-11-08T17:55:26.187Z"
   },
   {
    "duration": 21,
    "start_time": "2021-11-08T17:55:26.232Z"
   },
   {
    "duration": 19,
    "start_time": "2021-11-08T17:55:26.256Z"
   },
   {
    "duration": 17,
    "start_time": "2021-11-08T17:55:26.278Z"
   },
   {
    "duration": 40,
    "start_time": "2021-11-08T17:55:26.297Z"
   },
   {
    "duration": 10,
    "start_time": "2021-11-08T17:55:26.339Z"
   },
   {
    "duration": 13,
    "start_time": "2021-11-08T17:55:26.351Z"
   },
   {
    "duration": 22,
    "start_time": "2021-11-08T17:55:26.367Z"
   },
   {
    "duration": 10,
    "start_time": "2021-11-08T17:55:26.424Z"
   },
   {
    "duration": 9,
    "start_time": "2021-11-08T17:55:26.437Z"
   },
   {
    "duration": 21,
    "start_time": "2021-11-08T17:55:26.448Z"
   },
   {
    "duration": 16,
    "start_time": "2021-11-08T17:55:26.472Z"
   },
   {
    "duration": 38,
    "start_time": "2021-11-08T17:55:26.490Z"
   },
   {
    "duration": 104,
    "start_time": "2021-11-08T17:55:26.530Z"
   },
   {
    "duration": 14,
    "start_time": "2021-11-08T17:55:26.636Z"
   },
   {
    "duration": 92,
    "start_time": "2021-11-08T17:55:26.652Z"
   },
   {
    "duration": 54,
    "start_time": "2021-11-08T17:55:26.747Z"
   },
   {
    "duration": 49,
    "start_time": "2021-11-08T17:55:26.804Z"
   },
   {
    "duration": 91,
    "start_time": "2021-11-08T17:55:26.856Z"
   },
   {
    "duration": 33,
    "start_time": "2021-11-08T17:55:26.949Z"
   },
   {
    "duration": 11,
    "start_time": "2021-11-08T17:55:26.985Z"
   },
   {
    "duration": 4,
    "start_time": "2021-11-08T17:55:39.449Z"
   },
   {
    "duration": 373,
    "start_time": "2021-11-08T17:55:39.455Z"
   },
   {
    "duration": 22,
    "start_time": "2021-11-08T17:55:39.831Z"
   },
   {
    "duration": 11,
    "start_time": "2021-11-08T17:55:39.856Z"
   },
   {
    "duration": 56,
    "start_time": "2021-11-08T17:55:39.869Z"
   },
   {
    "duration": 19,
    "start_time": "2021-11-08T17:55:39.928Z"
   },
   {
    "duration": 11,
    "start_time": "2021-11-08T17:55:39.951Z"
   },
   {
    "duration": 59,
    "start_time": "2021-11-08T17:55:39.965Z"
   },
   {
    "duration": 15,
    "start_time": "2021-11-08T17:55:40.027Z"
   },
   {
    "duration": 11,
    "start_time": "2021-11-08T17:55:40.044Z"
   },
   {
    "duration": 11,
    "start_time": "2021-11-08T17:55:40.058Z"
   },
   {
    "duration": 55,
    "start_time": "2021-11-08T17:55:40.071Z"
   },
   {
    "duration": 11,
    "start_time": "2021-11-08T17:55:40.129Z"
   },
   {
    "duration": 16,
    "start_time": "2021-11-08T17:55:40.142Z"
   },
   {
    "duration": 22,
    "start_time": "2021-11-08T17:55:40.161Z"
   },
   {
    "duration": 41,
    "start_time": "2021-11-08T17:55:40.186Z"
   },
   {
    "duration": 15,
    "start_time": "2021-11-08T17:55:40.229Z"
   },
   {
    "duration": 22,
    "start_time": "2021-11-08T17:55:40.247Z"
   },
   {
    "duration": 10,
    "start_time": "2021-11-08T17:55:40.273Z"
   },
   {
    "duration": 41,
    "start_time": "2021-11-08T17:55:40.286Z"
   },
   {
    "duration": 8,
    "start_time": "2021-11-08T17:55:40.329Z"
   },
   {
    "duration": 23,
    "start_time": "2021-11-08T17:55:40.339Z"
   },
   {
    "duration": 10,
    "start_time": "2021-11-08T17:55:40.365Z"
   },
   {
    "duration": 129,
    "start_time": "2021-11-08T17:55:40.377Z"
   },
   {
    "duration": 27,
    "start_time": "2021-11-08T17:55:40.509Z"
   },
   {
    "duration": 64,
    "start_time": "2021-11-08T17:55:40.538Z"
   },
   {
    "duration": 52,
    "start_time": "2021-11-08T17:55:40.622Z"
   },
   {
    "duration": 51,
    "start_time": "2021-11-08T17:55:40.677Z"
   },
   {
    "duration": 69,
    "start_time": "2021-11-08T17:55:40.730Z"
   },
   {
    "duration": 51,
    "start_time": "2021-11-08T17:55:40.801Z"
   },
   {
    "duration": 13,
    "start_time": "2021-11-08T17:55:40.854Z"
   },
   {
    "duration": 4,
    "start_time": "2021-11-08T17:56:00.088Z"
   },
   {
    "duration": 396,
    "start_time": "2021-11-08T17:56:00.095Z"
   },
   {
    "duration": 22,
    "start_time": "2021-11-08T17:56:00.493Z"
   },
   {
    "duration": 15,
    "start_time": "2021-11-08T17:56:00.518Z"
   },
   {
    "duration": 34,
    "start_time": "2021-11-08T17:56:00.536Z"
   },
   {
    "duration": 18,
    "start_time": "2021-11-08T17:56:00.572Z"
   },
   {
    "duration": 40,
    "start_time": "2021-11-08T17:56:00.593Z"
   },
   {
    "duration": 38,
    "start_time": "2021-11-08T17:56:00.637Z"
   },
   {
    "duration": 15,
    "start_time": "2021-11-08T17:56:00.679Z"
   },
   {
    "duration": 29,
    "start_time": "2021-11-08T17:56:00.696Z"
   },
   {
    "duration": 16,
    "start_time": "2021-11-08T17:56:00.728Z"
   },
   {
    "duration": 25,
    "start_time": "2021-11-08T17:56:00.747Z"
   },
   {
    "duration": 26,
    "start_time": "2021-11-08T17:56:00.775Z"
   },
   {
    "duration": 29,
    "start_time": "2021-11-08T17:56:00.803Z"
   },
   {
    "duration": 35,
    "start_time": "2021-11-08T17:56:00.834Z"
   },
   {
    "duration": 16,
    "start_time": "2021-11-08T17:56:00.871Z"
   },
   {
    "duration": 32,
    "start_time": "2021-11-08T17:56:00.890Z"
   },
   {
    "duration": 25,
    "start_time": "2021-11-08T17:56:00.925Z"
   },
   {
    "duration": 13,
    "start_time": "2021-11-08T17:56:00.953Z"
   },
   {
    "duration": 11,
    "start_time": "2021-11-08T17:56:00.969Z"
   },
   {
    "duration": 11,
    "start_time": "2021-11-08T17:56:01.024Z"
   },
   {
    "duration": 22,
    "start_time": "2021-11-08T17:56:01.038Z"
   },
   {
    "duration": 17,
    "start_time": "2021-11-08T17:56:01.064Z"
   },
   {
    "duration": 122,
    "start_time": "2021-11-08T17:56:01.083Z"
   },
   {
    "duration": 24,
    "start_time": "2021-11-08T17:56:01.207Z"
   },
   {
    "duration": 92,
    "start_time": "2021-11-08T17:56:01.233Z"
   },
   {
    "duration": 56,
    "start_time": "2021-11-08T17:56:01.327Z"
   },
   {
    "duration": 52,
    "start_time": "2021-11-08T17:56:01.386Z"
   },
   {
    "duration": 85,
    "start_time": "2021-11-08T17:56:01.440Z"
   },
   {
    "duration": 36,
    "start_time": "2021-11-08T17:56:01.527Z"
   },
   {
    "duration": 13,
    "start_time": "2021-11-08T17:56:01.567Z"
   },
   {
    "duration": 498,
    "start_time": "2021-11-08T18:09:26.715Z"
   },
   {
    "duration": 4,
    "start_time": "2021-11-08T18:09:40.079Z"
   },
   {
    "duration": 395,
    "start_time": "2021-11-08T18:09:40.085Z"
   },
   {
    "duration": 20,
    "start_time": "2021-11-08T18:09:40.483Z"
   },
   {
    "duration": 13,
    "start_time": "2021-11-08T18:09:40.506Z"
   },
   {
    "duration": 39,
    "start_time": "2021-11-08T18:09:40.522Z"
   },
   {
    "duration": 17,
    "start_time": "2021-11-08T18:09:40.563Z"
   },
   {
    "duration": 22,
    "start_time": "2021-11-08T18:09:40.582Z"
   },
   {
    "duration": 40,
    "start_time": "2021-11-08T18:09:40.608Z"
   },
   {
    "duration": 16,
    "start_time": "2021-11-08T18:09:40.651Z"
   },
   {
    "duration": 10,
    "start_time": "2021-11-08T18:09:40.671Z"
   },
   {
    "duration": 45,
    "start_time": "2021-11-08T18:09:40.685Z"
   },
   {
    "duration": 20,
    "start_time": "2021-11-08T18:09:40.733Z"
   },
   {
    "duration": 19,
    "start_time": "2021-11-08T18:09:40.756Z"
   },
   {
    "duration": 40,
    "start_time": "2021-11-08T18:09:40.777Z"
   },
   {
    "duration": 36,
    "start_time": "2021-11-08T18:09:40.819Z"
   },
   {
    "duration": 18,
    "start_time": "2021-11-08T18:09:40.858Z"
   },
   {
    "duration": 16,
    "start_time": "2021-11-08T18:09:40.878Z"
   },
   {
    "duration": 29,
    "start_time": "2021-11-08T18:09:40.896Z"
   },
   {
    "duration": 9,
    "start_time": "2021-11-08T18:09:40.927Z"
   },
   {
    "duration": 15,
    "start_time": "2021-11-08T18:09:40.939Z"
   },
   {
    "duration": 15,
    "start_time": "2021-11-08T18:09:40.956Z"
   },
   {
    "duration": 28,
    "start_time": "2021-11-08T18:09:40.974Z"
   },
   {
    "duration": 12,
    "start_time": "2021-11-08T18:09:41.025Z"
   },
   {
    "duration": 120,
    "start_time": "2021-11-08T18:09:41.041Z"
   },
   {
    "duration": 14,
    "start_time": "2021-11-08T18:09:41.163Z"
   },
   {
    "duration": 88,
    "start_time": "2021-11-08T18:09:41.179Z"
   },
   {
    "duration": 66,
    "start_time": "2021-11-08T18:09:41.270Z"
   },
   {
    "duration": 30,
    "start_time": "2021-11-08T18:09:41.338Z"
   },
   {
    "duration": 91,
    "start_time": "2021-11-08T18:09:41.371Z"
   },
   {
    "duration": 34,
    "start_time": "2021-11-08T18:09:41.464Z"
   },
   {
    "duration": 31,
    "start_time": "2021-11-08T18:09:41.500Z"
   },
   {
    "duration": 481,
    "start_time": "2021-11-08T18:09:41.533Z"
   },
   {
    "duration": 456,
    "start_time": "2021-11-08T18:10:43.975Z"
   },
   {
    "duration": 36,
    "start_time": "2021-11-08T18:12:55.259Z"
   },
   {
    "duration": 54,
    "start_time": "2021-11-08T18:15:06.496Z"
   },
   {
    "duration": 27,
    "start_time": "2021-11-08T18:15:38.812Z"
   },
   {
    "duration": 5,
    "start_time": "2021-11-08T18:15:45.150Z"
   },
   {
    "duration": 383,
    "start_time": "2021-11-08T18:15:45.159Z"
   },
   {
    "duration": 23,
    "start_time": "2021-11-08T18:15:45.546Z"
   },
   {
    "duration": 13,
    "start_time": "2021-11-08T18:15:45.572Z"
   },
   {
    "duration": 46,
    "start_time": "2021-11-08T18:15:45.587Z"
   },
   {
    "duration": 18,
    "start_time": "2021-11-08T18:15:45.635Z"
   },
   {
    "duration": 11,
    "start_time": "2021-11-08T18:15:45.656Z"
   },
   {
    "duration": 59,
    "start_time": "2021-11-08T18:15:45.671Z"
   },
   {
    "duration": 16,
    "start_time": "2021-11-08T18:15:45.734Z"
   },
   {
    "duration": 10,
    "start_time": "2021-11-08T18:15:45.753Z"
   },
   {
    "duration": 13,
    "start_time": "2021-11-08T18:15:45.765Z"
   },
   {
    "duration": 52,
    "start_time": "2021-11-08T18:15:45.780Z"
   },
   {
    "duration": 8,
    "start_time": "2021-11-08T18:15:45.834Z"
   },
   {
    "duration": 17,
    "start_time": "2021-11-08T18:15:45.845Z"
   },
   {
    "duration": 36,
    "start_time": "2021-11-08T18:15:45.864Z"
   },
   {
    "duration": 26,
    "start_time": "2021-11-08T18:15:45.902Z"
   },
   {
    "duration": 9,
    "start_time": "2021-11-08T18:15:45.931Z"
   },
   {
    "duration": 28,
    "start_time": "2021-11-08T18:15:45.943Z"
   },
   {
    "duration": 9,
    "start_time": "2021-11-08T18:15:45.973Z"
   },
   {
    "duration": 42,
    "start_time": "2021-11-08T18:15:45.985Z"
   },
   {
    "duration": 8,
    "start_time": "2021-11-08T18:15:46.030Z"
   },
   {
    "duration": 18,
    "start_time": "2021-11-08T18:15:46.041Z"
   },
   {
    "duration": 10,
    "start_time": "2021-11-08T18:15:46.064Z"
   },
   {
    "duration": 122,
    "start_time": "2021-11-08T18:15:46.077Z"
   },
   {
    "duration": 28,
    "start_time": "2021-11-08T18:15:46.201Z"
   },
   {
    "duration": 66,
    "start_time": "2021-11-08T18:15:46.231Z"
   },
   {
    "duration": 77,
    "start_time": "2021-11-08T18:15:46.299Z"
   },
   {
    "duration": 52,
    "start_time": "2021-11-08T18:15:46.378Z"
   },
   {
    "duration": 72,
    "start_time": "2021-11-08T18:15:46.432Z"
   },
   {
    "duration": 50,
    "start_time": "2021-11-08T18:15:46.506Z"
   },
   {
    "duration": 12,
    "start_time": "2021-11-08T18:15:46.559Z"
   },
   {
    "duration": 67,
    "start_time": "2021-11-08T18:15:46.573Z"
   },
   {
    "duration": 37,
    "start_time": "2021-11-08T18:16:21.445Z"
   },
   {
    "duration": 4,
    "start_time": "2021-11-08T18:41:23.361Z"
   },
   {
    "duration": 398,
    "start_time": "2021-11-08T18:41:23.367Z"
   },
   {
    "duration": 20,
    "start_time": "2021-11-08T18:41:23.769Z"
   },
   {
    "duration": 10,
    "start_time": "2021-11-08T18:41:23.792Z"
   },
   {
    "duration": 34,
    "start_time": "2021-11-08T18:41:23.805Z"
   },
   {
    "duration": 19,
    "start_time": "2021-11-08T18:41:23.841Z"
   },
   {
    "duration": 11,
    "start_time": "2021-11-08T18:41:23.862Z"
   },
   {
    "duration": 55,
    "start_time": "2021-11-08T18:41:23.877Z"
   },
   {
    "duration": 14,
    "start_time": "2021-11-08T18:41:23.935Z"
   },
   {
    "duration": 10,
    "start_time": "2021-11-08T18:41:23.952Z"
   },
   {
    "duration": 11,
    "start_time": "2021-11-08T18:41:23.964Z"
   },
   {
    "duration": 47,
    "start_time": "2021-11-08T18:41:23.977Z"
   },
   {
    "duration": 14,
    "start_time": "2021-11-08T18:41:24.027Z"
   },
   {
    "duration": 21,
    "start_time": "2021-11-08T18:41:24.044Z"
   },
   {
    "duration": 19,
    "start_time": "2021-11-08T18:41:24.068Z"
   },
   {
    "duration": 34,
    "start_time": "2021-11-08T18:41:24.090Z"
   },
   {
    "duration": 9,
    "start_time": "2021-11-08T18:41:24.126Z"
   },
   {
    "duration": 21,
    "start_time": "2021-11-08T18:41:24.138Z"
   },
   {
    "duration": 9,
    "start_time": "2021-11-08T18:41:24.162Z"
   },
   {
    "duration": 53,
    "start_time": "2021-11-08T18:41:24.174Z"
   },
   {
    "duration": 8,
    "start_time": "2021-11-08T18:41:24.230Z"
   },
   {
    "duration": 16,
    "start_time": "2021-11-08T18:41:24.240Z"
   },
   {
    "duration": 10,
    "start_time": "2021-11-08T18:41:24.260Z"
   },
   {
    "duration": 130,
    "start_time": "2021-11-08T18:41:24.273Z"
   },
   {
    "duration": 28,
    "start_time": "2021-11-08T18:41:24.405Z"
   },
   {
    "duration": 65,
    "start_time": "2021-11-08T18:41:24.435Z"
   },
   {
    "duration": 71,
    "start_time": "2021-11-08T18:41:24.502Z"
   },
   {
    "duration": 48,
    "start_time": "2021-11-08T18:41:24.576Z"
   },
   {
    "duration": 70,
    "start_time": "2021-11-08T18:41:24.626Z"
   },
   {
    "duration": 51,
    "start_time": "2021-11-08T18:41:24.699Z"
   },
   {
    "duration": 13,
    "start_time": "2021-11-08T18:41:24.752Z"
   },
   {
    "duration": 305,
    "start_time": "2021-11-08T18:41:24.768Z"
   },
   {
    "duration": -323,
    "start_time": "2021-11-08T18:41:25.399Z"
   },
   {
    "duration": 565,
    "start_time": "2021-11-08T18:42:08.161Z"
   },
   {
    "duration": 302,
    "start_time": "2021-11-08T18:42:18.057Z"
   },
   {
    "duration": 38,
    "start_time": "2021-11-08T18:43:39.811Z"
   },
   {
    "duration": 4,
    "start_time": "2021-11-08T18:43:52.262Z"
   },
   {
    "duration": 386,
    "start_time": "2021-11-08T18:43:52.269Z"
   },
   {
    "duration": 21,
    "start_time": "2021-11-08T18:43:52.658Z"
   },
   {
    "duration": 12,
    "start_time": "2021-11-08T18:43:52.683Z"
   },
   {
    "duration": 43,
    "start_time": "2021-11-08T18:43:52.698Z"
   },
   {
    "duration": 18,
    "start_time": "2021-11-08T18:43:52.743Z"
   },
   {
    "duration": 11,
    "start_time": "2021-11-08T18:43:52.766Z"
   },
   {
    "duration": 65,
    "start_time": "2021-11-08T18:43:52.781Z"
   },
   {
    "duration": 16,
    "start_time": "2021-11-08T18:43:52.849Z"
   },
   {
    "duration": 12,
    "start_time": "2021-11-08T18:43:52.868Z"
   },
   {
    "duration": 43,
    "start_time": "2021-11-08T18:43:52.882Z"
   },
   {
    "duration": 14,
    "start_time": "2021-11-08T18:43:52.928Z"
   },
   {
    "duration": 9,
    "start_time": "2021-11-08T18:43:52.944Z"
   },
   {
    "duration": 18,
    "start_time": "2021-11-08T18:43:52.955Z"
   },
   {
    "duration": 57,
    "start_time": "2021-11-08T18:43:52.975Z"
   },
   {
    "duration": 9,
    "start_time": "2021-11-08T18:43:53.035Z"
   },
   {
    "duration": 14,
    "start_time": "2021-11-08T18:43:53.047Z"
   },
   {
    "duration": 21,
    "start_time": "2021-11-08T18:43:53.064Z"
   },
   {
    "duration": 37,
    "start_time": "2021-11-08T18:43:53.090Z"
   },
   {
    "duration": 8,
    "start_time": "2021-11-08T18:43:53.130Z"
   },
   {
    "duration": 16,
    "start_time": "2021-11-08T18:43:53.140Z"
   },
   {
    "duration": 18,
    "start_time": "2021-11-08T18:43:53.159Z"
   },
   {
    "duration": 10,
    "start_time": "2021-11-08T18:43:53.179Z"
   },
   {
    "duration": 85,
    "start_time": "2021-11-08T18:43:53.224Z"
   },
   {
    "duration": 14,
    "start_time": "2021-11-08T18:43:53.323Z"
   },
   {
    "duration": 104,
    "start_time": "2021-11-08T18:43:53.339Z"
   },
   {
    "duration": 51,
    "start_time": "2021-11-08T18:43:53.446Z"
   },
   {
    "duration": 46,
    "start_time": "2021-11-08T18:43:53.500Z"
   },
   {
    "duration": 88,
    "start_time": "2021-11-08T18:43:53.548Z"
   },
   {
    "duration": 32,
    "start_time": "2021-11-08T18:43:53.639Z"
   },
   {
    "duration": 13,
    "start_time": "2021-11-08T18:43:53.673Z"
   },
   {
    "duration": 68,
    "start_time": "2021-11-08T18:43:53.688Z"
   },
   {
    "duration": 100,
    "start_time": "2021-11-08T18:43:53.758Z"
   },
   {
    "duration": 4,
    "start_time": "2021-11-08T18:44:39.482Z"
   },
   {
    "duration": 385,
    "start_time": "2021-11-08T18:44:39.488Z"
   },
   {
    "duration": 20,
    "start_time": "2021-11-08T18:44:39.876Z"
   },
   {
    "duration": 12,
    "start_time": "2021-11-08T18:44:39.899Z"
   },
   {
    "duration": 33,
    "start_time": "2021-11-08T18:44:39.914Z"
   },
   {
    "duration": 19,
    "start_time": "2021-11-08T18:44:39.949Z"
   },
   {
    "duration": 12,
    "start_time": "2021-11-08T18:44:39.971Z"
   },
   {
    "duration": 62,
    "start_time": "2021-11-08T18:44:39.986Z"
   },
   {
    "duration": 16,
    "start_time": "2021-11-08T18:44:40.050Z"
   },
   {
    "duration": 11,
    "start_time": "2021-11-08T18:44:40.068Z"
   },
   {
    "duration": 42,
    "start_time": "2021-11-08T18:44:40.082Z"
   },
   {
    "duration": 19,
    "start_time": "2021-11-08T18:44:40.127Z"
   },
   {
    "duration": 19,
    "start_time": "2021-11-08T18:44:40.149Z"
   },
   {
    "duration": 15,
    "start_time": "2021-11-08T18:44:40.170Z"
   },
   {
    "duration": 42,
    "start_time": "2021-11-08T18:44:40.187Z"
   },
   {
    "duration": 11,
    "start_time": "2021-11-08T18:44:40.232Z"
   },
   {
    "duration": 9,
    "start_time": "2021-11-08T18:44:40.245Z"
   },
   {
    "duration": 22,
    "start_time": "2021-11-08T18:44:40.257Z"
   },
   {
    "duration": 47,
    "start_time": "2021-11-08T18:44:40.283Z"
   },
   {
    "duration": 9,
    "start_time": "2021-11-08T18:44:40.333Z"
   },
   {
    "duration": 9,
    "start_time": "2021-11-08T18:44:40.344Z"
   },
   {
    "duration": 16,
    "start_time": "2021-11-08T18:44:40.355Z"
   },
   {
    "duration": 51,
    "start_time": "2021-11-08T18:44:40.374Z"
   },
   {
    "duration": 101,
    "start_time": "2021-11-08T18:44:40.427Z"
   },
   {
    "duration": 14,
    "start_time": "2021-11-08T18:44:40.530Z"
   },
   {
    "duration": 85,
    "start_time": "2021-11-08T18:44:40.546Z"
   },
   {
    "duration": 56,
    "start_time": "2021-11-08T18:44:40.633Z"
   },
   {
    "duration": 47,
    "start_time": "2021-11-08T18:44:40.691Z"
   },
   {
    "duration": 89,
    "start_time": "2021-11-08T18:44:40.741Z"
   },
   {
    "duration": 35,
    "start_time": "2021-11-08T18:44:40.833Z"
   },
   {
    "duration": 14,
    "start_time": "2021-11-08T18:44:40.871Z"
   },
   {
    "duration": 78,
    "start_time": "2021-11-08T18:44:40.888Z"
   },
   {
    "duration": 90,
    "start_time": "2021-11-08T18:44:40.969Z"
   },
   {
    "duration": 39,
    "start_time": "2021-11-08T19:38:36.376Z"
   },
   {
    "duration": 39,
    "start_time": "2021-11-08T19:39:12.252Z"
   },
   {
    "duration": 42,
    "start_time": "2021-11-08T19:39:23.965Z"
   },
   {
    "duration": 7,
    "start_time": "2021-11-08T19:42:19.929Z"
   },
   {
    "duration": 6,
    "start_time": "2021-11-08T19:42:25.039Z"
   },
   {
    "duration": 7,
    "start_time": "2021-11-08T19:42:33.776Z"
   },
   {
    "duration": 7,
    "start_time": "2021-11-08T20:06:29.898Z"
   },
   {
    "duration": 553,
    "start_time": "2021-11-08T20:10:42.277Z"
   },
   {
    "duration": 541,
    "start_time": "2021-11-08T20:11:43.825Z"
   },
   {
    "duration": 8,
    "start_time": "2021-11-08T20:14:31.096Z"
   },
   {
    "duration": 125,
    "start_time": "2021-11-08T20:14:32.949Z"
   },
   {
    "duration": 89,
    "start_time": "2021-11-08T20:23:02.961Z"
   },
   {
    "duration": 7,
    "start_time": "2021-11-08T20:23:22.491Z"
   },
   {
    "duration": 553,
    "start_time": "2021-11-08T20:24:07.975Z"
   },
   {
    "duration": 111,
    "start_time": "2021-11-08T20:24:20.956Z"
   },
   {
    "duration": 119,
    "start_time": "2021-11-08T20:24:32.535Z"
   },
   {
    "duration": 7,
    "start_time": "2021-11-08T20:26:39.961Z"
   },
   {
    "duration": 121,
    "start_time": "2021-11-08T20:26:40.467Z"
   },
   {
    "duration": 113,
    "start_time": "2021-11-08T20:27:32.489Z"
   },
   {
    "duration": 4,
    "start_time": "2021-11-08T20:27:56.594Z"
   },
   {
    "duration": 378,
    "start_time": "2021-11-08T20:27:56.601Z"
   },
   {
    "duration": 20,
    "start_time": "2021-11-08T20:27:56.983Z"
   },
   {
    "duration": 11,
    "start_time": "2021-11-08T20:27:57.006Z"
   },
   {
    "duration": 34,
    "start_time": "2021-11-08T20:27:57.020Z"
   },
   {
    "duration": 19,
    "start_time": "2021-11-08T20:27:57.057Z"
   },
   {
    "duration": 10,
    "start_time": "2021-11-08T20:27:57.078Z"
   },
   {
    "duration": 54,
    "start_time": "2021-11-08T20:27:57.090Z"
   },
   {
    "duration": 15,
    "start_time": "2021-11-08T20:27:57.147Z"
   },
   {
    "duration": 10,
    "start_time": "2021-11-08T20:27:57.165Z"
   },
   {
    "duration": 9,
    "start_time": "2021-11-08T20:27:57.177Z"
   },
   {
    "duration": 44,
    "start_time": "2021-11-08T20:27:57.188Z"
   },
   {
    "duration": 9,
    "start_time": "2021-11-08T20:27:57.235Z"
   },
   {
    "duration": 22,
    "start_time": "2021-11-08T20:27:57.246Z"
   },
   {
    "duration": 52,
    "start_time": "2021-11-08T20:27:57.270Z"
   },
   {
    "duration": 10,
    "start_time": "2021-11-08T20:27:57.325Z"
   },
   {
    "duration": 10,
    "start_time": "2021-11-08T20:27:57.337Z"
   },
   {
    "duration": 21,
    "start_time": "2021-11-08T20:27:57.350Z"
   },
   {
    "duration": 53,
    "start_time": "2021-11-08T20:27:57.374Z"
   },
   {
    "duration": 10,
    "start_time": "2021-11-08T20:27:57.430Z"
   },
   {
    "duration": 9,
    "start_time": "2021-11-08T20:27:57.443Z"
   },
   {
    "duration": 18,
    "start_time": "2021-11-08T20:27:57.454Z"
   },
   {
    "duration": 55,
    "start_time": "2021-11-08T20:27:57.475Z"
   },
   {
    "duration": 113,
    "start_time": "2021-11-08T20:27:57.532Z"
   },
   {
    "duration": 15,
    "start_time": "2021-11-08T20:27:57.647Z"
   },
   {
    "duration": 96,
    "start_time": "2021-11-08T20:27:57.665Z"
   },
   {
    "duration": 73,
    "start_time": "2021-11-08T20:27:57.766Z"
   },
   {
    "duration": 31,
    "start_time": "2021-11-08T20:27:57.841Z"
   },
   {
    "duration": 98,
    "start_time": "2021-11-08T20:27:57.875Z"
   },
   {
    "duration": 33,
    "start_time": "2021-11-08T20:27:57.976Z"
   },
   {
    "duration": 20,
    "start_time": "2021-11-08T20:27:58.011Z"
   },
   {
    "duration": 48,
    "start_time": "2021-11-08T20:27:58.033Z"
   },
   {
    "duration": 7,
    "start_time": "2021-11-08T20:27:58.083Z"
   },
   {
    "duration": 410,
    "start_time": "2021-11-08T20:27:58.092Z"
   },
   {
    "duration": 125,
    "start_time": "2021-11-08T20:28:10.326Z"
   },
   {
    "duration": 7,
    "start_time": "2021-11-08T20:31:01.191Z"
   },
   {
    "duration": 133,
    "start_time": "2021-11-08T20:31:02.711Z"
   },
   {
    "duration": 1038,
    "start_time": "2021-11-09T18:05:20.429Z"
   },
   {
    "duration": 345,
    "start_time": "2021-11-09T18:05:21.469Z"
   },
   {
    "duration": 16,
    "start_time": "2021-11-09T18:05:21.816Z"
   },
   {
    "duration": 13,
    "start_time": "2021-11-09T18:05:21.833Z"
   },
   {
    "duration": 25,
    "start_time": "2021-11-09T18:05:21.847Z"
   },
   {
    "duration": 13,
    "start_time": "2021-11-09T18:05:21.874Z"
   },
   {
    "duration": 7,
    "start_time": "2021-11-09T18:05:21.891Z"
   },
   {
    "duration": 19,
    "start_time": "2021-11-09T18:05:21.901Z"
   },
   {
    "duration": 11,
    "start_time": "2021-11-09T18:05:21.922Z"
   },
   {
    "duration": 11,
    "start_time": "2021-11-09T18:05:21.934Z"
   },
   {
    "duration": 6,
    "start_time": "2021-11-09T18:05:21.947Z"
   },
   {
    "duration": 37,
    "start_time": "2021-11-09T18:05:21.955Z"
   },
   {
    "duration": 7,
    "start_time": "2021-11-09T18:05:21.993Z"
   },
   {
    "duration": 13,
    "start_time": "2021-11-09T18:05:22.001Z"
   },
   {
    "duration": 18,
    "start_time": "2021-11-09T18:05:22.015Z"
   },
   {
    "duration": 9,
    "start_time": "2021-11-09T18:05:22.035Z"
   },
   {
    "duration": 6,
    "start_time": "2021-11-09T18:05:22.046Z"
   },
   {
    "duration": 41,
    "start_time": "2021-11-09T18:05:22.054Z"
   },
   {
    "duration": 7,
    "start_time": "2021-11-09T18:05:22.096Z"
   },
   {
    "duration": 6,
    "start_time": "2021-11-09T18:05:22.105Z"
   },
   {
    "duration": 10,
    "start_time": "2021-11-09T18:05:22.112Z"
   },
   {
    "duration": 9,
    "start_time": "2021-11-09T18:05:22.124Z"
   },
   {
    "duration": 8,
    "start_time": "2021-11-09T18:05:22.136Z"
   },
   {
    "duration": 91,
    "start_time": "2021-11-09T18:05:22.145Z"
   },
   {
    "duration": 10,
    "start_time": "2021-11-09T18:05:22.238Z"
   },
   {
    "duration": 76,
    "start_time": "2021-11-09T18:05:22.249Z"
   },
   {
    "duration": 36,
    "start_time": "2021-11-09T18:05:22.327Z"
   },
   {
    "duration": 40,
    "start_time": "2021-11-09T18:05:22.364Z"
   },
   {
    "duration": 48,
    "start_time": "2021-11-09T18:05:22.406Z"
   },
   {
    "duration": 45,
    "start_time": "2021-11-09T18:05:22.456Z"
   },
   {
    "duration": 8,
    "start_time": "2021-11-09T18:05:22.502Z"
   },
   {
    "duration": 28,
    "start_time": "2021-11-09T18:05:22.511Z"
   },
   {
    "duration": 4,
    "start_time": "2021-11-09T18:05:22.541Z"
   },
   {
    "duration": 99,
    "start_time": "2021-11-09T18:05:22.547Z"
   },
   {
    "duration": 25,
    "start_time": "2021-11-09T18:05:36.546Z"
   },
   {
    "duration": 30,
    "start_time": "2021-11-09T18:06:50.072Z"
   },
   {
    "duration": 27,
    "start_time": "2021-11-09T18:07:18.852Z"
   },
   {
    "duration": 7,
    "start_time": "2021-11-09T18:10:27.372Z"
   },
   {
    "duration": 5,
    "start_time": "2021-11-09T18:29:32.128Z"
   },
   {
    "duration": 9,
    "start_time": "2021-11-09T18:29:42.293Z"
   },
   {
    "duration": 11,
    "start_time": "2021-11-09T18:30:10.296Z"
   },
   {
    "duration": 11,
    "start_time": "2021-11-09T18:30:31.614Z"
   },
   {
    "duration": 10,
    "start_time": "2021-11-09T18:32:35.936Z"
   },
   {
    "duration": 12,
    "start_time": "2021-11-09T18:32:43.866Z"
   },
   {
    "duration": 12,
    "start_time": "2021-11-09T18:32:57.184Z"
   },
   {
    "duration": 13,
    "start_time": "2021-11-09T18:33:35.111Z"
   },
   {
    "duration": 273,
    "start_time": "2021-11-09T18:56:56.746Z"
   },
   {
    "duration": 265,
    "start_time": "2021-11-09T18:57:06.616Z"
   },
   {
    "duration": 539,
    "start_time": "2021-11-09T18:57:26.492Z"
   },
   {
    "duration": 537,
    "start_time": "2021-11-09T18:57:42.731Z"
   },
   {
    "duration": 272,
    "start_time": "2021-11-09T20:08:09.219Z"
   },
   {
    "duration": 550,
    "start_time": "2021-11-09T20:08:30.509Z"
   },
   {
    "duration": 635,
    "start_time": "2021-11-09T20:08:36.517Z"
   },
   {
    "duration": 550,
    "start_time": "2021-11-09T20:09:20.684Z"
   },
   {
    "duration": 445,
    "start_time": "2021-11-09T20:09:34.991Z"
   },
   {
    "duration": 406,
    "start_time": "2021-11-09T20:11:02.249Z"
   },
   {
    "duration": 411,
    "start_time": "2021-11-09T20:11:29.260Z"
   },
   {
    "duration": 409,
    "start_time": "2021-11-09T20:11:34.707Z"
   },
   {
    "duration": 490,
    "start_time": "2021-11-09T20:11:40.151Z"
   },
   {
    "duration": 416,
    "start_time": "2021-11-09T20:11:58.975Z"
   },
   {
    "duration": 405,
    "start_time": "2021-11-09T20:12:07.753Z"
   },
   {
    "duration": 402,
    "start_time": "2021-11-09T20:12:15.473Z"
   },
   {
    "duration": 413,
    "start_time": "2021-11-09T20:12:21.327Z"
   },
   {
    "duration": 434,
    "start_time": "2021-11-09T20:12:38.915Z"
   },
   {
    "duration": 415,
    "start_time": "2021-11-09T20:12:51.995Z"
   },
   {
    "duration": 3,
    "start_time": "2021-11-09T20:13:51.586Z"
   },
   {
    "duration": 333,
    "start_time": "2021-11-09T20:13:51.591Z"
   },
   {
    "duration": 17,
    "start_time": "2021-11-09T20:13:51.926Z"
   },
   {
    "duration": 13,
    "start_time": "2021-11-09T20:13:51.945Z"
   },
   {
    "duration": 43,
    "start_time": "2021-11-09T20:13:51.959Z"
   },
   {
    "duration": 13,
    "start_time": "2021-11-09T20:13:52.003Z"
   },
   {
    "duration": 15,
    "start_time": "2021-11-09T20:13:52.018Z"
   },
   {
    "duration": 29,
    "start_time": "2021-11-09T20:13:52.034Z"
   },
   {
    "duration": 14,
    "start_time": "2021-11-09T20:13:52.065Z"
   },
   {
    "duration": 25,
    "start_time": "2021-11-09T20:13:52.082Z"
   },
   {
    "duration": 8,
    "start_time": "2021-11-09T20:13:52.109Z"
   },
   {
    "duration": 14,
    "start_time": "2021-11-09T20:13:52.119Z"
   },
   {
    "duration": 9,
    "start_time": "2021-11-09T20:13:52.135Z"
   },
   {
    "duration": 16,
    "start_time": "2021-11-09T20:13:52.146Z"
   },
   {
    "duration": 15,
    "start_time": "2021-11-09T20:13:52.164Z"
   },
   {
    "duration": 18,
    "start_time": "2021-11-09T20:13:52.181Z"
   },
   {
    "duration": 8,
    "start_time": "2021-11-09T20:13:52.201Z"
   },
   {
    "duration": 25,
    "start_time": "2021-11-09T20:13:52.210Z"
   },
   {
    "duration": 9,
    "start_time": "2021-11-09T20:13:52.237Z"
   },
   {
    "duration": 10,
    "start_time": "2021-11-09T20:13:52.247Z"
   },
   {
    "duration": 28,
    "start_time": "2021-11-09T20:13:52.258Z"
   },
   {
    "duration": 14,
    "start_time": "2021-11-09T20:13:52.287Z"
   },
   {
    "duration": 10,
    "start_time": "2021-11-09T20:13:52.303Z"
   },
   {
    "duration": 65,
    "start_time": "2021-11-09T20:13:52.314Z"
   },
   {
    "duration": 10,
    "start_time": "2021-11-09T20:13:52.392Z"
   },
   {
    "duration": 61,
    "start_time": "2021-11-09T20:13:52.404Z"
   },
   {
    "duration": 53,
    "start_time": "2021-11-09T20:13:52.468Z"
   },
   {
    "duration": 22,
    "start_time": "2021-11-09T20:13:52.523Z"
   },
   {
    "duration": 58,
    "start_time": "2021-11-09T20:13:52.547Z"
   },
   {
    "duration": 23,
    "start_time": "2021-11-09T20:13:52.606Z"
   },
   {
    "duration": 8,
    "start_time": "2021-11-09T20:13:52.631Z"
   },
   {
    "duration": 56,
    "start_time": "2021-11-09T20:13:52.641Z"
   },
   {
    "duration": 5,
    "start_time": "2021-11-09T20:13:52.699Z"
   },
   {
    "duration": 89,
    "start_time": "2021-11-09T20:13:52.706Z"
   },
   {
    "duration": 26,
    "start_time": "2021-11-09T20:13:52.796Z"
   },
   {
    "duration": 14,
    "start_time": "2021-11-09T20:13:52.824Z"
   },
   {
    "duration": 41,
    "start_time": "2021-11-09T20:13:52.839Z"
   },
   {
    "duration": 14,
    "start_time": "2021-11-09T20:13:52.881Z"
   },
   {
    "duration": 421,
    "start_time": "2021-11-09T20:13:52.896Z"
   },
   {
    "duration": 717,
    "start_time": "2021-11-09T20:17:06.893Z"
   },
   {
    "duration": 424,
    "start_time": "2021-11-09T20:17:20.605Z"
   },
   {
    "duration": 259,
    "start_time": "2021-11-09T20:17:33.996Z"
   },
   {
    "duration": 214,
    "start_time": "2021-11-09T20:20:03.591Z"
   },
   {
    "duration": 60,
    "start_time": "2021-11-09T20:20:19.163Z"
   },
   {
    "duration": 437,
    "start_time": "2021-11-09T20:20:24.818Z"
   },
   {
    "duration": 331,
    "start_time": "2021-11-09T20:20:40.285Z"
   },
   {
    "duration": 1604,
    "start_time": "2021-11-09T20:20:53.008Z"
   },
   {
    "duration": 1210,
    "start_time": "2021-11-09T20:21:03.163Z"
   },
   {
    "duration": 1219,
    "start_time": "2021-11-09T20:21:30.074Z"
   },
   {
    "duration": 178,
    "start_time": "2021-11-09T20:21:54.337Z"
   },
   {
    "duration": 263,
    "start_time": "2021-11-09T20:21:58.093Z"
   },
   {
    "duration": 1225,
    "start_time": "2021-11-09T20:22:05.639Z"
   },
   {
    "duration": 216,
    "start_time": "2021-11-09T20:22:15.261Z"
   },
   {
    "duration": 2350,
    "start_time": "2021-11-09T20:23:07.418Z"
   },
   {
    "duration": 175,
    "start_time": "2021-11-09T20:24:11.893Z"
   },
   {
    "duration": 188,
    "start_time": "2021-11-09T20:24:42.769Z"
   },
   {
    "duration": 8,
    "start_time": "2021-11-09T20:25:16.241Z"
   },
   {
    "duration": 1747,
    "start_time": "2021-11-09T20:27:35.642Z"
   },
   {
    "duration": 9,
    "start_time": "2021-11-09T20:28:40.507Z"
   },
   {
    "duration": 449,
    "start_time": "2021-11-09T20:30:30.190Z"
   },
   {
    "duration": 462,
    "start_time": "2021-11-09T20:30:56.735Z"
   },
   {
    "duration": 484,
    "start_time": "2021-11-09T20:31:02.795Z"
   },
   {
    "duration": 419,
    "start_time": "2021-11-09T20:31:07.919Z"
   },
   {
    "duration": 506,
    "start_time": "2021-11-09T20:31:16.823Z"
   },
   {
    "duration": 395,
    "start_time": "2021-11-09T20:31:29.563Z"
   },
   {
    "duration": 398,
    "start_time": "2021-11-09T20:31:40.182Z"
   },
   {
    "duration": 408,
    "start_time": "2021-11-09T20:31:49.131Z"
   },
   {
    "duration": 410,
    "start_time": "2021-11-09T20:32:06.776Z"
   },
   {
    "duration": 589,
    "start_time": "2021-11-09T20:38:46.341Z"
   },
   {
    "duration": 2,
    "start_time": "2021-11-09T20:39:03.129Z"
   },
   {
    "duration": 314,
    "start_time": "2021-11-09T20:39:03.133Z"
   },
   {
    "duration": 16,
    "start_time": "2021-11-09T20:39:03.449Z"
   },
   {
    "duration": 9,
    "start_time": "2021-11-09T20:39:03.467Z"
   },
   {
    "duration": 26,
    "start_time": "2021-11-09T20:39:03.477Z"
   },
   {
    "duration": 13,
    "start_time": "2021-11-09T20:39:03.504Z"
   },
   {
    "duration": 9,
    "start_time": "2021-11-09T20:39:03.518Z"
   },
   {
    "duration": 19,
    "start_time": "2021-11-09T20:39:03.530Z"
   },
   {
    "duration": 10,
    "start_time": "2021-11-09T20:39:03.551Z"
   },
   {
    "duration": 31,
    "start_time": "2021-11-09T20:39:03.563Z"
   },
   {
    "duration": 16,
    "start_time": "2021-11-09T20:39:03.596Z"
   },
   {
    "duration": 16,
    "start_time": "2021-11-09T20:39:03.613Z"
   },
   {
    "duration": 10,
    "start_time": "2021-11-09T20:39:03.631Z"
   },
   {
    "duration": 12,
    "start_time": "2021-11-09T20:39:03.642Z"
   },
   {
    "duration": 15,
    "start_time": "2021-11-09T20:39:03.656Z"
   },
   {
    "duration": 20,
    "start_time": "2021-11-09T20:39:03.672Z"
   },
   {
    "duration": 8,
    "start_time": "2021-11-09T20:39:03.694Z"
   },
   {
    "duration": 16,
    "start_time": "2021-11-09T20:39:03.704Z"
   },
   {
    "duration": 8,
    "start_time": "2021-11-09T20:39:03.722Z"
   },
   {
    "duration": 6,
    "start_time": "2021-11-09T20:39:03.731Z"
   },
   {
    "duration": 7,
    "start_time": "2021-11-09T20:39:03.739Z"
   },
   {
    "duration": 51,
    "start_time": "2021-11-09T20:39:03.748Z"
   },
   {
    "duration": 8,
    "start_time": "2021-11-09T20:39:03.801Z"
   },
   {
    "duration": 63,
    "start_time": "2021-11-09T20:39:03.811Z"
   },
   {
    "duration": 23,
    "start_time": "2021-11-09T20:39:03.876Z"
   },
   {
    "duration": 50,
    "start_time": "2021-11-09T20:39:03.900Z"
   },
   {
    "duration": 51,
    "start_time": "2021-11-09T20:39:03.952Z"
   },
   {
    "duration": 22,
    "start_time": "2021-11-09T20:39:04.005Z"
   },
   {
    "duration": 63,
    "start_time": "2021-11-09T20:39:04.029Z"
   },
   {
    "duration": 29,
    "start_time": "2021-11-09T20:39:04.094Z"
   },
   {
    "duration": 8,
    "start_time": "2021-11-09T20:39:04.789Z"
   },
   {
    "duration": 40,
    "start_time": "2021-11-09T20:39:04.799Z"
   },
   {
    "duration": 5,
    "start_time": "2021-11-09T20:39:05.004Z"
   },
   {
    "duration": 85,
    "start_time": "2021-11-09T20:39:05.010Z"
   },
   {
    "duration": 27,
    "start_time": "2021-11-09T20:39:05.097Z"
   },
   {
    "duration": 16,
    "start_time": "2021-11-09T20:39:05.126Z"
   },
   {
    "duration": 55,
    "start_time": "2021-11-09T20:39:05.144Z"
   },
   {
    "duration": 12,
    "start_time": "2021-11-09T20:39:05.200Z"
   },
   {
    "duration": 505,
    "start_time": "2021-11-09T20:39:05.213Z"
   },
   {
    "duration": 908,
    "start_time": "2021-11-09T20:42:41.526Z"
   },
   {
    "duration": 721,
    "start_time": "2021-11-09T20:43:44.088Z"
   },
   {
    "duration": 1035,
    "start_time": "2021-11-09T20:44:11.296Z"
   },
   {
    "duration": 952,
    "start_time": "2021-11-09T20:44:36.980Z"
   },
   {
    "duration": 928,
    "start_time": "2021-11-09T20:44:54.719Z"
   },
   {
    "duration": 420,
    "start_time": "2021-11-09T20:46:34.245Z"
   },
   {
    "duration": 798,
    "start_time": "2021-11-09T20:49:05.452Z"
   },
   {
    "duration": 60,
    "start_time": "2021-11-09T20:49:15.749Z"
   },
   {
    "duration": 728,
    "start_time": "2021-11-09T20:49:25.492Z"
   },
   {
    "duration": 3,
    "start_time": "2021-11-09T20:51:08.481Z"
   },
   {
    "duration": 309,
    "start_time": "2021-11-09T20:51:08.485Z"
   },
   {
    "duration": 17,
    "start_time": "2021-11-09T20:51:08.796Z"
   },
   {
    "duration": 9,
    "start_time": "2021-11-09T20:51:08.815Z"
   },
   {
    "duration": 24,
    "start_time": "2021-11-09T20:51:08.826Z"
   },
   {
    "duration": 44,
    "start_time": "2021-11-09T20:51:08.852Z"
   },
   {
    "duration": 8,
    "start_time": "2021-11-09T20:51:08.898Z"
   },
   {
    "duration": 22,
    "start_time": "2021-11-09T20:51:08.908Z"
   },
   {
    "duration": 11,
    "start_time": "2021-11-09T20:51:08.932Z"
   },
   {
    "duration": 7,
    "start_time": "2021-11-09T20:51:08.945Z"
   },
   {
    "duration": 39,
    "start_time": "2021-11-09T20:51:08.953Z"
   },
   {
    "duration": 8,
    "start_time": "2021-11-09T20:51:08.994Z"
   },
   {
    "duration": 9,
    "start_time": "2021-11-09T20:51:09.004Z"
   },
   {
    "duration": 11,
    "start_time": "2021-11-09T20:51:09.014Z"
   },
   {
    "duration": 16,
    "start_time": "2021-11-09T20:51:09.026Z"
   },
   {
    "duration": 7,
    "start_time": "2021-11-09T20:51:09.043Z"
   },
   {
    "duration": 7,
    "start_time": "2021-11-09T20:51:09.052Z"
   },
   {
    "duration": 17,
    "start_time": "2021-11-09T20:51:09.090Z"
   },
   {
    "duration": 7,
    "start_time": "2021-11-09T20:51:09.109Z"
   },
   {
    "duration": 6,
    "start_time": "2021-11-09T20:51:09.118Z"
   },
   {
    "duration": 6,
    "start_time": "2021-11-09T20:51:09.126Z"
   },
   {
    "duration": 14,
    "start_time": "2021-11-09T20:51:09.133Z"
   },
   {
    "duration": 42,
    "start_time": "2021-11-09T20:51:09.150Z"
   },
   {
    "duration": 60,
    "start_time": "2021-11-09T20:51:09.194Z"
   },
   {
    "duration": 10,
    "start_time": "2021-11-09T20:51:09.256Z"
   },
   {
    "duration": 76,
    "start_time": "2021-11-09T20:51:09.267Z"
   },
   {
    "duration": 47,
    "start_time": "2021-11-09T20:51:09.345Z"
   },
   {
    "duration": 22,
    "start_time": "2021-11-09T20:51:09.394Z"
   },
   {
    "duration": 48,
    "start_time": "2021-11-09T20:51:09.418Z"
   },
   {
    "duration": 49,
    "start_time": "2021-11-09T20:51:09.467Z"
   },
   {
    "duration": 8,
    "start_time": "2021-11-09T20:51:09.517Z"
   },
   {
    "duration": 27,
    "start_time": "2021-11-09T20:51:09.527Z"
   },
   {
    "duration": 5,
    "start_time": "2021-11-09T20:51:09.555Z"
   },
   {
    "duration": 99,
    "start_time": "2021-11-09T20:51:09.562Z"
   },
   {
    "duration": 33,
    "start_time": "2021-11-09T20:51:09.662Z"
   },
   {
    "duration": 11,
    "start_time": "2021-11-09T20:51:09.697Z"
   },
   {
    "duration": 22,
    "start_time": "2021-11-09T20:51:09.710Z"
   },
   {
    "duration": 10,
    "start_time": "2021-11-09T20:51:09.734Z"
   },
   {
    "duration": 729,
    "start_time": "2021-11-09T20:51:09.745Z"
   },
   {
    "duration": 11,
    "start_time": "2021-11-09T20:57:13.034Z"
   },
   {
    "duration": 3,
    "start_time": "2021-11-09T20:57:24.142Z"
   },
   {
    "duration": 302,
    "start_time": "2021-11-09T20:57:24.147Z"
   },
   {
    "duration": 16,
    "start_time": "2021-11-09T20:57:24.451Z"
   },
   {
    "duration": 9,
    "start_time": "2021-11-09T20:57:24.469Z"
   },
   {
    "duration": 26,
    "start_time": "2021-11-09T20:57:24.479Z"
   },
   {
    "duration": 14,
    "start_time": "2021-11-09T20:57:24.507Z"
   },
   {
    "duration": 7,
    "start_time": "2021-11-09T20:57:24.525Z"
   },
   {
    "duration": 20,
    "start_time": "2021-11-09T20:57:24.534Z"
   },
   {
    "duration": 42,
    "start_time": "2021-11-09T20:57:24.556Z"
   },
   {
    "duration": 7,
    "start_time": "2021-11-09T20:57:24.600Z"
   },
   {
    "duration": 7,
    "start_time": "2021-11-09T20:57:24.609Z"
   },
   {
    "duration": 11,
    "start_time": "2021-11-09T20:57:24.617Z"
   },
   {
    "duration": 8,
    "start_time": "2021-11-09T20:57:24.629Z"
   },
   {
    "duration": 11,
    "start_time": "2021-11-09T20:57:24.639Z"
   },
   {
    "duration": 45,
    "start_time": "2021-11-09T20:57:24.652Z"
   },
   {
    "duration": 7,
    "start_time": "2021-11-09T20:57:24.699Z"
   },
   {
    "duration": 6,
    "start_time": "2021-11-09T20:57:24.708Z"
   },
   {
    "duration": 15,
    "start_time": "2021-11-09T20:57:24.716Z"
   },
   {
    "duration": 7,
    "start_time": "2021-11-09T20:57:24.734Z"
   },
   {
    "duration": 14,
    "start_time": "2021-11-09T20:57:24.744Z"
   },
   {
    "duration": 36,
    "start_time": "2021-11-09T20:57:24.760Z"
   },
   {
    "duration": 12,
    "start_time": "2021-11-09T20:57:24.798Z"
   },
   {
    "duration": 14,
    "start_time": "2021-11-09T20:57:24.812Z"
   },
   {
    "duration": 79,
    "start_time": "2021-11-09T20:57:24.827Z"
   },
   {
    "duration": 10,
    "start_time": "2021-11-09T20:57:24.908Z"
   },
   {
    "duration": 75,
    "start_time": "2021-11-09T20:57:24.920Z"
   },
   {
    "duration": 38,
    "start_time": "2021-11-09T20:57:24.996Z"
   },
   {
    "duration": 24,
    "start_time": "2021-11-09T20:57:25.035Z"
   },
   {
    "duration": 67,
    "start_time": "2021-11-09T20:57:25.060Z"
   },
   {
    "duration": 26,
    "start_time": "2021-11-09T20:57:25.129Z"
   },
   {
    "duration": 9,
    "start_time": "2021-11-09T20:57:25.157Z"
   },
   {
    "duration": 50,
    "start_time": "2021-11-09T20:57:25.168Z"
   },
   {
    "duration": 4,
    "start_time": "2021-11-09T20:57:25.220Z"
   },
   {
    "duration": 91,
    "start_time": "2021-11-09T20:57:25.226Z"
   },
   {
    "duration": 26,
    "start_time": "2021-11-09T20:57:25.319Z"
   },
   {
    "duration": 11,
    "start_time": "2021-11-09T20:57:25.346Z"
   },
   {
    "duration": 47,
    "start_time": "2021-11-09T20:57:25.358Z"
   },
   {
    "duration": 11,
    "start_time": "2021-11-09T20:57:25.406Z"
   },
   {
    "duration": 550,
    "start_time": "2021-11-09T20:57:25.418Z"
   },
   {
    "duration": 9,
    "start_time": "2021-11-09T20:57:25.970Z"
   },
   {
    "duration": 14,
    "start_time": "2021-11-09T20:57:47.980Z"
   },
   {
    "duration": 7,
    "start_time": "2021-11-09T20:57:58.547Z"
   },
   {
    "duration": 58,
    "start_time": "2021-11-09T20:58:12.388Z"
   },
   {
    "duration": 7,
    "start_time": "2021-11-09T20:58:16.466Z"
   },
   {
    "duration": 8,
    "start_time": "2021-11-09T20:58:45.487Z"
   },
   {
    "duration": 9,
    "start_time": "2021-11-09T20:58:53.410Z"
   },
   {
    "duration": 8,
    "start_time": "2021-11-09T20:59:52.980Z"
   },
   {
    "duration": 8,
    "start_time": "2021-11-09T21:00:01.062Z"
   },
   {
    "duration": 6,
    "start_time": "2021-11-09T21:02:01.652Z"
   },
   {
    "duration": 5,
    "start_time": "2021-11-09T21:02:58.901Z"
   },
   {
    "duration": 541,
    "start_time": "2021-11-09T21:05:11.502Z"
   },
   {
    "duration": 546,
    "start_time": "2021-11-09T21:05:45.409Z"
   },
   {
    "duration": 436,
    "start_time": "2021-11-09T21:06:10.223Z"
   },
   {
    "duration": 57,
    "start_time": "2021-11-09T21:12:34.631Z"
   },
   {
    "duration": 424,
    "start_time": "2021-11-09T21:12:39.432Z"
   },
   {
    "duration": 425,
    "start_time": "2021-11-09T21:12:50.413Z"
   },
   {
    "duration": 499,
    "start_time": "2021-11-09T21:13:04.403Z"
   },
   {
    "duration": 391,
    "start_time": "2021-11-09T21:18:59.535Z"
   },
   {
    "duration": 424,
    "start_time": "2021-11-09T21:19:24.584Z"
   },
   {
    "duration": 5,
    "start_time": "2021-11-09T21:23:13.033Z"
   },
   {
    "duration": 396,
    "start_time": "2021-11-09T21:23:42.668Z"
   },
   {
    "duration": 413,
    "start_time": "2021-11-09T21:25:24.811Z"
   },
   {
    "duration": 494,
    "start_time": "2021-11-09T21:25:35.662Z"
   },
   {
    "duration": 392,
    "start_time": "2021-11-09T21:25:44.208Z"
   },
   {
    "duration": 394,
    "start_time": "2021-11-09T21:25:51.322Z"
   },
   {
    "duration": 427,
    "start_time": "2021-11-09T21:32:57.937Z"
   },
   {
    "duration": 11,
    "start_time": "2021-11-09T22:07:38.629Z"
   },
   {
    "duration": 4,
    "start_time": "2021-11-09T22:10:37.755Z"
   },
   {
    "duration": 4,
    "start_time": "2021-11-09T22:10:55.295Z"
   },
   {
    "duration": 12,
    "start_time": "2021-11-09T22:11:37.826Z"
   },
   {
    "duration": 13,
    "start_time": "2021-11-09T22:11:50.156Z"
   },
   {
    "duration": 36,
    "start_time": "2021-11-09T22:12:27.043Z"
   },
   {
    "duration": 10,
    "start_time": "2021-11-09T22:12:32.202Z"
   },
   {
    "duration": 10,
    "start_time": "2021-11-09T22:12:35.355Z"
   },
   {
    "duration": 10,
    "start_time": "2021-11-09T22:12:38.585Z"
   },
   {
    "duration": 38,
    "start_time": "2021-11-09T22:14:41.648Z"
   },
   {
    "duration": 17,
    "start_time": "2021-11-09T22:14:46.304Z"
   },
   {
    "duration": 192,
    "start_time": "2021-11-09T22:17:03.133Z"
   },
   {
    "duration": 29,
    "start_time": "2021-11-09T22:17:12.105Z"
   },
   {
    "duration": 33,
    "start_time": "2021-11-09T22:17:47.502Z"
   },
   {
    "duration": 303,
    "start_time": "2021-11-10T10:24:30.447Z"
   },
   {
    "duration": 1190,
    "start_time": "2021-11-10T10:24:37.981Z"
   },
   {
    "duration": 310,
    "start_time": "2021-11-10T10:24:39.173Z"
   },
   {
    "duration": 19,
    "start_time": "2021-11-10T10:24:39.485Z"
   },
   {
    "duration": 12,
    "start_time": "2021-11-10T10:24:39.506Z"
   },
   {
    "duration": 26,
    "start_time": "2021-11-10T10:24:39.520Z"
   },
   {
    "duration": 13,
    "start_time": "2021-11-10T10:24:39.548Z"
   },
   {
    "duration": 33,
    "start_time": "2021-11-10T10:24:39.563Z"
   },
   {
    "duration": 21,
    "start_time": "2021-11-10T10:24:39.599Z"
   },
   {
    "duration": 12,
    "start_time": "2021-11-10T10:24:39.622Z"
   },
   {
    "duration": 8,
    "start_time": "2021-11-10T10:24:39.635Z"
   },
   {
    "duration": 13,
    "start_time": "2021-11-10T10:24:39.644Z"
   },
   {
    "duration": 35,
    "start_time": "2021-11-10T10:24:39.658Z"
   },
   {
    "duration": 10,
    "start_time": "2021-11-10T10:24:39.694Z"
   },
   {
    "duration": 13,
    "start_time": "2021-11-10T10:24:39.705Z"
   },
   {
    "duration": 16,
    "start_time": "2021-11-10T10:24:39.720Z"
   },
   {
    "duration": 10,
    "start_time": "2021-11-10T10:24:39.738Z"
   },
   {
    "duration": 6,
    "start_time": "2021-11-10T10:24:39.750Z"
   },
   {
    "duration": 49,
    "start_time": "2021-11-10T10:24:39.758Z"
   },
   {
    "duration": 7,
    "start_time": "2021-11-10T10:24:39.808Z"
   },
   {
    "duration": 6,
    "start_time": "2021-11-10T10:24:39.817Z"
   },
   {
    "duration": 7,
    "start_time": "2021-11-10T10:24:39.824Z"
   },
   {
    "duration": 13,
    "start_time": "2021-11-10T10:24:39.833Z"
   },
   {
    "duration": 7,
    "start_time": "2021-11-10T10:24:39.849Z"
   },
   {
    "duration": 93,
    "start_time": "2021-11-10T10:24:39.858Z"
   },
   {
    "duration": 11,
    "start_time": "2021-11-10T10:24:39.952Z"
   },
   {
    "duration": 86,
    "start_time": "2021-11-10T10:24:39.965Z"
   },
   {
    "duration": 53,
    "start_time": "2021-11-10T10:24:40.053Z"
   },
   {
    "duration": 26,
    "start_time": "2021-11-10T10:24:40.108Z"
   },
   {
    "duration": 66,
    "start_time": "2021-11-10T10:24:40.136Z"
   },
   {
    "duration": 28,
    "start_time": "2021-11-10T10:24:40.204Z"
   },
   {
    "duration": 9,
    "start_time": "2021-11-10T10:24:40.234Z"
   },
   {
    "duration": 63,
    "start_time": "2021-11-10T10:24:40.245Z"
   },
   {
    "duration": 16,
    "start_time": "2021-11-10T10:24:40.311Z"
   },
   {
    "duration": 11,
    "start_time": "2021-11-10T10:24:40.329Z"
   },
   {
    "duration": 11,
    "start_time": "2021-11-10T10:24:40.342Z"
   },
   {
    "duration": 5,
    "start_time": "2021-11-10T10:24:40.356Z"
   },
   {
    "duration": 101,
    "start_time": "2021-11-10T10:24:40.363Z"
   },
   {
    "duration": 45,
    "start_time": "2021-11-10T10:24:40.465Z"
   },
   {
    "duration": 12,
    "start_time": "2021-11-10T10:24:40.512Z"
   },
   {
    "duration": 27,
    "start_time": "2021-11-10T10:24:40.525Z"
   },
   {
    "duration": 43,
    "start_time": "2021-11-10T10:24:40.554Z"
   },
   {
    "duration": 452,
    "start_time": "2021-11-10T10:24:40.598Z"
   },
   {
    "duration": 510,
    "start_time": "2021-11-10T10:24:41.052Z"
   },
   {
    "duration": 413,
    "start_time": "2021-11-10T10:24:41.564Z"
   },
   {
    "duration": 4873,
    "start_time": "2021-11-10T10:34:59.219Z"
   },
   {
    "duration": 69,
    "start_time": "2021-11-10T10:35:30.390Z"
   },
   {
    "duration": 43,
    "start_time": "2021-11-10T10:35:59.005Z"
   },
   {
    "duration": 44,
    "start_time": "2021-11-10T10:39:16.054Z"
   },
   {
    "duration": 1031,
    "start_time": "2021-11-10T10:40:14.364Z"
   },
   {
    "duration": 194,
    "start_time": "2021-11-10T10:40:37.593Z"
   },
   {
    "duration": 3,
    "start_time": "2021-11-10T10:40:48.084Z"
   },
   {
    "duration": 320,
    "start_time": "2021-11-10T10:40:48.091Z"
   },
   {
    "duration": 15,
    "start_time": "2021-11-10T10:40:48.413Z"
   },
   {
    "duration": 7,
    "start_time": "2021-11-10T10:40:48.430Z"
   },
   {
    "duration": 23,
    "start_time": "2021-11-10T10:40:48.439Z"
   },
   {
    "duration": 14,
    "start_time": "2021-11-10T10:40:48.463Z"
   },
   {
    "duration": 17,
    "start_time": "2021-11-10T10:40:48.479Z"
   },
   {
    "duration": 22,
    "start_time": "2021-11-10T10:40:48.498Z"
   },
   {
    "duration": 10,
    "start_time": "2021-11-10T10:40:48.523Z"
   },
   {
    "duration": 8,
    "start_time": "2021-11-10T10:40:48.535Z"
   },
   {
    "duration": 8,
    "start_time": "2021-11-10T10:40:48.544Z"
   },
   {
    "duration": 12,
    "start_time": "2021-11-10T10:40:48.554Z"
   },
   {
    "duration": 30,
    "start_time": "2021-11-10T10:40:48.567Z"
   },
   {
    "duration": 16,
    "start_time": "2021-11-10T10:40:48.599Z"
   },
   {
    "duration": 17,
    "start_time": "2021-11-10T10:40:48.617Z"
   },
   {
    "duration": 8,
    "start_time": "2021-11-10T10:40:48.636Z"
   },
   {
    "duration": 7,
    "start_time": "2021-11-10T10:40:48.645Z"
   },
   {
    "duration": 39,
    "start_time": "2021-11-10T10:40:48.653Z"
   },
   {
    "duration": 7,
    "start_time": "2021-11-10T10:40:48.694Z"
   },
   {
    "duration": 6,
    "start_time": "2021-11-10T10:40:48.703Z"
   },
   {
    "duration": 6,
    "start_time": "2021-11-10T10:40:48.710Z"
   },
   {
    "duration": 10,
    "start_time": "2021-11-10T10:40:48.718Z"
   },
   {
    "duration": 7,
    "start_time": "2021-11-10T10:40:48.730Z"
   },
   {
    "duration": 94,
    "start_time": "2021-11-10T10:40:48.741Z"
   },
   {
    "duration": 10,
    "start_time": "2021-11-10T10:40:48.837Z"
   },
   {
    "duration": 65,
    "start_time": "2021-11-10T10:40:48.849Z"
   },
   {
    "duration": 36,
    "start_time": "2021-11-10T10:40:48.916Z"
   },
   {
    "duration": 226,
    "start_time": "2021-11-10T10:40:48.954Z"
   },
   {
    "duration": 340,
    "start_time": "2021-11-10T10:40:48.842Z"
   },
   {
    "duration": 335,
    "start_time": "2021-11-10T10:40:48.848Z"
   },
   {
    "duration": 329,
    "start_time": "2021-11-10T10:40:48.855Z"
   },
   {
    "duration": 324,
    "start_time": "2021-11-10T10:40:48.861Z"
   },
   {
    "duration": 316,
    "start_time": "2021-11-10T10:40:48.870Z"
   },
   {
    "duration": 306,
    "start_time": "2021-11-10T10:40:48.881Z"
   },
   {
    "duration": 296,
    "start_time": "2021-11-10T10:40:48.892Z"
   },
   {
    "duration": 284,
    "start_time": "2021-11-10T10:40:48.905Z"
   },
   {
    "duration": 275,
    "start_time": "2021-11-10T10:40:48.915Z"
   },
   {
    "duration": 263,
    "start_time": "2021-11-10T10:40:48.928Z"
   },
   {
    "duration": 247,
    "start_time": "2021-11-10T10:40:48.945Z"
   },
   {
    "duration": 241,
    "start_time": "2021-11-10T10:40:48.952Z"
   },
   {
    "duration": 235,
    "start_time": "2021-11-10T10:40:48.959Z"
   },
   {
    "duration": 230,
    "start_time": "2021-11-10T10:40:48.965Z"
   },
   {
    "duration": 225,
    "start_time": "2021-11-10T10:40:48.971Z"
   },
   {
    "duration": 219,
    "start_time": "2021-11-10T10:40:48.978Z"
   },
   {
    "duration": 882,
    "start_time": "2021-11-10T10:41:13.876Z"
   },
   {
    "duration": 19,
    "start_time": "2021-11-10T10:41:30.201Z"
   },
   {
    "duration": 19,
    "start_time": "2021-11-10T10:42:53.676Z"
   },
   {
    "duration": 3,
    "start_time": "2021-11-10T10:43:15.860Z"
   },
   {
    "duration": 314,
    "start_time": "2021-11-10T10:43:15.865Z"
   },
   {
    "duration": 16,
    "start_time": "2021-11-10T10:43:16.181Z"
   },
   {
    "duration": 8,
    "start_time": "2021-11-10T10:43:16.199Z"
   },
   {
    "duration": 29,
    "start_time": "2021-11-10T10:43:16.208Z"
   },
   {
    "duration": 14,
    "start_time": "2021-11-10T10:43:16.239Z"
   },
   {
    "duration": 8,
    "start_time": "2021-11-10T10:43:16.255Z"
   },
   {
    "duration": 45,
    "start_time": "2021-11-10T10:43:16.264Z"
   },
   {
    "duration": 11,
    "start_time": "2021-11-10T10:43:16.312Z"
   },
   {
    "duration": 11,
    "start_time": "2021-11-10T10:43:16.325Z"
   },
   {
    "duration": 14,
    "start_time": "2021-11-10T10:43:16.338Z"
   },
   {
    "duration": 10,
    "start_time": "2021-11-10T10:43:16.354Z"
   },
   {
    "duration": 10,
    "start_time": "2021-11-10T10:43:16.366Z"
   },
   {
    "duration": 9,
    "start_time": "2021-11-10T10:43:16.392Z"
   },
   {
    "duration": 16,
    "start_time": "2021-11-10T10:43:16.403Z"
   },
   {
    "duration": 8,
    "start_time": "2021-11-10T10:43:16.420Z"
   },
   {
    "duration": 8,
    "start_time": "2021-11-10T10:43:16.429Z"
   },
   {
    "duration": 15,
    "start_time": "2021-11-10T10:43:16.438Z"
   },
   {
    "duration": 6,
    "start_time": "2021-11-10T10:43:16.455Z"
   },
   {
    "duration": 8,
    "start_time": "2021-11-10T10:43:16.492Z"
   },
   {
    "duration": 7,
    "start_time": "2021-11-10T10:43:16.502Z"
   },
   {
    "duration": 11,
    "start_time": "2021-11-10T10:43:16.511Z"
   },
   {
    "duration": 9,
    "start_time": "2021-11-10T10:43:16.524Z"
   },
   {
    "duration": 101,
    "start_time": "2021-11-10T10:43:16.537Z"
   },
   {
    "duration": 10,
    "start_time": "2021-11-10T10:43:16.640Z"
   },
   {
    "duration": 72,
    "start_time": "2021-11-10T10:43:16.652Z"
   },
   {
    "duration": 36,
    "start_time": "2021-11-10T10:43:16.725Z"
   },
   {
    "duration": 39,
    "start_time": "2021-11-10T10:43:16.762Z"
   },
   {
    "duration": 50,
    "start_time": "2021-11-10T10:43:16.803Z"
   },
   {
    "duration": 42,
    "start_time": "2021-11-10T10:43:16.855Z"
   },
   {
    "duration": 8,
    "start_time": "2021-11-10T10:43:16.899Z"
   },
   {
    "duration": 36,
    "start_time": "2021-11-10T10:43:16.908Z"
   },
   {
    "duration": 11,
    "start_time": "2021-11-10T10:43:16.945Z"
   },
   {
    "duration": 18,
    "start_time": "2021-11-10T10:43:16.957Z"
   },
   {
    "duration": 22,
    "start_time": "2021-11-10T10:43:16.976Z"
   },
   {
    "duration": 21,
    "start_time": "2021-11-10T10:43:16.999Z"
   },
   {
    "duration": 85,
    "start_time": "2021-11-10T10:43:17.022Z"
   },
   {
    "duration": 25,
    "start_time": "2021-11-10T10:43:17.108Z"
   },
   {
    "duration": 11,
    "start_time": "2021-11-10T10:43:17.135Z"
   },
   {
    "duration": 46,
    "start_time": "2021-11-10T10:43:17.147Z"
   },
   {
    "duration": 10,
    "start_time": "2021-11-10T10:43:17.194Z"
   },
   {
    "duration": 438,
    "start_time": "2021-11-10T10:43:17.206Z"
   },
   {
    "duration": 491,
    "start_time": "2021-11-10T10:43:17.646Z"
   },
   {
    "duration": 417,
    "start_time": "2021-11-10T10:43:18.139Z"
   },
   {
    "duration": 20,
    "start_time": "2021-11-10T10:43:57.630Z"
   },
   {
    "duration": 768,
    "start_time": "2021-11-10T10:44:08.407Z"
   },
   {
    "duration": 10,
    "start_time": "2021-11-10T10:45:01.243Z"
   },
   {
    "duration": 30,
    "start_time": "2021-11-10T10:46:16.521Z"
   },
   {
    "duration": 32,
    "start_time": "2021-11-10T10:47:27.677Z"
   },
   {
    "duration": 31,
    "start_time": "2021-11-10T10:47:39.869Z"
   },
   {
    "duration": 4565,
    "start_time": "2021-11-10T10:47:46.858Z"
   },
   {
    "duration": 3,
    "start_time": "2021-11-10T10:47:59.006Z"
   },
   {
    "duration": 326,
    "start_time": "2021-11-10T10:47:59.014Z"
   },
   {
    "duration": 15,
    "start_time": "2021-11-10T10:47:59.341Z"
   },
   {
    "duration": 8,
    "start_time": "2021-11-10T10:47:59.358Z"
   },
   {
    "duration": 23,
    "start_time": "2021-11-10T10:47:59.368Z"
   },
   {
    "duration": 14,
    "start_time": "2021-11-10T10:47:59.393Z"
   },
   {
    "duration": 24,
    "start_time": "2021-11-10T10:47:59.409Z"
   },
   {
    "duration": 31,
    "start_time": "2021-11-10T10:47:59.435Z"
   },
   {
    "duration": 12,
    "start_time": "2021-11-10T10:47:59.469Z"
   },
   {
    "duration": 11,
    "start_time": "2021-11-10T10:47:59.484Z"
   },
   {
    "duration": 9,
    "start_time": "2021-11-10T10:47:59.497Z"
   },
   {
    "duration": 16,
    "start_time": "2021-11-10T10:47:59.508Z"
   },
   {
    "duration": 17,
    "start_time": "2021-11-10T10:47:59.526Z"
   },
   {
    "duration": 18,
    "start_time": "2021-11-10T10:47:59.545Z"
   },
   {
    "duration": 15,
    "start_time": "2021-11-10T10:47:59.565Z"
   },
   {
    "duration": 18,
    "start_time": "2021-11-10T10:47:59.581Z"
   },
   {
    "duration": 12,
    "start_time": "2021-11-10T10:47:59.600Z"
   },
   {
    "duration": 29,
    "start_time": "2021-11-10T10:47:59.614Z"
   },
   {
    "duration": 8,
    "start_time": "2021-11-10T10:47:59.645Z"
   },
   {
    "duration": 10,
    "start_time": "2021-11-10T10:47:59.655Z"
   },
   {
    "duration": 30,
    "start_time": "2021-11-10T10:47:59.666Z"
   },
   {
    "duration": 14,
    "start_time": "2021-11-10T10:47:59.697Z"
   },
   {
    "duration": 16,
    "start_time": "2021-11-10T10:47:59.713Z"
   },
   {
    "duration": 67,
    "start_time": "2021-11-10T10:47:59.733Z"
   },
   {
    "duration": 9,
    "start_time": "2021-11-10T10:47:59.802Z"
   },
   {
    "duration": 58,
    "start_time": "2021-11-10T10:47:59.812Z"
   },
   {
    "duration": 49,
    "start_time": "2021-11-10T10:47:59.871Z"
   },
   {
    "duration": 25,
    "start_time": "2021-11-10T10:47:59.921Z"
   },
   {
    "duration": 65,
    "start_time": "2021-11-10T10:47:59.947Z"
   },
   {
    "duration": 32,
    "start_time": "2021-11-10T10:48:00.013Z"
   },
   {
    "duration": 8,
    "start_time": "2021-11-10T10:48:00.047Z"
   },
   {
    "duration": 53,
    "start_time": "2021-11-10T10:48:00.056Z"
   },
   {
    "duration": 11,
    "start_time": "2021-11-10T10:48:00.112Z"
   },
   {
    "duration": 14,
    "start_time": "2021-11-10T10:48:00.125Z"
   },
   {
    "duration": 18,
    "start_time": "2021-11-10T10:48:00.140Z"
   },
   {
    "duration": 8,
    "start_time": "2021-11-10T10:48:00.159Z"
   },
   {
    "duration": 90,
    "start_time": "2021-11-10T10:48:00.168Z"
   },
   {
    "duration": 36,
    "start_time": "2021-11-10T10:48:00.260Z"
   },
   {
    "duration": 12,
    "start_time": "2021-11-10T10:48:00.298Z"
   },
   {
    "duration": 32,
    "start_time": "2021-11-10T10:48:00.311Z"
   },
   {
    "duration": 11,
    "start_time": "2021-11-10T10:48:00.345Z"
   },
   {
    "duration": 448,
    "start_time": "2021-11-10T10:48:00.358Z"
   },
   {
    "duration": 429,
    "start_time": "2021-11-10T10:48:00.808Z"
   },
   {
    "duration": 406,
    "start_time": "2021-11-10T10:48:01.239Z"
   },
   {
    "duration": 31,
    "start_time": "2021-11-10T10:48:48.679Z"
   },
   {
    "duration": 10,
    "start_time": "2021-11-10T10:48:59.456Z"
   },
   {
    "duration": 27,
    "start_time": "2021-11-10T10:49:41.318Z"
   },
   {
    "duration": 10,
    "start_time": "2021-11-10T10:49:45.341Z"
   },
   {
    "duration": 11,
    "start_time": "2021-11-10T10:49:59.700Z"
   },
   {
    "duration": 9,
    "start_time": "2021-11-10T10:50:01.981Z"
   },
   {
    "duration": 4,
    "start_time": "2021-11-10T10:50:33.527Z"
   },
   {
    "duration": 3,
    "start_time": "2021-11-10T10:50:47.648Z"
   },
   {
    "duration": 3,
    "start_time": "2021-11-10T10:51:07.776Z"
   },
   {
    "duration": 310,
    "start_time": "2021-11-10T10:51:07.783Z"
   },
   {
    "duration": 16,
    "start_time": "2021-11-10T10:51:08.094Z"
   },
   {
    "duration": 8,
    "start_time": "2021-11-10T10:51:08.112Z"
   },
   {
    "duration": 22,
    "start_time": "2021-11-10T10:51:08.122Z"
   },
   {
    "duration": 13,
    "start_time": "2021-11-10T10:51:08.146Z"
   },
   {
    "duration": 34,
    "start_time": "2021-11-10T10:51:08.161Z"
   },
   {
    "duration": 21,
    "start_time": "2021-11-10T10:51:08.197Z"
   },
   {
    "duration": 10,
    "start_time": "2021-11-10T10:51:08.221Z"
   },
   {
    "duration": 7,
    "start_time": "2021-11-10T10:51:08.233Z"
   },
   {
    "duration": 8,
    "start_time": "2021-11-10T10:51:08.241Z"
   },
   {
    "duration": 11,
    "start_time": "2021-11-10T10:51:08.251Z"
   },
   {
    "duration": 6,
    "start_time": "2021-11-10T10:51:08.292Z"
   },
   {
    "duration": 14,
    "start_time": "2021-11-10T10:51:08.300Z"
   },
   {
    "duration": 15,
    "start_time": "2021-11-10T10:51:08.316Z"
   },
   {
    "duration": 10,
    "start_time": "2021-11-10T10:51:08.332Z"
   },
   {
    "duration": 7,
    "start_time": "2021-11-10T10:51:08.343Z"
   },
   {
    "duration": 45,
    "start_time": "2021-11-10T10:51:08.352Z"
   },
   {
    "duration": 8,
    "start_time": "2021-11-10T10:51:08.398Z"
   },
   {
    "duration": 6,
    "start_time": "2021-11-10T10:51:08.408Z"
   },
   {
    "duration": 6,
    "start_time": "2021-11-10T10:51:08.415Z"
   },
   {
    "duration": 10,
    "start_time": "2021-11-10T10:51:08.423Z"
   },
   {
    "duration": 7,
    "start_time": "2021-11-10T10:51:08.435Z"
   },
   {
    "duration": 96,
    "start_time": "2021-11-10T10:51:08.445Z"
   },
   {
    "duration": 9,
    "start_time": "2021-11-10T10:51:08.543Z"
   },
   {
    "duration": 63,
    "start_time": "2021-11-10T10:51:08.554Z"
   },
   {
    "duration": 36,
    "start_time": "2021-11-10T10:51:08.618Z"
   },
   {
    "duration": 38,
    "start_time": "2021-11-10T10:51:08.656Z"
   },
   {
    "duration": 46,
    "start_time": "2021-11-10T10:51:08.695Z"
   },
   {
    "duration": 24,
    "start_time": "2021-11-10T10:51:08.743Z"
   },
   {
    "duration": 26,
    "start_time": "2021-11-10T10:51:08.769Z"
   },
   {
    "duration": 39,
    "start_time": "2021-11-10T10:51:08.797Z"
   },
   {
    "duration": 8,
    "start_time": "2021-11-10T10:51:08.837Z"
   },
   {
    "duration": 22,
    "start_time": "2021-11-10T10:51:08.847Z"
   },
   {
    "duration": 12,
    "start_time": "2021-11-10T10:51:08.870Z"
   },
   {
    "duration": 15,
    "start_time": "2021-11-10T10:51:08.883Z"
   },
   {
    "duration": 7,
    "start_time": "2021-11-10T10:51:08.899Z"
   },
   {
    "duration": 6,
    "start_time": "2021-11-10T10:51:08.907Z"
   },
   {
    "duration": 80,
    "start_time": "2021-11-10T10:51:08.915Z"
   },
   {
    "duration": 25,
    "start_time": "2021-11-10T10:51:08.997Z"
   },
   {
    "duration": 11,
    "start_time": "2021-11-10T10:51:09.023Z"
   },
   {
    "duration": 25,
    "start_time": "2021-11-10T10:51:09.036Z"
   },
   {
    "duration": 37,
    "start_time": "2021-11-10T10:51:09.063Z"
   },
   {
    "duration": 432,
    "start_time": "2021-11-10T10:51:09.102Z"
   },
   {
    "duration": 506,
    "start_time": "2021-11-10T10:51:09.536Z"
   },
   {
    "duration": 393,
    "start_time": "2021-11-10T10:51:10.044Z"
   },
   {
    "duration": 17,
    "start_time": "2021-11-10T10:56:37.421Z"
   },
   {
    "duration": 19,
    "start_time": "2021-11-10T10:56:51.993Z"
   },
   {
    "duration": 20,
    "start_time": "2021-11-10T10:57:07.659Z"
   },
   {
    "duration": 9,
    "start_time": "2021-11-10T10:57:14.061Z"
   },
   {
    "duration": 25,
    "start_time": "2021-11-10T10:57:20.460Z"
   },
   {
    "duration": 11,
    "start_time": "2021-11-10T10:57:24.700Z"
   },
   {
    "duration": 10,
    "start_time": "2021-11-10T10:57:27.464Z"
   },
   {
    "duration": 9,
    "start_time": "2021-11-10T10:57:29.967Z"
   },
   {
    "duration": 4,
    "start_time": "2021-11-10T10:57:33.310Z"
   },
   {
    "duration": 4,
    "start_time": "2021-11-10T10:57:34.674Z"
   },
   {
    "duration": 3,
    "start_time": "2021-11-10T11:30:39.364Z"
   },
   {
    "duration": 4,
    "start_time": "2021-11-10T11:32:25.438Z"
   },
   {
    "duration": 1487,
    "start_time": "2021-11-10T14:09:48.286Z"
   },
   {
    "duration": 376,
    "start_time": "2021-11-10T14:09:49.775Z"
   },
   {
    "duration": 22,
    "start_time": "2021-11-10T14:09:50.154Z"
   },
   {
    "duration": 33,
    "start_time": "2021-11-10T14:09:50.178Z"
   },
   {
    "duration": 46,
    "start_time": "2021-11-10T14:09:50.214Z"
   },
   {
    "duration": 18,
    "start_time": "2021-11-10T14:09:50.263Z"
   },
   {
    "duration": 25,
    "start_time": "2021-11-10T14:09:50.284Z"
   },
   {
    "duration": 50,
    "start_time": "2021-11-10T14:09:50.313Z"
   },
   {
    "duration": 21,
    "start_time": "2021-11-10T14:09:50.367Z"
   },
   {
    "duration": 30,
    "start_time": "2021-11-10T14:09:50.391Z"
   },
   {
    "duration": 33,
    "start_time": "2021-11-10T14:09:50.423Z"
   },
   {
    "duration": 22,
    "start_time": "2021-11-10T14:09:50.459Z"
   },
   {
    "duration": 17,
    "start_time": "2021-11-10T14:09:50.484Z"
   },
   {
    "duration": 28,
    "start_time": "2021-11-10T14:09:50.504Z"
   },
   {
    "duration": 44,
    "start_time": "2021-11-10T14:09:50.535Z"
   },
   {
    "duration": 27,
    "start_time": "2021-11-10T14:09:50.581Z"
   },
   {
    "duration": 32,
    "start_time": "2021-11-10T14:09:50.611Z"
   },
   {
    "duration": 31,
    "start_time": "2021-11-10T14:09:50.646Z"
   },
   {
    "duration": 19,
    "start_time": "2021-11-10T14:09:50.680Z"
   },
   {
    "duration": 19,
    "start_time": "2021-11-10T14:09:50.702Z"
   },
   {
    "duration": 17,
    "start_time": "2021-11-10T14:09:50.730Z"
   },
   {
    "duration": 27,
    "start_time": "2021-11-10T14:09:50.749Z"
   },
   {
    "duration": 19,
    "start_time": "2021-11-10T14:09:50.781Z"
   },
   {
    "duration": 117,
    "start_time": "2021-11-10T14:09:50.803Z"
   },
   {
    "duration": 17,
    "start_time": "2021-11-10T14:09:50.923Z"
   },
   {
    "duration": 106,
    "start_time": "2021-11-10T14:09:50.943Z"
   },
   {
    "duration": 55,
    "start_time": "2021-11-10T14:09:51.051Z"
   },
   {
    "duration": 54,
    "start_time": "2021-11-10T14:09:51.108Z"
   },
   {
    "duration": 93,
    "start_time": "2021-11-10T14:09:51.164Z"
   },
   {
    "duration": 42,
    "start_time": "2021-11-10T14:09:51.259Z"
   },
   {
    "duration": 31,
    "start_time": "2021-11-10T14:09:51.303Z"
   },
   {
    "duration": 67,
    "start_time": "2021-11-10T14:09:51.337Z"
   },
   {
    "duration": 22,
    "start_time": "2021-11-10T14:09:51.407Z"
   },
   {
    "duration": 31,
    "start_time": "2021-11-10T14:09:51.431Z"
   },
   {
    "duration": 27,
    "start_time": "2021-11-10T14:09:51.464Z"
   },
   {
    "duration": 15,
    "start_time": "2021-11-10T14:09:51.493Z"
   },
   {
    "duration": 19,
    "start_time": "2021-11-10T14:09:51.511Z"
   },
   {
    "duration": 24,
    "start_time": "2021-11-10T14:09:51.532Z"
   },
   {
    "duration": 30,
    "start_time": "2021-11-10T14:09:51.558Z"
   },
   {
    "duration": 144,
    "start_time": "2021-11-10T14:09:51.590Z"
   },
   {
    "duration": 44,
    "start_time": "2021-11-10T14:09:51.737Z"
   },
   {
    "duration": 47,
    "start_time": "2021-11-10T14:09:51.783Z"
   },
   {
    "duration": 43,
    "start_time": "2021-11-10T14:09:51.833Z"
   },
   {
    "duration": 24,
    "start_time": "2021-11-10T14:09:51.879Z"
   },
   {
    "duration": 711,
    "start_time": "2021-11-10T14:09:51.930Z"
   },
   {
    "duration": 706,
    "start_time": "2021-11-10T14:09:52.643Z"
   },
   {
    "duration": 830,
    "start_time": "2021-11-10T14:09:53.352Z"
   },
   {
    "duration": 473,
    "start_time": "2021-11-10T14:26:01.022Z"
   },
   {
    "duration": 299,
    "start_time": "2021-11-10T14:26:11.003Z"
   },
   {
    "duration": 277,
    "start_time": "2021-11-10T14:26:13.876Z"
   },
   {
    "duration": 2200,
    "start_time": "2021-11-10T14:26:28.634Z"
   },
   {
    "duration": 7,
    "start_time": "2021-11-10T14:27:13.414Z"
   },
   {
    "duration": 794,
    "start_time": "2021-11-10T14:31:33.997Z"
   },
   {
    "duration": 576,
    "start_time": "2021-11-10T14:31:54.062Z"
   },
   {
    "duration": 541,
    "start_time": "2021-11-10T14:32:19.363Z"
   },
   {
    "duration": 723,
    "start_time": "2021-11-10T14:33:24.138Z"
   },
   {
    "duration": 756,
    "start_time": "2021-11-10T14:33:55.187Z"
   },
   {
    "duration": 548,
    "start_time": "2021-11-10T14:34:06.825Z"
   },
   {
    "duration": 605,
    "start_time": "2021-11-10T14:34:38.124Z"
   },
   {
    "duration": 553,
    "start_time": "2021-11-10T14:34:46.635Z"
   },
   {
    "duration": 1806,
    "start_time": "2021-11-10T14:36:06.008Z"
   },
   {
    "duration": 781,
    "start_time": "2021-11-10T14:36:31.185Z"
   },
   {
    "duration": 636,
    "start_time": "2021-11-10T14:36:58.821Z"
   },
   {
    "duration": 525,
    "start_time": "2021-11-10T14:37:05.500Z"
   },
   {
    "duration": 816,
    "start_time": "2021-11-10T14:37:13.628Z"
   },
   {
    "duration": 634,
    "start_time": "2021-11-10T14:37:19.175Z"
   },
   {
    "duration": 676,
    "start_time": "2021-11-10T14:37:23.335Z"
   },
   {
    "duration": 606,
    "start_time": "2021-11-10T14:37:30.684Z"
   },
   {
    "duration": 655,
    "start_time": "2021-11-10T14:37:42.772Z"
   },
   {
    "duration": 523,
    "start_time": "2021-11-10T14:37:55.415Z"
   },
   {
    "duration": 752,
    "start_time": "2021-11-10T14:39:17.430Z"
   },
   {
    "duration": 1117,
    "start_time": "2021-11-10T14:39:41.170Z"
   },
   {
    "duration": 792,
    "start_time": "2021-11-10T14:40:10.389Z"
   },
   {
    "duration": 807,
    "start_time": "2021-11-10T14:40:38.259Z"
   },
   {
    "duration": 941,
    "start_time": "2021-11-10T14:41:53.293Z"
   },
   {
    "duration": 1026,
    "start_time": "2021-11-10T14:42:55.467Z"
   },
   {
    "duration": 799,
    "start_time": "2021-11-10T14:43:08.164Z"
   },
   {
    "duration": 220,
    "start_time": "2021-11-10T14:45:28.844Z"
   },
   {
    "duration": 97,
    "start_time": "2021-11-10T14:46:38.552Z"
   },
   {
    "duration": 627,
    "start_time": "2021-11-10T14:46:43.006Z"
   },
   {
    "duration": 726,
    "start_time": "2021-11-10T14:46:54.938Z"
   },
   {
    "duration": 851,
    "start_time": "2021-11-10T14:47:02.609Z"
   },
   {
    "duration": 724,
    "start_time": "2021-11-10T14:47:09.339Z"
   },
   {
    "duration": 627,
    "start_time": "2021-11-10T14:51:04.238Z"
   },
   {
    "duration": 699,
    "start_time": "2021-11-10T14:51:59.412Z"
   },
   {
    "duration": 6,
    "start_time": "2021-11-10T14:52:38.735Z"
   },
   {
    "duration": 8,
    "start_time": "2021-11-10T14:53:28.162Z"
   },
   {
    "duration": 144,
    "start_time": "2021-11-10T14:54:12.604Z"
   },
   {
    "duration": 9,
    "start_time": "2021-11-10T14:54:15.702Z"
   },
   {
    "duration": 4,
    "start_time": "2021-11-10T14:54:34.122Z"
   },
   {
    "duration": 412,
    "start_time": "2021-11-10T14:54:34.132Z"
   },
   {
    "duration": 22,
    "start_time": "2021-11-10T14:54:34.546Z"
   },
   {
    "duration": 12,
    "start_time": "2021-11-10T14:54:34.571Z"
   },
   {
    "duration": 52,
    "start_time": "2021-11-10T14:54:34.586Z"
   },
   {
    "duration": 19,
    "start_time": "2021-11-10T14:54:34.641Z"
   },
   {
    "duration": 12,
    "start_time": "2021-11-10T14:54:34.662Z"
   },
   {
    "duration": 58,
    "start_time": "2021-11-10T14:54:34.676Z"
   },
   {
    "duration": 15,
    "start_time": "2021-11-10T14:54:34.738Z"
   },
   {
    "duration": 13,
    "start_time": "2021-11-10T14:54:34.756Z"
   },
   {
    "duration": 16,
    "start_time": "2021-11-10T14:54:34.771Z"
   },
   {
    "duration": 47,
    "start_time": "2021-11-10T14:54:34.789Z"
   },
   {
    "duration": 11,
    "start_time": "2021-11-10T14:54:34.839Z"
   },
   {
    "duration": 16,
    "start_time": "2021-11-10T14:54:34.852Z"
   },
   {
    "duration": 30,
    "start_time": "2021-11-10T14:54:34.871Z"
   },
   {
    "duration": 30,
    "start_time": "2021-11-10T14:54:34.903Z"
   },
   {
    "duration": 12,
    "start_time": "2021-11-10T14:54:34.935Z"
   },
   {
    "duration": 23,
    "start_time": "2021-11-10T14:54:34.949Z"
   },
   {
    "duration": 9,
    "start_time": "2021-11-10T14:54:34.974Z"
   },
   {
    "duration": 49,
    "start_time": "2021-11-10T14:54:34.986Z"
   },
   {
    "duration": 10,
    "start_time": "2021-11-10T14:54:35.038Z"
   },
   {
    "duration": 21,
    "start_time": "2021-11-10T14:54:35.051Z"
   },
   {
    "duration": 56,
    "start_time": "2021-11-10T14:54:35.075Z"
   },
   {
    "duration": 109,
    "start_time": "2021-11-10T14:54:35.138Z"
   },
   {
    "duration": 17,
    "start_time": "2021-11-10T14:54:35.252Z"
   },
   {
    "duration": 109,
    "start_time": "2021-11-10T14:54:35.272Z"
   },
   {
    "duration": 68,
    "start_time": "2021-11-10T14:54:35.384Z"
   },
   {
    "duration": 35,
    "start_time": "2021-11-10T14:54:35.455Z"
   },
   {
    "duration": 91,
    "start_time": "2021-11-10T14:54:35.492Z"
   },
   {
    "duration": 57,
    "start_time": "2021-11-10T14:54:35.585Z"
   },
   {
    "duration": 12,
    "start_time": "2021-11-10T14:54:35.644Z"
   },
   {
    "duration": 38,
    "start_time": "2021-11-10T14:54:35.658Z"
   },
   {
    "duration": 14,
    "start_time": "2021-11-10T14:54:35.729Z"
   },
   {
    "duration": 19,
    "start_time": "2021-11-10T14:54:35.746Z"
   },
   {
    "duration": 16,
    "start_time": "2021-11-10T14:54:35.767Z"
   },
   {
    "duration": 14,
    "start_time": "2021-11-10T14:54:35.786Z"
   },
   {
    "duration": 30,
    "start_time": "2021-11-10T14:54:35.802Z"
   },
   {
    "duration": 13,
    "start_time": "2021-11-10T14:54:35.834Z"
   },
   {
    "duration": 12,
    "start_time": "2021-11-10T14:54:35.850Z"
   },
   {
    "duration": 159,
    "start_time": "2021-11-10T14:54:35.864Z"
   },
   {
    "duration": 9,
    "start_time": "2021-11-10T14:54:36.028Z"
   },
   {
    "duration": 39,
    "start_time": "2021-11-10T14:54:36.039Z"
   },
   {
    "duration": 50,
    "start_time": "2021-11-10T14:54:36.080Z"
   },
   {
    "duration": 41,
    "start_time": "2021-11-10T14:54:36.133Z"
   },
   {
    "duration": 16,
    "start_time": "2021-11-10T14:54:36.177Z"
   },
   {
    "duration": 726,
    "start_time": "2021-11-10T14:54:36.196Z"
   },
   {
    "duration": 693,
    "start_time": "2021-11-10T14:54:36.924Z"
   },
   {
    "duration": 673,
    "start_time": "2021-11-10T14:54:37.620Z"
   },
   {
    "duration": 672,
    "start_time": "2021-11-10T14:54:38.296Z"
   },
   {
    "duration": 652,
    "start_time": "2021-11-10T14:54:38.971Z"
   },
   {
    "duration": 722,
    "start_time": "2021-11-10T14:54:39.629Z"
   },
   {
    "duration": 275,
    "start_time": "2021-11-10T14:54:40.079Z"
   },
   {
    "duration": 228,
    "start_time": "2021-11-10T14:54:40.127Z"
   },
   {
    "duration": 241,
    "start_time": "2021-11-10T14:55:02.746Z"
   },
   {
    "duration": 10,
    "start_time": "2021-11-10T14:55:05.159Z"
   },
   {
    "duration": 4,
    "start_time": "2021-11-10T14:55:16.250Z"
   },
   {
    "duration": 566,
    "start_time": "2021-11-10T14:55:16.261Z"
   },
   {
    "duration": 34,
    "start_time": "2021-11-10T14:55:16.831Z"
   },
   {
    "duration": 17,
    "start_time": "2021-11-10T14:55:16.870Z"
   },
   {
    "duration": 58,
    "start_time": "2021-11-10T14:55:16.891Z"
   },
   {
    "duration": 28,
    "start_time": "2021-11-10T14:55:16.952Z"
   },
   {
    "duration": 48,
    "start_time": "2021-11-10T14:55:16.984Z"
   },
   {
    "duration": 32,
    "start_time": "2021-11-10T14:55:17.035Z"
   },
   {
    "duration": 16,
    "start_time": "2021-11-10T14:55:17.071Z"
   },
   {
    "duration": 48,
    "start_time": "2021-11-10T14:55:17.092Z"
   },
   {
    "duration": 13,
    "start_time": "2021-11-10T14:55:17.143Z"
   },
   {
    "duration": 15,
    "start_time": "2021-11-10T14:55:17.159Z"
   },
   {
    "duration": 55,
    "start_time": "2021-11-10T14:55:17.178Z"
   },
   {
    "duration": 25,
    "start_time": "2021-11-10T14:55:17.237Z"
   },
   {
    "duration": 26,
    "start_time": "2021-11-10T14:55:17.266Z"
   },
   {
    "duration": 42,
    "start_time": "2021-11-10T14:55:17.295Z"
   },
   {
    "duration": 12,
    "start_time": "2021-11-10T14:55:17.340Z"
   },
   {
    "duration": 24,
    "start_time": "2021-11-10T14:55:17.355Z"
   },
   {
    "duration": 49,
    "start_time": "2021-11-10T14:55:17.382Z"
   },
   {
    "duration": 11,
    "start_time": "2021-11-10T14:55:17.434Z"
   },
   {
    "duration": 11,
    "start_time": "2021-11-10T14:55:17.448Z"
   },
   {
    "duration": 21,
    "start_time": "2021-11-10T14:55:17.462Z"
   },
   {
    "duration": 53,
    "start_time": "2021-11-10T14:55:17.486Z"
   },
   {
    "duration": 149,
    "start_time": "2021-11-10T14:55:17.547Z"
   },
   {
    "duration": 30,
    "start_time": "2021-11-10T14:55:17.700Z"
   },
   {
    "duration": 98,
    "start_time": "2021-11-10T14:55:17.733Z"
   },
   {
    "duration": 99,
    "start_time": "2021-11-10T14:55:17.834Z"
   },
   {
    "duration": 47,
    "start_time": "2021-11-10T14:55:17.936Z"
   },
   {
    "duration": 138,
    "start_time": "2021-11-10T14:55:17.986Z"
   },
   {
    "duration": 54,
    "start_time": "2021-11-10T14:55:18.130Z"
   },
   {
    "duration": 19,
    "start_time": "2021-11-10T14:55:18.187Z"
   },
   {
    "duration": 61,
    "start_time": "2021-11-10T14:55:18.231Z"
   },
   {
    "duration": 44,
    "start_time": "2021-11-10T14:55:18.295Z"
   },
   {
    "duration": 20,
    "start_time": "2021-11-10T14:55:18.342Z"
   },
   {
    "duration": 20,
    "start_time": "2021-11-10T14:55:18.365Z"
   },
   {
    "duration": 46,
    "start_time": "2021-11-10T14:55:18.388Z"
   },
   {
    "duration": 7,
    "start_time": "2021-11-10T14:55:18.438Z"
   },
   {
    "duration": 5,
    "start_time": "2021-11-10T14:55:18.448Z"
   },
   {
    "duration": 7,
    "start_time": "2021-11-10T14:55:18.456Z"
   },
   {
    "duration": 279,
    "start_time": "2021-11-10T14:55:18.465Z"
   },
   {
    "duration": 14,
    "start_time": "2021-11-10T14:55:18.747Z"
   },
   {
    "duration": 110,
    "start_time": "2021-11-10T14:55:18.764Z"
   },
   {
    "duration": 30,
    "start_time": "2021-11-10T14:55:18.878Z"
   },
   {
    "duration": 61,
    "start_time": "2021-11-10T14:55:18.930Z"
   },
   {
    "duration": 44,
    "start_time": "2021-11-10T14:55:18.995Z"
   },
   {
    "duration": 1168,
    "start_time": "2021-11-10T14:55:19.042Z"
   },
   {
    "duration": 1007,
    "start_time": "2021-11-10T14:55:20.213Z"
   },
   {
    "duration": 660,
    "start_time": "2021-11-10T14:55:21.230Z"
   },
   {
    "duration": 1180,
    "start_time": "2021-11-10T14:55:21.894Z"
   },
   {
    "duration": 841,
    "start_time": "2021-11-10T14:55:23.077Z"
   },
   {
    "duration": 921,
    "start_time": "2021-11-10T14:55:23.921Z"
   },
   {
    "duration": 6,
    "start_time": "2021-11-10T14:55:24.845Z"
   },
   {
    "duration": 304,
    "start_time": "2021-11-10T14:55:24.854Z"
   },
   {
    "duration": 686,
    "start_time": "2021-11-10T14:56:05.726Z"
   },
   {
    "duration": 394,
    "start_time": "2021-11-10T17:18:10.294Z"
   },
   {
    "duration": 1215,
    "start_time": "2021-11-10T17:18:21.025Z"
   },
   {
    "duration": 298,
    "start_time": "2021-11-10T17:18:22.242Z"
   },
   {
    "duration": 16,
    "start_time": "2021-11-10T17:18:22.543Z"
   },
   {
    "duration": 14,
    "start_time": "2021-11-10T17:18:22.561Z"
   },
   {
    "duration": 30,
    "start_time": "2021-11-10T17:18:22.577Z"
   },
   {
    "duration": 14,
    "start_time": "2021-11-10T17:18:22.608Z"
   },
   {
    "duration": 13,
    "start_time": "2021-11-10T17:18:22.623Z"
   },
   {
    "duration": 34,
    "start_time": "2021-11-10T17:18:22.638Z"
   },
   {
    "duration": 11,
    "start_time": "2021-11-10T17:18:22.674Z"
   },
   {
    "duration": 13,
    "start_time": "2021-11-10T17:18:22.686Z"
   },
   {
    "duration": 15,
    "start_time": "2021-11-10T17:18:22.701Z"
   },
   {
    "duration": 20,
    "start_time": "2021-11-10T17:18:22.717Z"
   },
   {
    "duration": 12,
    "start_time": "2021-11-10T17:18:22.738Z"
   },
   {
    "duration": 16,
    "start_time": "2021-11-10T17:18:22.751Z"
   },
   {
    "duration": 19,
    "start_time": "2021-11-10T17:18:22.768Z"
   },
   {
    "duration": 10,
    "start_time": "2021-11-10T17:18:22.788Z"
   },
   {
    "duration": 7,
    "start_time": "2021-11-10T17:18:22.799Z"
   },
   {
    "duration": 19,
    "start_time": "2021-11-10T17:18:22.808Z"
   },
   {
    "duration": 35,
    "start_time": "2021-11-10T17:18:22.829Z"
   },
   {
    "duration": 8,
    "start_time": "2021-11-10T17:18:22.866Z"
   },
   {
    "duration": 13,
    "start_time": "2021-11-10T17:18:22.875Z"
   },
   {
    "duration": 11,
    "start_time": "2021-11-10T17:18:22.890Z"
   },
   {
    "duration": 13,
    "start_time": "2021-11-10T17:18:22.905Z"
   },
   {
    "duration": 82,
    "start_time": "2021-11-10T17:18:22.920Z"
   },
   {
    "duration": 10,
    "start_time": "2021-11-10T17:18:23.004Z"
   },
   {
    "duration": 82,
    "start_time": "2021-11-10T17:18:23.015Z"
   },
   {
    "duration": 38,
    "start_time": "2021-11-10T17:18:23.098Z"
   },
   {
    "duration": 40,
    "start_time": "2021-11-10T17:18:23.137Z"
   },
   {
    "duration": 48,
    "start_time": "2021-11-10T17:18:23.179Z"
   },
   {
    "duration": 47,
    "start_time": "2021-11-10T17:18:23.229Z"
   },
   {
    "duration": 9,
    "start_time": "2021-11-10T17:18:23.277Z"
   },
   {
    "duration": 29,
    "start_time": "2021-11-10T17:18:23.287Z"
   },
   {
    "duration": 10,
    "start_time": "2021-11-10T17:18:23.318Z"
   },
   {
    "duration": 34,
    "start_time": "2021-11-10T17:18:23.330Z"
   },
   {
    "duration": 10,
    "start_time": "2021-11-10T17:18:23.366Z"
   },
   {
    "duration": 5,
    "start_time": "2021-11-10T17:18:23.378Z"
   },
   {
    "duration": 8,
    "start_time": "2021-11-10T17:18:23.385Z"
   },
   {
    "duration": 3,
    "start_time": "2021-11-10T17:18:23.395Z"
   },
   {
    "duration": 15,
    "start_time": "2021-11-10T17:18:23.400Z"
   },
   {
    "duration": 103,
    "start_time": "2021-11-10T17:18:23.416Z"
   },
   {
    "duration": 5,
    "start_time": "2021-11-10T17:18:23.521Z"
   },
   {
    "duration": 36,
    "start_time": "2021-11-10T17:18:23.527Z"
   },
   {
    "duration": 11,
    "start_time": "2021-11-10T17:18:23.564Z"
   },
   {
    "duration": 23,
    "start_time": "2021-11-10T17:18:23.577Z"
   },
   {
    "duration": 10,
    "start_time": "2021-11-10T17:18:23.602Z"
   },
   {
    "duration": 424,
    "start_time": "2021-11-10T17:18:23.614Z"
   },
   {
    "duration": 404,
    "start_time": "2021-11-10T17:18:24.040Z"
   },
   {
    "duration": 367,
    "start_time": "2021-11-10T17:18:24.446Z"
   },
   {
    "duration": 496,
    "start_time": "2021-11-10T17:18:24.815Z"
   },
   {
    "duration": 389,
    "start_time": "2021-11-10T17:18:25.313Z"
   },
   {
    "duration": 384,
    "start_time": "2021-11-10T17:38:42.557Z"
   },
   {
    "duration": 402,
    "start_time": "2021-11-10T17:39:43.230Z"
   },
   {
    "duration": 368,
    "start_time": "2021-11-10T17:41:36.248Z"
   },
   {
    "duration": 384,
    "start_time": "2021-11-10T17:42:29.303Z"
   },
   {
    "duration": 478,
    "start_time": "2021-11-10T17:42:40.927Z"
   },
   {
    "duration": 371,
    "start_time": "2021-11-10T17:43:31.168Z"
   },
   {
    "duration": 369,
    "start_time": "2021-11-10T17:43:41.149Z"
   },
   {
    "duration": 460,
    "start_time": "2021-11-10T17:44:13.848Z"
   },
   {
    "duration": 364,
    "start_time": "2021-11-10T17:44:34.883Z"
   },
   {
    "duration": 458,
    "start_time": "2021-11-10T17:44:52.828Z"
   },
   {
    "duration": 358,
    "start_time": "2021-11-10T17:45:10.374Z"
   },
   {
    "duration": 379,
    "start_time": "2021-11-10T17:45:50.198Z"
   },
   {
    "duration": 597,
    "start_time": "2021-11-10T17:46:12.369Z"
   },
   {
    "duration": 425,
    "start_time": "2021-11-10T17:46:28.074Z"
   },
   {
    "duration": 424,
    "start_time": "2021-11-10T17:46:38.421Z"
   },
   {
    "duration": 688,
    "start_time": "2021-11-10T17:47:04.159Z"
   },
   {
    "duration": 7,
    "start_time": "2021-11-10T17:49:27.578Z"
   },
   {
    "duration": 593,
    "start_time": "2021-11-10T17:50:20.880Z"
   },
   {
    "duration": 600,
    "start_time": "2021-11-10T17:50:36.990Z"
   },
   {
    "duration": 369,
    "start_time": "2021-11-10T17:54:56.208Z"
   },
   {
    "duration": 381,
    "start_time": "2021-11-10T17:55:13.246Z"
   },
   {
    "duration": 491,
    "start_time": "2021-11-10T17:55:27.502Z"
   },
   {
    "duration": 388,
    "start_time": "2021-11-10T17:55:36.780Z"
   },
   {
    "duration": 373,
    "start_time": "2021-11-10T17:56:00.542Z"
   },
   {
    "duration": 720,
    "start_time": "2021-11-10T17:56:11.819Z"
   },
   {
    "duration": 477,
    "start_time": "2021-11-10T17:56:26.593Z"
   },
   {
    "duration": 384,
    "start_time": "2021-11-10T17:56:33.713Z"
   },
   {
    "duration": 492,
    "start_time": "2021-11-10T17:56:50.877Z"
   },
   {
    "duration": 395,
    "start_time": "2021-11-10T17:59:31.998Z"
   },
   {
    "duration": 368,
    "start_time": "2021-11-10T18:00:21.410Z"
   },
   {
    "duration": 377,
    "start_time": "2021-11-10T18:31:51.954Z"
   },
   {
    "duration": 357,
    "start_time": "2021-11-10T18:32:03.428Z"
   },
   {
    "duration": 479,
    "start_time": "2021-11-10T18:34:58.111Z"
   },
   {
    "duration": 420,
    "start_time": "2021-11-10T18:35:23.128Z"
   },
   {
    "duration": 371,
    "start_time": "2021-11-10T18:36:03.440Z"
   },
   {
    "duration": 338,
    "start_time": "2021-11-10T18:36:29.038Z"
   },
   {
    "duration": 341,
    "start_time": "2021-11-10T18:36:37.940Z"
   },
   {
    "duration": 352,
    "start_time": "2021-11-10T18:36:43.227Z"
   },
   {
    "duration": 437,
    "start_time": "2021-11-10T18:36:52.484Z"
   },
   {
    "duration": 352,
    "start_time": "2021-11-10T18:37:10.012Z"
   },
   {
    "duration": 378,
    "start_time": "2021-11-10T18:43:30.693Z"
   },
   {
    "duration": 356,
    "start_time": "2021-11-10T18:43:45.002Z"
   },
   {
    "duration": 360,
    "start_time": "2021-11-10T18:43:54.493Z"
   },
   {
    "duration": 336,
    "start_time": "2021-11-10T18:45:11.343Z"
   },
   {
    "duration": 519,
    "start_time": "2021-11-10T18:48:01.422Z"
   },
   {
    "duration": 327,
    "start_time": "2021-11-10T19:01:55.938Z"
   },
   {
    "duration": 1516,
    "start_time": "2021-11-11T16:31:02.471Z"
   },
   {
    "duration": 1251,
    "start_time": "2021-11-11T16:31:03.990Z"
   },
   {
    "duration": 21,
    "start_time": "2021-11-11T16:31:05.244Z"
   },
   {
    "duration": 14,
    "start_time": "2021-11-11T16:31:05.268Z"
   },
   {
    "duration": 32,
    "start_time": "2021-11-11T16:31:05.285Z"
   },
   {
    "duration": 50,
    "start_time": "2021-11-11T16:31:05.319Z"
   },
   {
    "duration": 18,
    "start_time": "2021-11-11T16:31:05.372Z"
   },
   {
    "duration": 29,
    "start_time": "2021-11-11T16:31:05.392Z"
   },
   {
    "duration": 33,
    "start_time": "2021-11-11T16:31:05.426Z"
   },
   {
    "duration": 10,
    "start_time": "2021-11-11T16:31:05.462Z"
   },
   {
    "duration": 10,
    "start_time": "2021-11-11T16:31:05.474Z"
   },
   {
    "duration": 21,
    "start_time": "2021-11-11T16:31:05.487Z"
   },
   {
    "duration": 14,
    "start_time": "2021-11-11T16:31:05.510Z"
   },
   {
    "duration": 39,
    "start_time": "2021-11-11T16:31:05.527Z"
   },
   {
    "duration": 22,
    "start_time": "2021-11-11T16:31:05.569Z"
   },
   {
    "duration": 10,
    "start_time": "2021-11-11T16:31:05.593Z"
   },
   {
    "duration": 9,
    "start_time": "2021-11-11T16:31:05.605Z"
   },
   {
    "duration": 67,
    "start_time": "2021-11-11T16:31:05.616Z"
   },
   {
    "duration": 9,
    "start_time": "2021-11-11T16:31:05.685Z"
   },
   {
    "duration": 9,
    "start_time": "2021-11-11T16:31:05.696Z"
   },
   {
    "duration": 7,
    "start_time": "2021-11-11T16:31:05.707Z"
   },
   {
    "duration": 52,
    "start_time": "2021-11-11T16:31:05.716Z"
   },
   {
    "duration": 9,
    "start_time": "2021-11-11T16:31:05.771Z"
   },
   {
    "duration": 106,
    "start_time": "2021-11-11T16:31:05.782Z"
   },
   {
    "duration": 13,
    "start_time": "2021-11-11T16:31:05.890Z"
   },
   {
    "duration": 107,
    "start_time": "2021-11-11T16:31:05.906Z"
   },
   {
    "duration": 67,
    "start_time": "2021-11-11T16:31:06.019Z"
   },
   {
    "duration": 38,
    "start_time": "2021-11-11T16:31:06.088Z"
   },
   {
    "duration": 94,
    "start_time": "2021-11-11T16:31:06.129Z"
   },
   {
    "duration": 62,
    "start_time": "2021-11-11T16:31:06.226Z"
   },
   {
    "duration": 13,
    "start_time": "2021-11-11T16:31:06.291Z"
   },
   {
    "duration": 69,
    "start_time": "2021-11-11T16:31:06.307Z"
   },
   {
    "duration": 8,
    "start_time": "2021-11-11T16:31:06.379Z"
   },
   {
    "duration": 144,
    "start_time": "2021-11-11T16:31:06.390Z"
   },
   {
    "duration": 9,
    "start_time": "2021-11-11T16:31:06.537Z"
   },
   {
    "duration": 44,
    "start_time": "2021-11-11T16:31:06.560Z"
   },
   {
    "duration": 54,
    "start_time": "2021-11-11T16:31:06.606Z"
   },
   {
    "duration": 41,
    "start_time": "2021-11-11T16:31:06.663Z"
   },
   {
    "duration": 18,
    "start_time": "2021-11-11T16:31:06.707Z"
   },
   {
    "duration": 654,
    "start_time": "2021-11-11T16:31:06.727Z"
   },
   {
    "duration": 637,
    "start_time": "2021-11-11T16:31:07.383Z"
   },
   {
    "duration": 623,
    "start_time": "2021-11-11T16:31:08.022Z"
   },
   {
    "duration": 674,
    "start_time": "2021-11-11T16:31:08.648Z"
   },
   {
    "duration": 611,
    "start_time": "2021-11-11T16:31:09.324Z"
   },
   {
    "duration": 580,
    "start_time": "2021-11-11T16:31:09.937Z"
   },
   {
    "duration": 633,
    "start_time": "2021-11-11T16:31:10.519Z"
   },
   {
    "duration": 631,
    "start_time": "2021-11-11T16:31:11.155Z"
   },
   {
    "duration": 694,
    "start_time": "2021-11-11T16:31:11.788Z"
   },
   {
    "duration": 3299,
    "start_time": "2021-11-11T17:51:19.234Z"
   },
   {
    "duration": 10952,
    "start_time": "2021-11-11T17:51:43.844Z"
   },
   {
    "duration": 9,
    "start_time": "2021-11-11T17:53:12.005Z"
   },
   {
    "duration": 15,
    "start_time": "2021-11-11T17:54:36.061Z"
   },
   {
    "duration": 8,
    "start_time": "2021-11-11T17:54:42.188Z"
   },
   {
    "duration": 9,
    "start_time": "2021-11-11T17:54:46.762Z"
   },
   {
    "duration": 749,
    "start_time": "2021-11-11T18:01:05.448Z"
   },
   {
    "duration": 922,
    "start_time": "2021-11-11T18:02:41.429Z"
   },
   {
    "duration": 629,
    "start_time": "2021-11-11T18:02:45.754Z"
   },
   {
    "duration": 668,
    "start_time": "2021-11-11T18:04:22.766Z"
   },
   {
    "duration": 702,
    "start_time": "2021-11-11T18:05:07.692Z"
   },
   {
    "duration": 574,
    "start_time": "2021-11-11T18:06:31.319Z"
   },
   {
    "duration": 765,
    "start_time": "2021-11-11T18:06:38.748Z"
   },
   {
    "duration": 682,
    "start_time": "2021-11-11T18:07:11.757Z"
   },
   {
    "duration": 612,
    "start_time": "2021-11-11T18:07:38.647Z"
   },
   {
    "duration": 659,
    "start_time": "2021-11-11T18:07:48.467Z"
   },
   {
    "duration": 620,
    "start_time": "2021-11-11T18:08:08.282Z"
   },
   {
    "duration": 667,
    "start_time": "2021-11-11T18:08:16.454Z"
   },
   {
    "duration": 4,
    "start_time": "2021-11-11T18:24:46.548Z"
   },
   {
    "duration": 8,
    "start_time": "2021-11-11T18:25:45.863Z"
   },
   {
    "duration": 7,
    "start_time": "2021-11-11T19:03:32.111Z"
   },
   {
    "duration": 6,
    "start_time": "2021-11-11T19:04:06.381Z"
   },
   {
    "duration": 6,
    "start_time": "2021-11-11T19:06:17.301Z"
   },
   {
    "duration": 114,
    "start_time": "2021-11-11T19:07:35.933Z"
   },
   {
    "duration": 395,
    "start_time": "2021-11-11T19:07:39.749Z"
   },
   {
    "duration": 511,
    "start_time": "2021-11-11T19:07:53.663Z"
   },
   {
    "duration": 7,
    "start_time": "2021-11-11T19:21:23.187Z"
   },
   {
    "duration": 7,
    "start_time": "2021-11-11T19:21:31.296Z"
   },
   {
    "duration": 7,
    "start_time": "2021-11-11T19:47:05.184Z"
   },
   {
    "duration": 17,
    "start_time": "2021-11-11T19:49:04.975Z"
   },
   {
    "duration": 365,
    "start_time": "2021-11-11T19:49:44.457Z"
   },
   {
    "duration": 14,
    "start_time": "2021-11-11T19:49:50.695Z"
   },
   {
    "duration": 10025,
    "start_time": "2021-11-11T19:51:09.918Z"
   },
   {
    "duration": 370,
    "start_time": "2021-11-11T19:51:30.633Z"
   },
   {
    "duration": 393,
    "start_time": "2021-11-11T19:51:55.736Z"
   },
   {
    "duration": 5,
    "start_time": "2021-11-11T19:52:10.865Z"
   },
   {
    "duration": 577,
    "start_time": "2021-11-11T19:52:10.873Z"
   },
   {
    "duration": 20,
    "start_time": "2021-11-11T19:52:11.453Z"
   },
   {
    "duration": 18,
    "start_time": "2021-11-11T19:52:11.476Z"
   },
   {
    "duration": 36,
    "start_time": "2021-11-11T19:52:11.496Z"
   },
   {
    "duration": 34,
    "start_time": "2021-11-11T19:52:11.534Z"
   },
   {
    "duration": 13,
    "start_time": "2021-11-11T19:52:11.572Z"
   },
   {
    "duration": 36,
    "start_time": "2021-11-11T19:52:11.588Z"
   },
   {
    "duration": 14,
    "start_time": "2021-11-11T19:52:11.627Z"
   },
   {
    "duration": 9,
    "start_time": "2021-11-11T19:52:11.660Z"
   },
   {
    "duration": 12,
    "start_time": "2021-11-11T19:52:11.671Z"
   },
   {
    "duration": 15,
    "start_time": "2021-11-11T19:52:11.685Z"
   },
   {
    "duration": 9,
    "start_time": "2021-11-11T19:52:11.702Z"
   },
   {
    "duration": 56,
    "start_time": "2021-11-11T19:52:11.713Z"
   },
   {
    "duration": 28,
    "start_time": "2021-11-11T19:52:11.772Z"
   },
   {
    "duration": 9,
    "start_time": "2021-11-11T19:52:11.802Z"
   },
   {
    "duration": 9,
    "start_time": "2021-11-11T19:52:11.813Z"
   },
   {
    "duration": 51,
    "start_time": "2021-11-11T19:52:11.824Z"
   },
   {
    "duration": 9,
    "start_time": "2021-11-11T19:52:11.880Z"
   },
   {
    "duration": 8,
    "start_time": "2021-11-11T19:52:11.892Z"
   },
   {
    "duration": 7,
    "start_time": "2021-11-11T19:52:11.903Z"
   },
   {
    "duration": 60,
    "start_time": "2021-11-11T19:52:11.913Z"
   },
   {
    "duration": 10,
    "start_time": "2021-11-11T19:52:11.976Z"
   },
   {
    "duration": 117,
    "start_time": "2021-11-11T19:52:11.988Z"
   },
   {
    "duration": 16,
    "start_time": "2021-11-11T19:52:12.108Z"
   },
   {
    "duration": 93,
    "start_time": "2021-11-11T19:52:12.127Z"
   },
   {
    "duration": 64,
    "start_time": "2021-11-11T19:52:12.223Z"
   },
   {
    "duration": 38,
    "start_time": "2021-11-11T19:52:12.290Z"
   },
   {
    "duration": 89,
    "start_time": "2021-11-11T19:52:12.331Z"
   },
   {
    "duration": 47,
    "start_time": "2021-11-11T19:52:12.422Z"
   },
   {
    "duration": 12,
    "start_time": "2021-11-11T19:52:12.471Z"
   },
   {
    "duration": 41,
    "start_time": "2021-11-11T19:52:12.485Z"
   },
   {
    "duration": 31,
    "start_time": "2021-11-11T19:52:12.528Z"
   },
   {
    "duration": 137,
    "start_time": "2021-11-11T19:52:12.562Z"
   },
   {
    "duration": 7,
    "start_time": "2021-11-11T19:52:12.702Z"
   },
   {
    "duration": 57,
    "start_time": "2021-11-11T19:52:12.711Z"
   },
   {
    "duration": 16,
    "start_time": "2021-11-11T19:52:12.770Z"
   },
   {
    "duration": 38,
    "start_time": "2021-11-11T19:52:12.788Z"
   },
   {
    "duration": 45,
    "start_time": "2021-11-11T19:52:12.828Z"
   },
   {
    "duration": 727,
    "start_time": "2021-11-11T19:52:12.876Z"
   },
   {
    "duration": 662,
    "start_time": "2021-11-11T19:52:13.606Z"
   },
   {
    "duration": 621,
    "start_time": "2021-11-11T19:52:14.270Z"
   },
   {
    "duration": 591,
    "start_time": "2021-11-11T19:52:14.894Z"
   },
   {
    "duration": 671,
    "start_time": "2021-11-11T19:52:15.488Z"
   },
   {
    "duration": 602,
    "start_time": "2021-11-11T19:52:16.162Z"
   },
   {
    "duration": 726,
    "start_time": "2021-11-11T19:52:16.767Z"
   },
   {
    "duration": 627,
    "start_time": "2021-11-11T19:52:17.496Z"
   },
   {
    "duration": 654,
    "start_time": "2021-11-11T19:52:18.125Z"
   },
   {
    "duration": 6,
    "start_time": "2021-11-11T19:52:18.782Z"
   },
   {
    "duration": 11,
    "start_time": "2021-11-11T19:52:18.790Z"
   },
   {
    "duration": 8,
    "start_time": "2021-11-11T19:52:18.804Z"
   },
   {
    "duration": 15,
    "start_time": "2021-11-11T19:52:18.815Z"
   },
   {
    "duration": 16,
    "start_time": "2021-11-11T19:52:18.860Z"
   },
   {
    "duration": 377,
    "start_time": "2021-11-11T19:52:18.878Z"
   },
   {
    "duration": -105,
    "start_time": "2021-11-11T19:52:19.362Z"
   },
   {
    "duration": 32,
    "start_time": "2021-11-11T19:55:15.026Z"
   },
   {
    "duration": 23,
    "start_time": "2021-11-11T19:55:21.298Z"
   },
   {
    "duration": 5,
    "start_time": "2021-11-11T19:55:58.465Z"
   },
   {
    "duration": 6,
    "start_time": "2021-11-11T19:56:08.888Z"
   },
   {
    "duration": 24,
    "start_time": "2021-11-11T19:57:26.416Z"
   },
   {
    "duration": 24,
    "start_time": "2021-11-11T19:59:40.037Z"
   },
   {
    "duration": 6,
    "start_time": "2021-11-11T19:59:55.727Z"
   },
   {
    "duration": 25,
    "start_time": "2021-11-11T20:00:24.309Z"
   },
   {
    "duration": 10,
    "start_time": "2021-11-11T20:01:05.459Z"
   },
   {
    "duration": 23,
    "start_time": "2021-11-11T20:01:50.907Z"
   },
   {
    "duration": 411,
    "start_time": "2021-11-12T09:44:00.789Z"
   },
   {
    "duration": 1512,
    "start_time": "2021-11-12T09:44:06.888Z"
   },
   {
    "duration": 371,
    "start_time": "2021-11-12T09:44:08.403Z"
   },
   {
    "duration": 34,
    "start_time": "2021-11-12T09:44:08.778Z"
   },
   {
    "duration": 21,
    "start_time": "2021-11-12T09:44:08.816Z"
   },
   {
    "duration": 67,
    "start_time": "2021-11-12T09:44:08.840Z"
   },
   {
    "duration": 19,
    "start_time": "2021-11-12T09:44:08.910Z"
   },
   {
    "duration": 13,
    "start_time": "2021-11-12T09:44:08.931Z"
   },
   {
    "duration": 55,
    "start_time": "2021-11-12T09:44:08.948Z"
   },
   {
    "duration": 15,
    "start_time": "2021-11-12T09:44:09.007Z"
   },
   {
    "duration": 10,
    "start_time": "2021-11-12T09:44:09.024Z"
   },
   {
    "duration": 16,
    "start_time": "2021-11-12T09:44:09.037Z"
   },
   {
    "duration": 15,
    "start_time": "2021-11-12T09:44:09.083Z"
   },
   {
    "duration": 12,
    "start_time": "2021-11-12T09:44:09.101Z"
   },
   {
    "duration": 17,
    "start_time": "2021-11-12T09:44:09.115Z"
   },
   {
    "duration": 56,
    "start_time": "2021-11-12T09:44:09.135Z"
   },
   {
    "duration": 14,
    "start_time": "2021-11-12T09:44:09.194Z"
   },
   {
    "duration": 11,
    "start_time": "2021-11-12T09:44:09.210Z"
   },
   {
    "duration": 29,
    "start_time": "2021-11-12T09:44:09.223Z"
   },
   {
    "duration": 10,
    "start_time": "2021-11-12T09:44:09.282Z"
   },
   {
    "duration": 9,
    "start_time": "2021-11-12T09:44:09.294Z"
   },
   {
    "duration": 9,
    "start_time": "2021-11-12T09:44:09.305Z"
   },
   {
    "duration": 20,
    "start_time": "2021-11-12T09:44:09.316Z"
   },
   {
    "duration": 12,
    "start_time": "2021-11-12T09:44:09.385Z"
   },
   {
    "duration": 111,
    "start_time": "2021-11-12T09:44:09.400Z"
   },
   {
    "duration": 14,
    "start_time": "2021-11-12T09:44:09.514Z"
   },
   {
    "duration": 110,
    "start_time": "2021-11-12T09:44:09.530Z"
   },
   {
    "duration": 65,
    "start_time": "2021-11-12T09:44:09.642Z"
   },
   {
    "duration": 38,
    "start_time": "2021-11-12T09:44:09.709Z"
   },
   {
    "duration": 93,
    "start_time": "2021-11-12T09:44:09.749Z"
   },
   {
    "duration": 54,
    "start_time": "2021-11-12T09:44:09.844Z"
   },
   {
    "duration": 13,
    "start_time": "2021-11-12T09:44:09.901Z"
   },
   {
    "duration": 42,
    "start_time": "2021-11-12T09:44:09.916Z"
   },
   {
    "duration": 23,
    "start_time": "2021-11-12T09:44:09.961Z"
   },
   {
    "duration": 148,
    "start_time": "2021-11-12T09:44:09.986Z"
   },
   {
    "duration": 8,
    "start_time": "2021-11-12T09:44:10.136Z"
   },
   {
    "duration": 58,
    "start_time": "2021-11-12T09:44:10.147Z"
   },
   {
    "duration": 18,
    "start_time": "2021-11-12T09:44:10.207Z"
   },
   {
    "duration": 60,
    "start_time": "2021-11-12T09:44:10.227Z"
   },
   {
    "duration": 16,
    "start_time": "2021-11-12T09:44:10.289Z"
   },
   {
    "duration": 632,
    "start_time": "2021-11-12T09:44:10.308Z"
   },
   {
    "duration": 654,
    "start_time": "2021-11-12T09:44:10.942Z"
   },
   {
    "duration": 633,
    "start_time": "2021-11-12T09:44:11.599Z"
   },
   {
    "duration": 673,
    "start_time": "2021-11-12T09:44:12.234Z"
   },
   {
    "duration": 738,
    "start_time": "2021-11-12T09:44:12.910Z"
   },
   {
    "duration": 591,
    "start_time": "2021-11-12T09:44:13.650Z"
   },
   {
    "duration": 740,
    "start_time": "2021-11-12T09:44:14.244Z"
   },
   {
    "duration": 638,
    "start_time": "2021-11-12T09:44:14.986Z"
   },
   {
    "duration": 658,
    "start_time": "2021-11-12T09:44:15.627Z"
   },
   {
    "duration": 9,
    "start_time": "2021-11-12T09:44:16.288Z"
   },
   {
    "duration": 11,
    "start_time": "2021-11-12T09:44:16.299Z"
   },
   {
    "duration": 7,
    "start_time": "2021-11-12T09:44:16.313Z"
   },
   {
    "duration": 61,
    "start_time": "2021-11-12T09:44:16.322Z"
   },
   {
    "duration": 9,
    "start_time": "2021-11-12T09:44:16.385Z"
   },
   {
    "duration": 9,
    "start_time": "2021-11-12T09:44:16.396Z"
   },
   {
    "duration": 5,
    "start_time": "2021-11-12T09:44:28.409Z"
   },
   {
    "duration": 5,
    "start_time": "2021-11-12T09:44:48.182Z"
   },
   {
    "duration": 6,
    "start_time": "2021-11-12T09:45:08.807Z"
   },
   {
    "duration": 5,
    "start_time": "2021-11-12T09:45:23.979Z"
   },
   {
    "duration": 7,
    "start_time": "2021-11-12T10:09:55.619Z"
   },
   {
    "duration": 9,
    "start_time": "2021-11-12T10:10:20.388Z"
   },
   {
    "duration": 8,
    "start_time": "2021-11-12T10:10:30.986Z"
   },
   {
    "duration": 9,
    "start_time": "2021-11-12T10:10:43.538Z"
   },
   {
    "duration": 9,
    "start_time": "2021-11-12T10:10:57.946Z"
   },
   {
    "duration": 9,
    "start_time": "2021-11-12T10:11:57.198Z"
   },
   {
    "duration": 8,
    "start_time": "2021-11-12T10:14:41.416Z"
   },
   {
    "duration": 7,
    "start_time": "2021-11-12T10:15:43.865Z"
   },
   {
    "duration": 7,
    "start_time": "2021-11-12T10:23:52.768Z"
   },
   {
    "duration": 680,
    "start_time": "2021-11-12T10:40:51.916Z"
   },
   {
    "duration": 591,
    "start_time": "2021-11-12T10:40:59.591Z"
   },
   {
    "duration": 679,
    "start_time": "2021-11-12T10:41:11.650Z"
   },
   {
    "duration": 678,
    "start_time": "2021-11-12T10:41:52.469Z"
   },
   {
    "duration": 620,
    "start_time": "2021-11-12T10:43:37.093Z"
   },
   {
    "duration": 677,
    "start_time": "2021-11-12T10:45:33.145Z"
   },
   {
    "duration": 596,
    "start_time": "2021-11-12T10:45:52.302Z"
   },
   {
    "duration": 604,
    "start_time": "2021-11-12T10:46:03.944Z"
   },
   {
    "duration": 630,
    "start_time": "2021-11-12T10:46:51.130Z"
   },
   {
    "duration": 597,
    "start_time": "2021-11-12T10:51:19.087Z"
   },
   {
    "duration": 720,
    "start_time": "2021-11-12T10:51:31.784Z"
   },
   {
    "duration": 1019,
    "start_time": "2021-11-12T10:54:46.129Z"
   },
   {
    "duration": 1015,
    "start_time": "2021-11-12T10:55:07.940Z"
   },
   {
    "duration": 617,
    "start_time": "2021-11-12T10:55:42.380Z"
   },
   {
    "duration": 632,
    "start_time": "2021-11-12T10:56:07.199Z"
   },
   {
    "duration": 945,
    "start_time": "2021-11-12T10:56:29.069Z"
   },
   {
    "duration": 829,
    "start_time": "2021-11-12T10:56:43.709Z"
   },
   {
    "duration": 628,
    "start_time": "2021-11-12T10:56:49.241Z"
   },
   {
    "duration": 811,
    "start_time": "2021-11-12T10:57:13.164Z"
   },
   {
    "duration": 648,
    "start_time": "2021-11-12T10:57:21.454Z"
   },
   {
    "duration": 631,
    "start_time": "2021-11-12T10:57:42.400Z"
   },
   {
    "duration": 582,
    "start_time": "2021-11-12T11:03:37.065Z"
   },
   {
    "duration": 719,
    "start_time": "2021-11-12T11:03:40.589Z"
   },
   {
    "duration": 695,
    "start_time": "2021-11-12T11:14:41.136Z"
   },
   {
    "duration": 767,
    "start_time": "2021-11-12T11:14:46.480Z"
   },
   {
    "duration": 6,
    "start_time": "2021-11-12T13:16:40.693Z"
   },
   {
    "duration": 570,
    "start_time": "2021-11-12T13:16:40.702Z"
   },
   {
    "duration": 35,
    "start_time": "2021-11-12T13:16:41.276Z"
   },
   {
    "duration": 16,
    "start_time": "2021-11-12T13:16:41.314Z"
   },
   {
    "duration": 67,
    "start_time": "2021-11-12T13:16:41.333Z"
   },
   {
    "duration": 29,
    "start_time": "2021-11-12T13:16:41.403Z"
   },
   {
    "duration": 11,
    "start_time": "2021-11-12T13:16:41.435Z"
   },
   {
    "duration": 29,
    "start_time": "2021-11-12T13:16:41.482Z"
   },
   {
    "duration": 21,
    "start_time": "2021-11-12T13:16:41.514Z"
   },
   {
    "duration": 44,
    "start_time": "2021-11-12T13:16:41.538Z"
   },
   {
    "duration": 11,
    "start_time": "2021-11-12T13:16:41.584Z"
   },
   {
    "duration": 17,
    "start_time": "2021-11-12T13:16:41.597Z"
   },
   {
    "duration": 14,
    "start_time": "2021-11-12T13:16:41.617Z"
   },
   {
    "duration": 49,
    "start_time": "2021-11-12T13:16:41.634Z"
   },
   {
    "duration": 23,
    "start_time": "2021-11-12T13:16:41.686Z"
   },
   {
    "duration": 9,
    "start_time": "2021-11-12T13:16:41.711Z"
   },
   {
    "duration": 14,
    "start_time": "2021-11-12T13:16:41.723Z"
   },
   {
    "duration": 56,
    "start_time": "2021-11-12T13:16:41.739Z"
   },
   {
    "duration": 13,
    "start_time": "2021-11-12T13:16:41.797Z"
   },
   {
    "duration": 15,
    "start_time": "2021-11-12T13:16:41.812Z"
   },
   {
    "duration": 12,
    "start_time": "2021-11-12T13:16:41.830Z"
   },
   {
    "duration": 50,
    "start_time": "2021-11-12T13:16:41.846Z"
   },
   {
    "duration": 12,
    "start_time": "2021-11-12T13:16:41.904Z"
   },
   {
    "duration": 140,
    "start_time": "2021-11-12T13:16:41.920Z"
   },
   {
    "duration": 25,
    "start_time": "2021-11-12T13:16:42.063Z"
   },
   {
    "duration": 105,
    "start_time": "2021-11-12T13:16:42.091Z"
   },
   {
    "duration": 55,
    "start_time": "2021-11-12T13:16:42.199Z"
   },
   {
    "duration": 69,
    "start_time": "2021-11-12T13:16:42.257Z"
   },
   {
    "duration": 130,
    "start_time": "2021-11-12T13:16:42.329Z"
   },
   {
    "duration": 56,
    "start_time": "2021-11-12T13:16:42.462Z"
   },
   {
    "duration": 12,
    "start_time": "2021-11-12T13:16:42.520Z"
   },
   {
    "duration": 84,
    "start_time": "2021-11-12T13:16:42.535Z"
   },
   {
    "duration": 7,
    "start_time": "2021-11-12T13:16:42.622Z"
   },
   {
    "duration": 158,
    "start_time": "2021-11-12T13:16:42.633Z"
   },
   {
    "duration": 9,
    "start_time": "2021-11-12T13:16:42.794Z"
   },
   {
    "duration": 42,
    "start_time": "2021-11-12T13:16:42.806Z"
   },
   {
    "duration": 50,
    "start_time": "2021-11-12T13:16:42.850Z"
   },
   {
    "duration": 45,
    "start_time": "2021-11-12T13:16:42.902Z"
   },
   {
    "duration": 46,
    "start_time": "2021-11-12T13:16:42.949Z"
   },
   {
    "duration": 638,
    "start_time": "2021-11-12T13:16:42.997Z"
   },
   {
    "duration": 663,
    "start_time": "2021-11-12T13:16:43.638Z"
   },
   {
    "duration": 631,
    "start_time": "2021-11-12T13:16:44.304Z"
   },
   {
    "duration": 705,
    "start_time": "2021-11-12T13:16:44.937Z"
   },
   {
    "duration": 634,
    "start_time": "2021-11-12T13:16:45.644Z"
   },
   {
    "duration": 574,
    "start_time": "2021-11-12T13:16:46.281Z"
   },
   {
    "duration": 628,
    "start_time": "2021-11-12T13:16:46.858Z"
   },
   {
    "duration": 657,
    "start_time": "2021-11-12T13:16:47.489Z"
   },
   {
    "duration": 774,
    "start_time": "2021-11-12T13:16:48.149Z"
   },
   {
    "duration": 6,
    "start_time": "2021-11-12T13:16:48.926Z"
   },
   {
    "duration": 14,
    "start_time": "2021-11-12T13:16:48.934Z"
   },
   {
    "duration": 37,
    "start_time": "2021-11-12T13:16:48.951Z"
   },
   {
    "duration": 606,
    "start_time": "2021-11-12T13:16:48.991Z"
   },
   {
    "duration": 677,
    "start_time": "2021-11-12T13:16:49.600Z"
   },
   {
    "duration": 23,
    "start_time": "2021-11-12T13:16:50.282Z"
   },
   {
    "duration": 10,
    "start_time": "2021-11-12T13:16:50.307Z"
   },
   {
    "duration": 10,
    "start_time": "2021-11-12T13:16:50.319Z"
   },
   {
    "duration": 17,
    "start_time": "2021-11-12T13:16:50.331Z"
   },
   {
    "duration": 47,
    "start_time": "2021-11-12T13:16:50.351Z"
   },
   {
    "duration": 621,
    "start_time": "2021-11-12T13:16:50.400Z"
   },
   {
    "duration": 652,
    "start_time": "2021-11-12T13:16:51.023Z"
   },
   {
    "duration": 5,
    "start_time": "2021-11-12T13:16:58.385Z"
   },
   {
    "duration": 417,
    "start_time": "2021-11-12T13:16:58.394Z"
   },
   {
    "duration": 22,
    "start_time": "2021-11-12T13:16:58.814Z"
   },
   {
    "duration": 12,
    "start_time": "2021-11-12T13:16:58.839Z"
   },
   {
    "duration": 46,
    "start_time": "2021-11-12T13:16:58.853Z"
   },
   {
    "duration": 20,
    "start_time": "2021-11-12T13:16:58.902Z"
   },
   {
    "duration": 10,
    "start_time": "2021-11-12T13:16:58.925Z"
   },
   {
    "duration": 63,
    "start_time": "2021-11-12T13:16:58.939Z"
   },
   {
    "duration": 15,
    "start_time": "2021-11-12T13:16:59.005Z"
   },
   {
    "duration": 10,
    "start_time": "2021-11-12T13:16:59.023Z"
   },
   {
    "duration": 10,
    "start_time": "2021-11-12T13:16:59.036Z"
   },
   {
    "duration": 39,
    "start_time": "2021-11-12T13:16:59.048Z"
   },
   {
    "duration": 11,
    "start_time": "2021-11-12T13:16:59.089Z"
   },
   {
    "duration": 19,
    "start_time": "2021-11-12T13:16:59.102Z"
   },
   {
    "duration": 22,
    "start_time": "2021-11-12T13:16:59.123Z"
   },
   {
    "duration": 42,
    "start_time": "2021-11-12T13:16:59.147Z"
   },
   {
    "duration": 10,
    "start_time": "2021-11-12T13:16:59.191Z"
   },
   {
    "duration": 24,
    "start_time": "2021-11-12T13:16:59.203Z"
   },
   {
    "duration": 54,
    "start_time": "2021-11-12T13:16:59.230Z"
   },
   {
    "duration": 12,
    "start_time": "2021-11-12T13:16:59.286Z"
   },
   {
    "duration": 10,
    "start_time": "2021-11-12T13:16:59.301Z"
   },
   {
    "duration": 27,
    "start_time": "2021-11-12T13:16:59.313Z"
   },
   {
    "duration": 46,
    "start_time": "2021-11-12T13:16:59.346Z"
   },
   {
    "duration": 157,
    "start_time": "2021-11-12T13:16:59.397Z"
   },
   {
    "duration": 33,
    "start_time": "2021-11-12T13:16:59.557Z"
   },
   {
    "duration": 125,
    "start_time": "2021-11-12T13:16:59.593Z"
   },
   {
    "duration": 70,
    "start_time": "2021-11-12T13:16:59.720Z"
   },
   {
    "duration": 32,
    "start_time": "2021-11-12T13:16:59.792Z"
   },
   {
    "duration": 99,
    "start_time": "2021-11-12T13:16:59.826Z"
   },
   {
    "duration": 35,
    "start_time": "2021-11-12T13:16:59.928Z"
   },
   {
    "duration": 24,
    "start_time": "2021-11-12T13:16:59.966Z"
   },
   {
    "duration": 46,
    "start_time": "2021-11-12T13:16:59.993Z"
   },
   {
    "duration": 7,
    "start_time": "2021-11-12T13:17:00.041Z"
   },
   {
    "duration": 146,
    "start_time": "2021-11-12T13:17:00.082Z"
   },
   {
    "duration": 8,
    "start_time": "2021-11-12T13:17:00.230Z"
   },
   {
    "duration": 61,
    "start_time": "2021-11-12T13:17:00.240Z"
   },
   {
    "duration": 17,
    "start_time": "2021-11-12T13:17:00.304Z"
   },
   {
    "duration": 64,
    "start_time": "2021-11-12T13:17:00.323Z"
   },
   {
    "duration": 22,
    "start_time": "2021-11-12T13:17:00.390Z"
   },
   {
    "duration": 670,
    "start_time": "2021-11-12T13:17:00.415Z"
   },
   {
    "duration": 813,
    "start_time": "2021-11-12T13:17:01.087Z"
   },
   {
    "duration": 661,
    "start_time": "2021-11-12T13:17:01.903Z"
   },
   {
    "duration": 613,
    "start_time": "2021-11-12T13:17:02.568Z"
   },
   {
    "duration": 670,
    "start_time": "2021-11-12T13:17:03.184Z"
   },
   {
    "duration": 619,
    "start_time": "2021-11-12T13:17:03.857Z"
   },
   {
    "duration": 777,
    "start_time": "2021-11-12T13:17:04.482Z"
   },
   {
    "duration": 651,
    "start_time": "2021-11-12T13:17:05.262Z"
   },
   {
    "duration": 659,
    "start_time": "2021-11-12T13:17:05.915Z"
   },
   {
    "duration": 6,
    "start_time": "2021-11-12T13:17:06.581Z"
   },
   {
    "duration": 17,
    "start_time": "2021-11-12T13:17:06.590Z"
   },
   {
    "duration": 7,
    "start_time": "2021-11-12T13:17:06.609Z"
   },
   {
    "duration": 655,
    "start_time": "2021-11-12T13:17:06.619Z"
   },
   {
    "duration": 680,
    "start_time": "2021-11-12T13:17:07.276Z"
   },
   {
    "duration": 36,
    "start_time": "2021-11-12T13:17:07.958Z"
   },
   {
    "duration": 8,
    "start_time": "2021-11-12T13:17:07.997Z"
   },
   {
    "duration": 9,
    "start_time": "2021-11-12T13:17:08.008Z"
   },
   {
    "duration": 12,
    "start_time": "2021-11-12T13:17:08.019Z"
   },
   {
    "duration": 8,
    "start_time": "2021-11-12T13:17:08.033Z"
   },
   {
    "duration": 648,
    "start_time": "2021-11-12T13:17:08.043Z"
   },
   {
    "duration": 870,
    "start_time": "2021-11-12T13:17:08.694Z"
   },
   {
    "duration": 6,
    "start_time": "2021-11-12T13:18:04.616Z"
   },
   {
    "duration": 418,
    "start_time": "2021-11-12T13:18:04.625Z"
   },
   {
    "duration": 26,
    "start_time": "2021-11-12T13:18:05.047Z"
   },
   {
    "duration": 14,
    "start_time": "2021-11-12T13:18:05.075Z"
   },
   {
    "duration": 42,
    "start_time": "2021-11-12T13:18:05.093Z"
   },
   {
    "duration": 20,
    "start_time": "2021-11-12T13:18:05.138Z"
   },
   {
    "duration": 35,
    "start_time": "2021-11-12T13:18:05.160Z"
   },
   {
    "duration": 31,
    "start_time": "2021-11-12T13:18:05.200Z"
   },
   {
    "duration": 53,
    "start_time": "2021-11-12T13:18:05.235Z"
   },
   {
    "duration": 13,
    "start_time": "2021-11-12T13:18:05.295Z"
   },
   {
    "duration": 10,
    "start_time": "2021-11-12T13:18:05.312Z"
   },
   {
    "duration": 19,
    "start_time": "2021-11-12T13:18:05.325Z"
   },
   {
    "duration": 12,
    "start_time": "2021-11-12T13:18:05.382Z"
   },
   {
    "duration": 29,
    "start_time": "2021-11-12T13:18:05.397Z"
   },
   {
    "duration": 26,
    "start_time": "2021-11-12T13:18:05.428Z"
   },
   {
    "duration": 31,
    "start_time": "2021-11-12T13:18:05.457Z"
   },
   {
    "duration": 13,
    "start_time": "2021-11-12T13:18:05.491Z"
   },
   {
    "duration": 25,
    "start_time": "2021-11-12T13:18:05.506Z"
   },
   {
    "duration": 51,
    "start_time": "2021-11-12T13:18:05.534Z"
   },
   {
    "duration": 12,
    "start_time": "2021-11-12T13:18:05.587Z"
   },
   {
    "duration": 10,
    "start_time": "2021-11-12T13:18:05.601Z"
   },
   {
    "duration": 18,
    "start_time": "2021-11-12T13:18:05.614Z"
   },
   {
    "duration": 14,
    "start_time": "2021-11-12T13:18:05.689Z"
   },
   {
    "duration": 108,
    "start_time": "2021-11-12T13:18:05.708Z"
   },
   {
    "duration": 15,
    "start_time": "2021-11-12T13:18:05.818Z"
   },
   {
    "duration": 104,
    "start_time": "2021-11-12T13:18:05.835Z"
   },
   {
    "duration": 66,
    "start_time": "2021-11-12T13:18:05.942Z"
   },
   {
    "duration": 37,
    "start_time": "2021-11-12T13:18:06.011Z"
   },
   {
    "duration": 108,
    "start_time": "2021-11-12T13:18:06.050Z"
   },
   {
    "duration": 62,
    "start_time": "2021-11-12T13:18:06.161Z"
   },
   {
    "duration": 13,
    "start_time": "2021-11-12T13:18:06.226Z"
   },
   {
    "duration": 82,
    "start_time": "2021-11-12T13:18:06.241Z"
   },
   {
    "duration": 7,
    "start_time": "2021-11-12T13:18:06.325Z"
   },
   {
    "duration": 169,
    "start_time": "2021-11-12T13:18:06.335Z"
   },
   {
    "duration": 11,
    "start_time": "2021-11-12T13:18:06.510Z"
   },
   {
    "duration": 38,
    "start_time": "2021-11-12T13:18:06.524Z"
   },
   {
    "duration": 31,
    "start_time": "2021-11-12T13:18:06.583Z"
   },
   {
    "duration": 85,
    "start_time": "2021-11-12T13:18:06.617Z"
   },
   {
    "duration": 25,
    "start_time": "2021-11-12T13:18:06.705Z"
   },
   {
    "duration": 1094,
    "start_time": "2021-11-12T13:18:06.732Z"
   },
   {
    "duration": 679,
    "start_time": "2021-11-12T13:18:07.829Z"
   },
   {
    "duration": 738,
    "start_time": "2021-11-12T13:18:08.510Z"
   },
   {
    "duration": 707,
    "start_time": "2021-11-12T13:18:09.250Z"
   },
   {
    "duration": 4,
    "start_time": "2021-11-12T13:18:17.046Z"
   },
   {
    "duration": 480,
    "start_time": "2021-11-12T13:18:17.054Z"
   },
   {
    "duration": 27,
    "start_time": "2021-11-12T13:18:17.537Z"
   },
   {
    "duration": 13,
    "start_time": "2021-11-12T13:18:17.567Z"
   },
   {
    "duration": 34,
    "start_time": "2021-11-12T13:18:17.583Z"
   },
   {
    "duration": 27,
    "start_time": "2021-11-12T13:18:17.619Z"
   },
   {
    "duration": 45,
    "start_time": "2021-11-12T13:18:17.649Z"
   },
   {
    "duration": 39,
    "start_time": "2021-11-12T13:18:17.696Z"
   },
   {
    "duration": 49,
    "start_time": "2021-11-12T13:18:17.739Z"
   },
   {
    "duration": 17,
    "start_time": "2021-11-12T13:18:17.793Z"
   },
   {
    "duration": 12,
    "start_time": "2021-11-12T13:18:17.812Z"
   },
   {
    "duration": 56,
    "start_time": "2021-11-12T13:18:17.826Z"
   },
   {
    "duration": 9,
    "start_time": "2021-11-12T13:18:17.884Z"
   },
   {
    "duration": 23,
    "start_time": "2021-11-12T13:18:17.896Z"
   },
   {
    "duration": 29,
    "start_time": "2021-11-12T13:18:17.922Z"
   },
   {
    "duration": 13,
    "start_time": "2021-11-12T13:18:17.983Z"
   },
   {
    "duration": 13,
    "start_time": "2021-11-12T13:18:17.999Z"
   },
   {
    "duration": 25,
    "start_time": "2021-11-12T13:18:18.015Z"
   },
   {
    "duration": 13,
    "start_time": "2021-11-12T13:18:18.083Z"
   },
   {
    "duration": 9,
    "start_time": "2021-11-12T13:18:18.099Z"
   },
   {
    "duration": 20,
    "start_time": "2021-11-12T13:18:18.111Z"
   },
   {
    "duration": 53,
    "start_time": "2021-11-12T13:18:18.134Z"
   },
   {
    "duration": 11,
    "start_time": "2021-11-12T13:18:18.190Z"
   },
   {
    "duration": 145,
    "start_time": "2021-11-12T13:18:18.204Z"
   },
   {
    "duration": 36,
    "start_time": "2021-11-12T13:18:18.352Z"
   },
   {
    "duration": 102,
    "start_time": "2021-11-12T13:18:18.391Z"
   },
   {
    "duration": 55,
    "start_time": "2021-11-12T13:18:18.495Z"
   },
   {
    "duration": 54,
    "start_time": "2021-11-12T13:18:18.552Z"
   },
   {
    "duration": 95,
    "start_time": "2021-11-12T13:18:18.608Z"
   },
   {
    "duration": 35,
    "start_time": "2021-11-12T13:18:18.705Z"
   },
   {
    "duration": 12,
    "start_time": "2021-11-12T13:18:18.743Z"
   },
   {
    "duration": 64,
    "start_time": "2021-11-12T13:18:18.758Z"
   },
   {
    "duration": 7,
    "start_time": "2021-11-12T13:18:18.824Z"
   },
   {
    "duration": 210,
    "start_time": "2021-11-12T13:18:18.833Z"
   },
   {
    "duration": 9,
    "start_time": "2021-11-12T13:18:19.045Z"
   },
   {
    "duration": 57,
    "start_time": "2021-11-12T13:18:19.057Z"
   },
   {
    "duration": 18,
    "start_time": "2021-11-12T13:18:19.116Z"
   },
   {
    "duration": 66,
    "start_time": "2021-11-12T13:18:19.136Z"
   },
   {
    "duration": 18,
    "start_time": "2021-11-12T13:18:19.205Z"
   },
   {
    "duration": 750,
    "start_time": "2021-11-12T13:18:19.226Z"
   },
   {
    "duration": 769,
    "start_time": "2021-11-12T13:18:19.981Z"
   },
   {
    "duration": 735,
    "start_time": "2021-11-12T13:18:20.753Z"
   },
   {
    "duration": 757,
    "start_time": "2021-11-12T13:18:21.491Z"
   },
   {
    "duration": 640,
    "start_time": "2021-11-12T13:18:22.250Z"
   },
   {
    "duration": 592,
    "start_time": "2021-11-12T13:18:22.893Z"
   },
   {
    "duration": 725,
    "start_time": "2021-11-12T13:18:23.488Z"
   },
   {
    "duration": 641,
    "start_time": "2021-11-12T13:18:24.216Z"
   },
   {
    "duration": 909,
    "start_time": "2021-11-12T13:18:24.859Z"
   },
   {
    "duration": 13,
    "start_time": "2021-11-12T13:18:25.771Z"
   },
   {
    "duration": 19,
    "start_time": "2021-11-12T13:18:25.787Z"
   },
   {
    "duration": 12,
    "start_time": "2021-11-12T13:18:25.809Z"
   },
   {
    "duration": 646,
    "start_time": "2021-11-12T13:18:25.823Z"
   },
   {
    "duration": 834,
    "start_time": "2021-11-12T13:18:26.472Z"
   },
   {
    "duration": 28,
    "start_time": "2021-11-12T13:18:27.308Z"
   },
   {
    "duration": 10,
    "start_time": "2021-11-12T13:18:27.339Z"
   },
   {
    "duration": 7,
    "start_time": "2021-11-12T13:18:27.358Z"
   },
   {
    "duration": 15,
    "start_time": "2021-11-12T13:18:27.368Z"
   },
   {
    "duration": 8,
    "start_time": "2021-11-12T13:18:27.385Z"
   },
   {
    "duration": 663,
    "start_time": "2021-11-12T13:18:27.396Z"
   },
   {
    "duration": 970,
    "start_time": "2021-11-12T13:18:28.061Z"
   },
   {
    "duration": 1084,
    "start_time": "2021-11-13T10:58:30.148Z"
   },
   {
    "duration": 332,
    "start_time": "2021-11-13T10:58:31.234Z"
   },
   {
    "duration": 16,
    "start_time": "2021-11-13T10:58:31.568Z"
   },
   {
    "duration": 11,
    "start_time": "2021-11-13T10:58:31.585Z"
   },
   {
    "duration": 27,
    "start_time": "2021-11-13T10:58:31.597Z"
   },
   {
    "duration": 13,
    "start_time": "2021-11-13T10:58:31.625Z"
   },
   {
    "duration": 7,
    "start_time": "2021-11-13T10:58:31.640Z"
   },
   {
    "duration": 43,
    "start_time": "2021-11-13T10:58:31.649Z"
   },
   {
    "duration": 9,
    "start_time": "2021-11-13T10:58:31.694Z"
   },
   {
    "duration": 8,
    "start_time": "2021-11-13T10:58:31.705Z"
   },
   {
    "duration": 8,
    "start_time": "2021-11-13T10:58:31.714Z"
   },
   {
    "duration": 13,
    "start_time": "2021-11-13T10:58:31.723Z"
   },
   {
    "duration": 6,
    "start_time": "2021-11-13T10:58:31.738Z"
   },
   {
    "duration": 11,
    "start_time": "2021-11-13T10:58:31.746Z"
   },
   {
    "duration": 40,
    "start_time": "2021-11-13T10:58:31.759Z"
   },
   {
    "duration": 7,
    "start_time": "2021-11-13T10:58:31.801Z"
   },
   {
    "duration": 10,
    "start_time": "2021-11-13T10:58:31.809Z"
   },
   {
    "duration": 22,
    "start_time": "2021-11-13T10:58:31.820Z"
   },
   {
    "duration": 7,
    "start_time": "2021-11-13T10:58:31.843Z"
   },
   {
    "duration": 6,
    "start_time": "2021-11-13T10:58:31.851Z"
   },
   {
    "duration": 38,
    "start_time": "2021-11-13T10:58:31.859Z"
   },
   {
    "duration": 16,
    "start_time": "2021-11-13T10:58:31.898Z"
   },
   {
    "duration": 8,
    "start_time": "2021-11-13T10:58:31.918Z"
   },
   {
    "duration": 75,
    "start_time": "2021-11-13T10:58:31.928Z"
   },
   {
    "duration": 9,
    "start_time": "2021-11-13T10:58:32.005Z"
   },
   {
    "duration": 57,
    "start_time": "2021-11-13T10:58:32.016Z"
   },
   {
    "duration": 49,
    "start_time": "2021-11-13T10:58:32.075Z"
   },
   {
    "duration": 25,
    "start_time": "2021-11-13T10:58:32.126Z"
   },
   {
    "duration": 70,
    "start_time": "2021-11-13T10:58:32.152Z"
   },
   {
    "duration": 29,
    "start_time": "2021-11-13T10:58:32.224Z"
   },
   {
    "duration": 8,
    "start_time": "2021-11-13T10:58:32.254Z"
   },
   {
    "duration": 43,
    "start_time": "2021-11-13T10:58:32.264Z"
   },
   {
    "duration": 4,
    "start_time": "2021-11-13T10:58:32.309Z"
   },
   {
    "duration": 81,
    "start_time": "2021-11-13T10:58:32.315Z"
   },
   {
    "duration": 5,
    "start_time": "2021-11-13T10:58:32.398Z"
   },
   {
    "duration": 28,
    "start_time": "2021-11-13T10:58:32.404Z"
   },
   {
    "duration": 11,
    "start_time": "2021-11-13T10:58:32.434Z"
   },
   {
    "duration": 48,
    "start_time": "2021-11-13T10:58:32.446Z"
   },
   {
    "duration": 10,
    "start_time": "2021-11-13T10:58:32.496Z"
   },
   {
    "duration": 383,
    "start_time": "2021-11-13T10:58:32.508Z"
   },
   {
    "duration": 385,
    "start_time": "2021-11-13T10:58:32.893Z"
   },
   {
    "duration": 371,
    "start_time": "2021-11-13T10:58:33.280Z"
   },
   {
    "duration": 416,
    "start_time": "2021-11-13T10:58:33.653Z"
   },
   {
    "duration": 368,
    "start_time": "2021-11-13T10:58:34.071Z"
   },
   {
    "duration": 352,
    "start_time": "2021-11-13T10:58:34.441Z"
   },
   {
    "duration": 399,
    "start_time": "2021-11-13T10:58:34.794Z"
   },
   {
    "duration": 396,
    "start_time": "2021-11-13T10:58:35.195Z"
   },
   {
    "duration": 390,
    "start_time": "2021-11-13T10:58:35.593Z"
   },
   {
    "duration": 8,
    "start_time": "2021-11-13T10:58:35.985Z"
   },
   {
    "duration": 17,
    "start_time": "2021-11-13T10:58:35.994Z"
   },
   {
    "duration": 7,
    "start_time": "2021-11-13T10:58:36.012Z"
   },
   {
    "duration": 433,
    "start_time": "2021-11-13T10:58:36.021Z"
   },
   {
    "duration": 395,
    "start_time": "2021-11-13T10:58:36.456Z"
   },
   {
    "duration": 15,
    "start_time": "2021-11-13T10:58:36.852Z"
   },
   {
    "duration": 5,
    "start_time": "2021-11-13T10:58:36.869Z"
   },
   {
    "duration": 5,
    "start_time": "2021-11-13T10:58:36.891Z"
   },
   {
    "duration": 6,
    "start_time": "2021-11-13T10:58:36.897Z"
   },
   {
    "duration": 8,
    "start_time": "2021-11-13T10:58:36.905Z"
   },
   {
    "duration": 370,
    "start_time": "2021-11-13T10:58:36.915Z"
   },
   {
    "duration": 376,
    "start_time": "2021-11-13T10:58:37.291Z"
   },
   {
    "duration": 14,
    "start_time": "2021-11-13T11:17:01.398Z"
   },
   {
    "duration": 394,
    "start_time": "2021-11-13T21:53:12.546Z"
   },
   {
    "duration": 1170,
    "start_time": "2021-11-13T21:53:17.676Z"
   },
   {
    "duration": 285,
    "start_time": "2021-11-13T21:53:18.847Z"
   },
   {
    "duration": 16,
    "start_time": "2021-11-13T21:53:19.134Z"
   },
   {
    "duration": 14,
    "start_time": "2021-11-13T21:53:19.152Z"
   },
   {
    "duration": 23,
    "start_time": "2021-11-13T21:53:19.167Z"
   },
   {
    "duration": 15,
    "start_time": "2021-11-13T21:53:19.192Z"
   },
   {
    "duration": 6,
    "start_time": "2021-11-13T21:53:19.209Z"
   },
   {
    "duration": 31,
    "start_time": "2021-11-13T21:53:19.217Z"
   },
   {
    "duration": 9,
    "start_time": "2021-11-13T21:53:19.250Z"
   },
   {
    "duration": 8,
    "start_time": "2021-11-13T21:53:19.261Z"
   },
   {
    "duration": 25,
    "start_time": "2021-11-13T21:53:19.271Z"
   },
   {
    "duration": 22,
    "start_time": "2021-11-13T21:53:19.298Z"
   },
   {
    "duration": 9,
    "start_time": "2021-11-13T21:53:19.321Z"
   },
   {
    "duration": 15,
    "start_time": "2021-11-13T21:53:19.332Z"
   },
   {
    "duration": 18,
    "start_time": "2021-11-13T21:53:19.348Z"
   },
   {
    "duration": 15,
    "start_time": "2021-11-13T21:53:19.368Z"
   },
   {
    "duration": 16,
    "start_time": "2021-11-13T21:53:19.384Z"
   },
   {
    "duration": 21,
    "start_time": "2021-11-13T21:53:19.401Z"
   },
   {
    "duration": 6,
    "start_time": "2021-11-13T21:53:19.423Z"
   },
   {
    "duration": 10,
    "start_time": "2021-11-13T21:53:19.431Z"
   },
   {
    "duration": 10,
    "start_time": "2021-11-13T21:53:19.442Z"
   },
   {
    "duration": 10,
    "start_time": "2021-11-13T21:53:19.453Z"
   },
   {
    "duration": 8,
    "start_time": "2021-11-13T21:53:19.466Z"
   },
   {
    "duration": 78,
    "start_time": "2021-11-13T21:53:19.476Z"
   },
   {
    "duration": 9,
    "start_time": "2021-11-13T21:53:19.556Z"
   },
   {
    "duration": 66,
    "start_time": "2021-11-13T21:53:19.567Z"
   },
   {
    "duration": 33,
    "start_time": "2021-11-13T21:53:19.635Z"
   },
   {
    "duration": 36,
    "start_time": "2021-11-13T21:53:19.670Z"
   },
   {
    "duration": 46,
    "start_time": "2021-11-13T21:53:19.708Z"
   },
   {
    "duration": 26,
    "start_time": "2021-11-13T21:53:19.756Z"
   },
   {
    "duration": 25,
    "start_time": "2021-11-13T21:53:19.783Z"
   },
   {
    "duration": 24,
    "start_time": "2021-11-13T21:53:19.809Z"
   },
   {
    "duration": 4,
    "start_time": "2021-11-13T21:53:19.834Z"
   },
   {
    "duration": 90,
    "start_time": "2021-11-13T21:53:19.840Z"
   },
   {
    "duration": 5,
    "start_time": "2021-11-13T21:53:19.932Z"
   },
   {
    "duration": 50,
    "start_time": "2021-11-13T21:53:19.938Z"
   },
   {
    "duration": 10,
    "start_time": "2021-11-13T21:53:19.989Z"
   },
   {
    "duration": 30,
    "start_time": "2021-11-13T21:53:20.001Z"
   },
   {
    "duration": 12,
    "start_time": "2021-11-13T21:53:20.033Z"
   },
   {
    "duration": 334,
    "start_time": "2021-11-13T21:53:20.046Z"
   },
   {
    "duration": 360,
    "start_time": "2021-11-13T21:53:20.381Z"
   },
   {
    "duration": 348,
    "start_time": "2021-11-13T21:53:20.742Z"
   },
   {
    "duration": 408,
    "start_time": "2021-11-13T21:53:21.092Z"
   },
   {
    "duration": 361,
    "start_time": "2021-11-13T21:53:21.506Z"
   },
   {
    "duration": 323,
    "start_time": "2021-11-13T21:53:21.869Z"
   },
   {
    "duration": 346,
    "start_time": "2021-11-13T21:53:22.194Z"
   },
   {
    "duration": 356,
    "start_time": "2021-11-13T21:53:22.542Z"
   },
   {
    "duration": 362,
    "start_time": "2021-11-13T21:53:22.900Z"
   },
   {
    "duration": 6,
    "start_time": "2021-11-13T21:53:23.263Z"
   },
   {
    "duration": 10,
    "start_time": "2021-11-13T21:53:23.270Z"
   },
   {
    "duration": 24,
    "start_time": "2021-11-13T21:53:23.282Z"
   },
   {
    "duration": 416,
    "start_time": "2021-11-13T21:53:23.308Z"
   },
   {
    "duration": 358,
    "start_time": "2021-11-13T21:53:23.726Z"
   },
   {
    "duration": 28,
    "start_time": "2021-11-13T21:53:24.086Z"
   },
   {
    "duration": 5,
    "start_time": "2021-11-13T21:53:24.115Z"
   },
   {
    "duration": 9,
    "start_time": "2021-11-13T21:53:24.122Z"
   },
   {
    "duration": 9,
    "start_time": "2021-11-13T21:53:24.132Z"
   },
   {
    "duration": 17,
    "start_time": "2021-11-13T21:53:24.142Z"
   },
   {
    "duration": 327,
    "start_time": "2021-11-13T21:53:24.161Z"
   },
   {
    "duration": 356,
    "start_time": "2021-11-13T21:53:24.489Z"
   },
   {
    "duration": 285,
    "start_time": "2021-11-13T21:53:42.525Z"
   },
   {
    "duration": 8519,
    "start_time": "2021-11-13T21:53:51.762Z"
   },
   {
    "duration": 3,
    "start_time": "2021-11-13T21:55:05.106Z"
   },
   {
    "duration": 314,
    "start_time": "2021-11-13T21:55:05.111Z"
   },
   {
    "duration": 16,
    "start_time": "2021-11-13T21:55:05.426Z"
   },
   {
    "duration": 10,
    "start_time": "2021-11-13T21:55:05.444Z"
   },
   {
    "duration": 29,
    "start_time": "2021-11-13T21:55:05.456Z"
   },
   {
    "duration": 13,
    "start_time": "2021-11-13T21:55:05.486Z"
   },
   {
    "duration": 11,
    "start_time": "2021-11-13T21:55:05.501Z"
   },
   {
    "duration": 23,
    "start_time": "2021-11-13T21:55:05.514Z"
   },
   {
    "duration": 10,
    "start_time": "2021-11-13T21:55:05.538Z"
   },
   {
    "duration": 9,
    "start_time": "2021-11-13T21:55:05.549Z"
   },
   {
    "duration": 10,
    "start_time": "2021-11-13T21:55:05.560Z"
   },
   {
    "duration": 11,
    "start_time": "2021-11-13T21:55:05.572Z"
   },
   {
    "duration": 24,
    "start_time": "2021-11-13T21:55:05.585Z"
   },
   {
    "duration": 10,
    "start_time": "2021-11-13T21:55:05.611Z"
   },
   {
    "duration": 21,
    "start_time": "2021-11-13T21:55:05.622Z"
   },
   {
    "duration": 6,
    "start_time": "2021-11-13T21:55:05.645Z"
   },
   {
    "duration": 12,
    "start_time": "2021-11-13T21:55:05.653Z"
   },
   {
    "duration": 16,
    "start_time": "2021-11-13T21:55:05.666Z"
   },
   {
    "duration": 7,
    "start_time": "2021-11-13T21:55:05.708Z"
   },
   {
    "duration": 8,
    "start_time": "2021-11-13T21:55:05.717Z"
   },
   {
    "duration": 9,
    "start_time": "2021-11-13T21:55:05.726Z"
   },
   {
    "duration": 10,
    "start_time": "2021-11-13T21:55:05.737Z"
   },
   {
    "duration": 7,
    "start_time": "2021-11-13T21:55:05.748Z"
   },
   {
    "duration": 93,
    "start_time": "2021-11-13T21:55:05.757Z"
   },
   {
    "duration": 10,
    "start_time": "2021-11-13T21:55:05.851Z"
   },
   {
    "duration": 68,
    "start_time": "2021-11-13T21:55:05.862Z"
   },
   {
    "duration": 35,
    "start_time": "2021-11-13T21:55:05.932Z"
   },
   {
    "duration": 38,
    "start_time": "2021-11-13T21:55:05.969Z"
   },
   {
    "duration": 45,
    "start_time": "2021-11-13T21:55:06.009Z"
   },
   {
    "duration": 25,
    "start_time": "2021-11-13T21:55:06.055Z"
   },
   {
    "duration": 31,
    "start_time": "2021-11-13T21:55:06.082Z"
   },
   {
    "duration": 121,
    "start_time": "2021-11-13T21:55:06.115Z"
   },
   {
    "duration": 319,
    "start_time": "2021-11-13T21:55:05.920Z"
   },
   {
    "duration": 315,
    "start_time": "2021-11-13T21:55:05.925Z"
   },
   {
    "duration": 314,
    "start_time": "2021-11-13T21:55:05.928Z"
   },
   {
    "duration": 312,
    "start_time": "2021-11-13T21:55:05.931Z"
   },
   {
    "duration": 309,
    "start_time": "2021-11-13T21:55:05.936Z"
   },
   {
    "duration": 269,
    "start_time": "2021-11-13T21:55:05.977Z"
   },
   {
    "duration": 267,
    "start_time": "2021-11-13T21:55:05.980Z"
   },
   {
    "duration": 261,
    "start_time": "2021-11-13T21:55:05.988Z"
   },
   {
    "duration": 253,
    "start_time": "2021-11-13T21:55:05.997Z"
   },
   {
    "duration": 246,
    "start_time": "2021-11-13T21:55:06.005Z"
   },
   {
    "duration": 239,
    "start_time": "2021-11-13T21:55:06.014Z"
   },
   {
    "duration": 233,
    "start_time": "2021-11-13T21:55:06.021Z"
   },
   {
    "duration": 224,
    "start_time": "2021-11-13T21:55:06.031Z"
   },
   {
    "duration": 218,
    "start_time": "2021-11-13T21:55:06.039Z"
   },
   {
    "duration": 209,
    "start_time": "2021-11-13T21:55:06.049Z"
   },
   {
    "duration": 202,
    "start_time": "2021-11-13T21:55:06.057Z"
   },
   {
    "duration": 190,
    "start_time": "2021-11-13T21:55:06.071Z"
   },
   {
    "duration": 179,
    "start_time": "2021-11-13T21:55:06.083Z"
   },
   {
    "duration": 167,
    "start_time": "2021-11-13T21:55:06.096Z"
   },
   {
    "duration": 164,
    "start_time": "2021-11-13T21:55:06.101Z"
   },
   {
    "duration": 148,
    "start_time": "2021-11-13T21:55:06.118Z"
   },
   {
    "duration": 143,
    "start_time": "2021-11-13T21:55:06.124Z"
   },
   {
    "duration": 141,
    "start_time": "2021-11-13T21:55:06.127Z"
   },
   {
    "duration": 139,
    "start_time": "2021-11-13T21:55:06.131Z"
   },
   {
    "duration": 132,
    "start_time": "2021-11-13T21:55:06.139Z"
   },
   {
    "duration": 127,
    "start_time": "2021-11-13T21:55:06.145Z"
   },
   {
    "duration": 122,
    "start_time": "2021-11-13T21:55:06.152Z"
   },
   {
    "duration": 114,
    "start_time": "2021-11-13T21:55:06.161Z"
   },
   {
    "duration": 109,
    "start_time": "2021-11-13T21:55:06.168Z"
   },
   {
    "duration": 5,
    "start_time": "2021-11-13T22:13:07.804Z"
   },
   {
    "duration": 3,
    "start_time": "2021-11-13T22:13:11.472Z"
   },
   {
    "duration": 286,
    "start_time": "2021-11-13T22:13:11.477Z"
   },
   {
    "duration": 14,
    "start_time": "2021-11-13T22:13:11.765Z"
   },
   {
    "duration": 7,
    "start_time": "2021-11-13T22:13:11.780Z"
   },
   {
    "duration": 25,
    "start_time": "2021-11-13T22:13:11.788Z"
   },
   {
    "duration": 12,
    "start_time": "2021-11-13T22:13:11.815Z"
   },
   {
    "duration": 8,
    "start_time": "2021-11-13T22:13:11.828Z"
   },
   {
    "duration": 21,
    "start_time": "2021-11-13T22:13:11.837Z"
   },
   {
    "duration": 12,
    "start_time": "2021-11-13T22:13:11.861Z"
   },
   {
    "duration": 33,
    "start_time": "2021-11-13T22:13:11.875Z"
   },
   {
    "duration": 7,
    "start_time": "2021-11-13T22:13:11.910Z"
   },
   {
    "duration": 11,
    "start_time": "2021-11-13T22:13:11.919Z"
   },
   {
    "duration": 8,
    "start_time": "2021-11-13T22:13:11.932Z"
   },
   {
    "duration": 10,
    "start_time": "2021-11-13T22:13:11.941Z"
   },
   {
    "duration": 15,
    "start_time": "2021-11-13T22:13:11.953Z"
   },
   {
    "duration": 44,
    "start_time": "2021-11-13T22:13:11.970Z"
   },
   {
    "duration": 8,
    "start_time": "2021-11-13T22:13:12.015Z"
   },
   {
    "duration": 15,
    "start_time": "2021-11-13T22:13:12.025Z"
   },
   {
    "duration": 7,
    "start_time": "2021-11-13T22:13:12.042Z"
   },
   {
    "duration": 7,
    "start_time": "2021-11-13T22:13:12.051Z"
   },
   {
    "duration": 10,
    "start_time": "2021-11-13T22:13:12.060Z"
   },
   {
    "duration": 11,
    "start_time": "2021-11-13T22:13:12.107Z"
   },
   {
    "duration": 12,
    "start_time": "2021-11-13T22:13:12.120Z"
   },
   {
    "duration": 73,
    "start_time": "2021-11-13T22:13:12.134Z"
   },
   {
    "duration": 10,
    "start_time": "2021-11-13T22:13:12.209Z"
   },
   {
    "duration": 52,
    "start_time": "2021-11-13T22:13:12.221Z"
   },
   {
    "duration": 56,
    "start_time": "2021-11-13T22:13:12.278Z"
   },
   {
    "duration": 22,
    "start_time": "2021-11-13T22:13:12.337Z"
   },
   {
    "duration": 68,
    "start_time": "2021-11-13T22:13:12.361Z"
   },
   {
    "duration": 22,
    "start_time": "2021-11-13T22:13:12.431Z"
   },
   {
    "duration": 8,
    "start_time": "2021-11-13T22:13:12.454Z"
   },
   {
    "duration": 48,
    "start_time": "2021-11-13T22:13:12.464Z"
   },
   {
    "duration": 6,
    "start_time": "2021-11-13T22:13:12.515Z"
   },
   {
    "duration": 97,
    "start_time": "2021-11-13T22:13:12.523Z"
   },
   {
    "duration": 5,
    "start_time": "2021-11-13T22:13:12.621Z"
   },
   {
    "duration": 35,
    "start_time": "2021-11-13T22:13:12.628Z"
   },
   {
    "duration": 15,
    "start_time": "2021-11-13T22:13:12.665Z"
   },
   {
    "duration": 28,
    "start_time": "2021-11-13T22:13:12.681Z"
   },
   {
    "duration": 10,
    "start_time": "2021-11-13T22:13:12.710Z"
   },
   {
    "duration": 364,
    "start_time": "2021-11-13T22:13:12.721Z"
   },
   {
    "duration": 445,
    "start_time": "2021-11-13T22:13:13.087Z"
   },
   {
    "duration": 357,
    "start_time": "2021-11-13T22:13:13.534Z"
   },
   {
    "duration": 337,
    "start_time": "2021-11-13T22:13:13.892Z"
   },
   {
    "duration": 347,
    "start_time": "2021-11-13T22:13:14.231Z"
   },
   {
    "duration": 316,
    "start_time": "2021-11-13T22:13:14.579Z"
   },
   {
    "duration": 343,
    "start_time": "2021-11-13T22:13:14.896Z"
   },
   {
    "duration": 425,
    "start_time": "2021-11-13T22:13:15.240Z"
   },
   {
    "duration": 362,
    "start_time": "2021-11-13T22:13:15.666Z"
   },
   {
    "duration": 4,
    "start_time": "2021-11-13T22:13:16.030Z"
   },
   {
    "duration": 11,
    "start_time": "2021-11-13T22:13:16.036Z"
   },
   {
    "duration": 13,
    "start_time": "2021-11-13T22:13:16.049Z"
   },
   {
    "duration": 331,
    "start_time": "2021-11-13T22:13:16.063Z"
   },
   {
    "duration": 358,
    "start_time": "2021-11-13T22:13:16.395Z"
   },
   {
    "duration": 15,
    "start_time": "2021-11-13T22:13:16.754Z"
   },
   {
    "duration": 6,
    "start_time": "2021-11-13T22:13:16.770Z"
   },
   {
    "duration": 6,
    "start_time": "2021-11-13T22:13:16.777Z"
   },
   {
    "duration": 22,
    "start_time": "2021-11-13T22:13:16.784Z"
   },
   {
    "duration": 4,
    "start_time": "2021-11-13T22:13:16.808Z"
   },
   {
    "duration": 342,
    "start_time": "2021-11-13T22:13:16.813Z"
   },
   {
    "duration": 422,
    "start_time": "2021-11-13T22:13:17.157Z"
   },
   {
    "duration": 377,
    "start_time": "2021-11-13T22:14:45.082Z"
   },
   {
    "duration": 121,
    "start_time": "2021-11-13T22:15:29.872Z"
   },
   {
    "duration": 347,
    "start_time": "2021-11-13T22:15:52.033Z"
   },
   {
    "duration": 648,
    "start_time": "2021-11-13T22:19:01.906Z"
   },
   {
    "duration": 377,
    "start_time": "2021-11-13T22:19:21.167Z"
   },
   {
    "duration": 113,
    "start_time": "2021-11-13T22:19:45.779Z"
   },
   {
    "duration": 392,
    "start_time": "2021-11-13T22:20:07.867Z"
   },
   {
    "duration": 401,
    "start_time": "2021-11-13T22:20:34.108Z"
   },
   {
    "duration": 700,
    "start_time": "2021-11-13T22:20:47.850Z"
   },
   {
    "duration": 375,
    "start_time": "2021-11-13T22:20:59.051Z"
   },
   {
    "duration": 396,
    "start_time": "2021-11-13T22:21:11.796Z"
   },
   {
    "duration": 381,
    "start_time": "2021-11-13T22:21:35.744Z"
   },
   {
    "duration": 375,
    "start_time": "2021-11-13T22:21:44.074Z"
   },
   {
    "duration": 392,
    "start_time": "2021-11-13T22:22:13.409Z"
   },
   {
    "duration": 495,
    "start_time": "2021-11-13T22:22:20.111Z"
   },
   {
    "duration": 390,
    "start_time": "2021-11-13T22:22:45.857Z"
   },
   {
    "duration": 776,
    "start_time": "2021-11-13T22:22:52.592Z"
   },
   {
    "duration": 416,
    "start_time": "2021-11-13T22:23:02.184Z"
   },
   {
    "duration": 448,
    "start_time": "2021-11-13T22:24:05.740Z"
   },
   {
    "duration": 865,
    "start_time": "2021-11-13T22:24:27.051Z"
   },
   {
    "duration": 440,
    "start_time": "2021-11-13T22:24:36.149Z"
   },
   {
    "duration": 117,
    "start_time": "2021-11-13T22:26:29.094Z"
   },
   {
    "duration": 377,
    "start_time": "2021-11-13T22:37:38.613Z"
   },
   {
    "duration": 348,
    "start_time": "2021-11-13T22:38:28.196Z"
   },
   {
    "duration": 388,
    "start_time": "2021-11-13T22:39:56.439Z"
   },
   {
    "duration": 137,
    "start_time": "2021-11-13T22:41:16.354Z"
   },
   {
    "duration": 399,
    "start_time": "2021-11-13T22:41:31.324Z"
   },
   {
    "duration": 1204,
    "start_time": "2021-11-14T10:51:13.965Z"
   },
   {
    "duration": 299,
    "start_time": "2021-11-14T10:51:15.172Z"
   },
   {
    "duration": 22,
    "start_time": "2021-11-14T10:51:15.473Z"
   },
   {
    "duration": 11,
    "start_time": "2021-11-14T10:51:15.497Z"
   },
   {
    "duration": 22,
    "start_time": "2021-11-14T10:51:15.510Z"
   },
   {
    "duration": 17,
    "start_time": "2021-11-14T10:51:15.533Z"
   },
   {
    "duration": 7,
    "start_time": "2021-11-14T10:51:15.552Z"
   },
   {
    "duration": 20,
    "start_time": "2021-11-14T10:51:15.562Z"
   },
   {
    "duration": 14,
    "start_time": "2021-11-14T10:51:15.585Z"
   },
   {
    "duration": 8,
    "start_time": "2021-11-14T10:51:15.601Z"
   },
   {
    "duration": 41,
    "start_time": "2021-11-14T10:51:15.611Z"
   },
   {
    "duration": 11,
    "start_time": "2021-11-14T10:51:15.654Z"
   },
   {
    "duration": 17,
    "start_time": "2021-11-14T10:51:15.666Z"
   },
   {
    "duration": 13,
    "start_time": "2021-11-14T10:51:15.685Z"
   },
   {
    "duration": 14,
    "start_time": "2021-11-14T10:51:15.699Z"
   },
   {
    "duration": 34,
    "start_time": "2021-11-14T10:51:15.715Z"
   },
   {
    "duration": 9,
    "start_time": "2021-11-14T10:51:15.751Z"
   },
   {
    "duration": 18,
    "start_time": "2021-11-14T10:51:15.762Z"
   },
   {
    "duration": 7,
    "start_time": "2021-11-14T10:51:15.782Z"
   },
   {
    "duration": 6,
    "start_time": "2021-11-14T10:51:15.790Z"
   },
   {
    "duration": 6,
    "start_time": "2021-11-14T10:51:15.798Z"
   },
   {
    "duration": 12,
    "start_time": "2021-11-14T10:51:15.845Z"
   },
   {
    "duration": 8,
    "start_time": "2021-11-14T10:51:15.861Z"
   },
   {
    "duration": 77,
    "start_time": "2021-11-14T10:51:15.872Z"
   },
   {
    "duration": 10,
    "start_time": "2021-11-14T10:51:15.951Z"
   },
   {
    "duration": 59,
    "start_time": "2021-11-14T10:51:15.963Z"
   },
   {
    "duration": 53,
    "start_time": "2021-11-14T10:51:16.024Z"
   },
   {
    "duration": 22,
    "start_time": "2021-11-14T10:51:16.079Z"
   },
   {
    "duration": 66,
    "start_time": "2021-11-14T10:51:16.103Z"
   },
   {
    "duration": 23,
    "start_time": "2021-11-14T10:51:16.171Z"
   },
   {
    "duration": 8,
    "start_time": "2021-11-14T10:51:16.195Z"
   },
   {
    "duration": 48,
    "start_time": "2021-11-14T10:51:16.205Z"
   },
   {
    "duration": 4,
    "start_time": "2021-11-14T10:51:16.255Z"
   },
   {
    "duration": 53,
    "start_time": "2021-11-14T10:51:16.261Z"
   },
   {
    "duration": 7,
    "start_time": "2021-11-14T10:51:16.315Z"
   },
   {
    "duration": 44,
    "start_time": "2021-11-14T10:51:16.323Z"
   },
   {
    "duration": 9,
    "start_time": "2021-11-14T10:51:16.369Z"
   },
   {
    "duration": 31,
    "start_time": "2021-11-14T10:51:16.380Z"
   },
   {
    "duration": 13,
    "start_time": "2021-11-14T10:51:16.444Z"
   },
   {
    "duration": 638,
    "start_time": "2021-11-14T10:51:16.460Z"
   },
   {
    "duration": 675,
    "start_time": "2021-11-14T10:51:17.101Z"
   },
   {
    "duration": 708,
    "start_time": "2021-11-14T10:51:17.780Z"
   },
   {
    "duration": 692,
    "start_time": "2021-11-14T10:51:18.491Z"
   },
   {
    "duration": 629,
    "start_time": "2021-11-14T10:51:19.185Z"
   },
   {
    "duration": 634,
    "start_time": "2021-11-14T10:51:19.817Z"
   },
   {
    "duration": 626,
    "start_time": "2021-11-14T10:51:20.453Z"
   },
   {
    "duration": 636,
    "start_time": "2021-11-14T10:51:21.081Z"
   },
   {
    "duration": 834,
    "start_time": "2021-11-14T10:51:21.720Z"
   },
   {
    "duration": 803,
    "start_time": "2021-11-14T10:51:22.556Z"
   },
   {
    "duration": 446,
    "start_time": "2021-11-14T10:51:23.361Z"
   },
   {
    "duration": 502,
    "start_time": "2021-11-14T10:51:23.808Z"
   },
   {
    "duration": 5,
    "start_time": "2021-11-14T10:51:24.311Z"
   },
   {
    "duration": 8,
    "start_time": "2021-11-14T10:51:24.317Z"
   },
   {
    "duration": 21,
    "start_time": "2021-11-14T10:51:24.326Z"
   },
   {
    "duration": 362,
    "start_time": "2021-11-14T10:51:24.349Z"
   },
   {
    "duration": 436,
    "start_time": "2021-11-14T10:51:24.712Z"
   },
   {
    "duration": 15,
    "start_time": "2021-11-14T10:51:25.149Z"
   },
   {
    "duration": 6,
    "start_time": "2021-11-14T10:51:25.166Z"
   },
   {
    "duration": 7,
    "start_time": "2021-11-14T10:51:25.173Z"
   },
   {
    "duration": 7,
    "start_time": "2021-11-14T10:51:25.182Z"
   },
   {
    "duration": 5,
    "start_time": "2021-11-14T10:51:25.191Z"
   },
   {
    "duration": 475,
    "start_time": "2021-11-14T10:51:25.198Z"
   },
   {
    "duration": 431,
    "start_time": "2021-11-14T10:51:25.675Z"
   },
   {
    "duration": 16,
    "start_time": "2021-11-14T10:56:35.354Z"
   },
   {
    "duration": 482,
    "start_time": "2021-11-14T10:58:05.409Z"
   }
  ],
  "kernelspec": {
   "display_name": "Python 3 (ipykernel)",
   "language": "python",
   "name": "python3"
  },
  "language_info": {
   "codemirror_mode": {
    "name": "ipython",
    "version": 3
   },
   "file_extension": ".py",
   "mimetype": "text/x-python",
   "name": "python",
   "nbconvert_exporter": "python",
   "pygments_lexer": "ipython3",
   "version": "3.9.7"
  },
  "toc": {
   "base_numbering": 1,
   "nav_menu": {},
   "number_sections": true,
   "sideBar": true,
   "skip_h1_title": true,
   "title_cell": "Table of Contents",
   "title_sidebar": "Contents",
   "toc_cell": false,
   "toc_position": {},
   "toc_section_display": true,
   "toc_window_display": false
  }
 },
 "nbformat": 4,
 "nbformat_minor": 2
}
